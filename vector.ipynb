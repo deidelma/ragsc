{
 "cells": [
  {
   "cell_type": "code",
   "execution_count": 1,
   "metadata": {},
   "outputs": [],
   "source": [
    "from pathlib import Path\n",
    "from langchain_core.documents import Document\n",
    "from loguru import logger\n",
    "from langchain_community.document_loaders.markdown import UnstructuredMarkdownLoader\n",
    "from langchain_openai import OpenAIEmbeddings\n",
    "from langchain_core.embeddings import Embeddings\n",
    "from tqdm import tqdm\n",
    "from typing import Any"
   ]
  },
  {
   "cell_type": "code",
   "execution_count": 9,
   "metadata": {},
   "outputs": [
    {
     "name": "stderr",
     "output_type": "stream",
     "text": [
      "\u001b[32m2024-04-29 17:13:30.092\u001b[0m | \u001b[1mINFO    \u001b[0m | \u001b[36m__main__\u001b[0m:\u001b[36m<module>\u001b[0m:\u001b[36m2\u001b[0m - \u001b[1mfound 869 files\u001b[0m\n"
     ]
    }
   ],
   "source": [
    "file_list = list(Path(\"data\").glob(\"*.md\"))\n",
    "logger.info(\"found %d files\" % len(file_list))"
   ]
  },
  {
   "cell_type": "code",
   "execution_count": 11,
   "metadata": {},
   "outputs": [],
   "source": [
    "def load_markdown_files(files: list[Path]) -> list[Document]:\n",
    "    result = []\n",
    "    for file in tqdm(files):\n",
    "        loader = UnstructuredMarkdownLoader(file_path=file.as_posix(), mode=\"elements\")\n",
    "        result.append(loader.load())\n",
    "    logger.info(f\"Loaded {len(result)} files\")\n",
    "    return result"
   ]
  },
  {
   "cell_type": "code",
   "execution_count": 4,
   "metadata": {},
   "outputs": [],
   "source": [
    "from dataclasses import dataclass\n",
    "\n",
    "\n",
    "@dataclass\n",
    "class EmbeddedPage:\n",
    "    embedding: list[float]\n",
    "    metadata: dict[str, Any]"
   ]
  },
  {
   "cell_type": "code",
   "execution_count": 24,
   "metadata": {},
   "outputs": [],
   "source": [
    "def embed_doc(doc: Document, embeddings: Embeddings) -> list[EmbeddedPage]:\n",
    "    texts: list[str] = [x.page_content for x in doc]  # type: ignore\n",
    "    metadata: list[dict[str, Any]] = [x.metadata for x in doc]  # type: ignore\n",
    "    embeds: list[list[float]] = embeddings.embed_documents(texts)\n",
    "    pages = []\n",
    "    for i in range(len(embeds)):\n",
    "        pages.append(EmbeddedPage(embeds[i], metadata=f\"{metadata[i][\"source\"]}-{i:04d}\")) # type: ignore\n",
    "    return pages"
   ]
  },
  {
   "cell_type": "code",
   "execution_count": 25,
   "metadata": {},
   "outputs": [],
   "source": [
    "embeddings = OpenAIEmbeddings(model=\"text-embedding-ada-002\")"
   ]
  },
  {
   "cell_type": "code",
   "execution_count": 22,
   "metadata": {},
   "outputs": [
    {
     "name": "stderr",
     "output_type": "stream",
     "text": [
      "100%|██████████| 869/869 [00:07<00:00, 112.18it/s]\n",
      "\u001b[32m2024-04-29 17:26:57.589\u001b[0m | \u001b[1mINFO    \u001b[0m | \u001b[36m__main__\u001b[0m:\u001b[36mload_markdown_files\u001b[0m:\u001b[36m6\u001b[0m - \u001b[1mLoaded 869 files\u001b[0m\n",
      "\u001b[32m2024-04-29 17:26:57.590\u001b[0m | \u001b[1mINFO    \u001b[0m | \u001b[36m__main__\u001b[0m:\u001b[36m<module>\u001b[0m:\u001b[36m2\u001b[0m - \u001b[1mLoaded 869 markdown files\u001b[0m\n"
     ]
    }
   ],
   "source": [
    "markdown_files = load_markdown_files(file_list)\n",
    "logger.info(\"Loaded %d markdown files\" % len(markdown_files))"
   ]
  },
  {
   "cell_type": "code",
   "execution_count": 26,
   "metadata": {},
   "outputs": [
    {
     "name": "stderr",
     "output_type": "stream",
     "text": [
      "\u001b[32m2024-04-29 17:27:38.938\u001b[0m | \u001b[1mINFO    \u001b[0m | \u001b[36m__main__\u001b[0m:\u001b[36m<module>\u001b[0m:\u001b[36m5\u001b[0m - \u001b[1mfound 42 pages in {'source': 'data/demetra-20220420.md', 'last_modified': '2022-04-20T14:50:27', 'page_number': 1, 'languages': ['eng'], 'filetype': 'text/markdown', 'file_directory': 'data', 'filename': 'demetra-20220420.md', 'category': 'Title'}\u001b[0m\n"
     ]
    }
   ],
   "source": [
    "#\n",
    "# for testing, create embeddings for one file\n",
    "#\n",
    "pages = embed_doc(markdown_files[0], embeddings)\n",
    "logger.info('found %d pages in %s' % (len(pages), markdown_files[0][0].metadata))"
   ]
  },
  {
   "cell_type": "code",
   "execution_count": 27,
   "metadata": {},
   "outputs": [
    {
     "data": {
      "text/plain": [
       "'data/demetra-20220420.md-0000'"
      ]
     },
     "execution_count": 27,
     "metadata": {},
     "output_type": "execute_result"
    }
   ],
   "source": [
    "pages[0].metadata"
   ]
  },
  {
   "cell_type": "code",
   "execution_count": 28,
   "metadata": {},
   "outputs": [
    {
     "data": {
      "text/plain": [
       "'data/demetra-20220420.md-0001'"
      ]
     },
     "execution_count": 28,
     "metadata": {},
     "output_type": "execute_result"
    }
   ],
   "source": [
    "pages[1].metadata"
   ]
  },
  {
   "cell_type": "code",
   "execution_count": 30,
   "metadata": {},
   "outputs": [
    {
     "data": {
      "text/plain": [
       "'data/demetra-20220420.md-0041'"
      ]
     },
     "execution_count": 30,
     "metadata": {},
     "output_type": "execute_result"
    }
   ],
   "source": [
    "pages[41].metadata"
   ]
  },
  {
   "cell_type": "code",
   "execution_count": null,
   "metadata": {},
   "outputs": [],
   "source": []
  }
 ],
 "metadata": {
  "kernelspec": {
   "display_name": "ragsc-rGBOy1v8-py3.12",
   "language": "python",
   "name": "python3"
  },
  "language_info": {
   "codemirror_mode": {
    "name": "ipython",
    "version": 3
   },
   "file_extension": ".py",
   "mimetype": "text/x-python",
   "name": "python",
   "nbconvert_exporter": "python",
   "pygments_lexer": "ipython3",
   "version": "3.12.2"
  }
 },
 "nbformat": 4,
 "nbformat_minor": 2
}
