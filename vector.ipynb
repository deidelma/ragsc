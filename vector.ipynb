{
 "cells": [
  {
   "cell_type": "code",
   "execution_count": null,
   "metadata": {},
   "outputs": [],
   "source": [
    "from os import PathLike\n",
    "from pathlib import Path\n",
    "from langchain_core.documents import Document\n",
    "from loguru import logger\n",
    "from langchain_community.document_loaders.markdown import UnstructuredMarkdownLoader\n",
    "from langchain_openai import OpenAIEmbeddings\n",
    "from tqdm import tqdm\n",
    "from typing import Any"
   ]
  },
  {
   "cell_type": "code",
   "execution_count": 4,
   "metadata": {},
   "outputs": [],
   "source": [
    "files = list(Path(\"data\").glob(\"*.md\"))"
   ]
  },
  {
   "cell_type": "code",
   "execution_count": 6,
   "metadata": {},
   "outputs": [
    {
     "name": "stderr",
     "output_type": "stream",
     "text": [
      "100%|██████████| 869/869 [00:09<00:00, 89.48it/s] \n",
      "\u001b[32m2024-04-28 19:38:47.114\u001b[0m | \u001b[1mINFO    \u001b[0m | \u001b[36m__main__\u001b[0m:\u001b[36m<module>\u001b[0m:\u001b[36m5\u001b[0m - \u001b[1mLoaded 869 files\u001b[0m\n"
     ]
    }
   ],
   "source": [
    "docs = []\n",
    "for file in tqdm(files):\n",
    "    loader = UnstructuredMarkdownLoader(file_path=file.as_posix(), mode=\"elements\")\n",
    "    docs.append(loader.load())\n",
    "logger.info(f\"Loaded {len(docs)} files\")"
   ]
  },
  {
   "cell_type": "code",
   "execution_count": 21,
   "metadata": {},
   "outputs": [
    {
     "name": "stderr",
     "output_type": "stream",
     "text": [
      "\u001b[32m2024-04-28 19:59:34.197\u001b[0m | \u001b[1mINFO    \u001b[0m | \u001b[36m__main__\u001b[0m:\u001b[36membed_file\u001b[0m:\u001b[36m7\u001b[0m - \u001b[1m[{'source': 'data/demetra-20220420.md', 'last_modified': '2022-04-20T14:50:27', 'page_number': 1, 'languages': ['eng'], 'filetype': 'text/markdown', 'file_directory': 'data', 'filename': 'demetra-20220420.md', 'category': 'Title'}, {'source': 'data/demetra-20220420.md', 'last_modified': '2022-04-20T14:50:27', 'page_number': 1, 'languages': ['eng'], 'filetype': 'text/markdown', 'file_directory': 'data', 'filename': 'demetra-20220420.md', 'category': 'Title'}, {'source': 'data/demetra-20220420.md', 'last_modified': '2022-04-20T14:50:27', 'page_number': 1, 'languages': ['eng'], 'parent_id': 'b203bb8200205eebf40a6d048e0c6bab', 'filetype': 'text/markdown', 'file_directory': 'data', 'filename': 'demetra-20220420.md', 'category': 'ListItem'}, {'source': 'data/demetra-20220420.md', 'last_modified': '2022-04-20T14:50:27', 'page_number': 1, 'languages': ['eng'], 'filetype': 'text/markdown', 'file_directory': 'data', 'filename': 'demetra-20220420.md', 'category': 'Title'}, {'source': 'data/demetra-20220420.md', 'last_modified': '2022-04-20T14:50:27', 'page_number': 1, 'languages': ['eng'], 'parent_id': '26253ffd9a872bc04e00dc50108cba4f', 'filetype': 'text/markdown', 'file_directory': 'data', 'filename': 'demetra-20220420.md', 'category': 'ListItem'}, {'source': 'data/demetra-20220420.md', 'last_modified': '2022-04-20T14:50:27', 'page_number': 1, 'languages': ['eng'], 'parent_id': '26253ffd9a872bc04e00dc50108cba4f', 'filetype': 'text/markdown', 'file_directory': 'data', 'filename': 'demetra-20220420.md', 'category': 'ListItem'}, {'source': 'data/demetra-20220420.md', 'last_modified': '2022-04-20T14:50:27', 'page_number': 1, 'languages': ['eng'], 'parent_id': '26253ffd9a872bc04e00dc50108cba4f', 'filetype': 'text/markdown', 'file_directory': 'data', 'filename': 'demetra-20220420.md', 'category': 'ListItem'}, {'source': 'data/demetra-20220420.md', 'last_modified': '2022-04-20T14:50:27', 'page_number': 1, 'languages': ['eng'], 'parent_id': '26253ffd9a872bc04e00dc50108cba4f', 'filetype': 'text/markdown', 'file_directory': 'data', 'filename': 'demetra-20220420.md', 'category': 'ListItem'}, {'source': 'data/demetra-20220420.md', 'last_modified': '2022-04-20T14:50:27', 'page_number': 1, 'languages': ['eng'], 'parent_id': '26253ffd9a872bc04e00dc50108cba4f', 'filetype': 'text/markdown', 'file_directory': 'data', 'filename': 'demetra-20220420.md', 'category': 'ListItem'}, {'source': 'data/demetra-20220420.md', 'last_modified': '2022-04-20T14:50:27', 'page_number': 1, 'languages': ['eng'], 'parent_id': '26253ffd9a872bc04e00dc50108cba4f', 'filetype': 'text/markdown', 'file_directory': 'data', 'filename': 'demetra-20220420.md', 'category': 'ListItem'}, {'source': 'data/demetra-20220420.md', 'last_modified': '2022-04-20T14:50:27', 'page_number': 1, 'languages': ['eng'], 'filetype': 'text/markdown', 'file_directory': 'data', 'filename': 'demetra-20220420.md', 'category': 'Title'}, {'source': 'data/demetra-20220420.md', 'last_modified': '2022-04-20T14:50:27', 'page_number': 1, 'languages': ['eng'], 'parent_id': '45c659b99f1fc1e0517f2a574f36c8c1', 'filetype': 'text/markdown', 'file_directory': 'data', 'filename': 'demetra-20220420.md', 'category': 'ListItem'}, {'source': 'data/demetra-20220420.md', 'last_modified': '2022-04-20T14:50:27', 'page_number': 1, 'languages': ['eng'], 'parent_id': '45c659b99f1fc1e0517f2a574f36c8c1', 'filetype': 'text/markdown', 'file_directory': 'data', 'filename': 'demetra-20220420.md', 'category': 'ListItem'}, {'source': 'data/demetra-20220420.md', 'last_modified': '2022-04-20T14:50:27', 'page_number': 1, 'languages': ['eng'], 'parent_id': '45c659b99f1fc1e0517f2a574f36c8c1', 'filetype': 'text/markdown', 'file_directory': 'data', 'filename': 'demetra-20220420.md', 'category': 'ListItem'}, {'source': 'data/demetra-20220420.md', 'last_modified': '2022-04-20T14:50:27', 'page_number': 1, 'languages': ['eng'], 'parent_id': '45c659b99f1fc1e0517f2a574f36c8c1', 'filetype': 'text/markdown', 'file_directory': 'data', 'filename': 'demetra-20220420.md', 'category': 'ListItem'}, {'source': 'data/demetra-20220420.md', 'last_modified': '2022-04-20T14:50:27', 'page_number': 1, 'languages': ['eng'], 'parent_id': '45c659b99f1fc1e0517f2a574f36c8c1', 'filetype': 'text/markdown', 'file_directory': 'data', 'filename': 'demetra-20220420.md', 'category': 'ListItem'}, {'source': 'data/demetra-20220420.md', 'last_modified': '2022-04-20T14:50:27', 'page_number': 1, 'languages': ['eng'], 'parent_id': '45c659b99f1fc1e0517f2a574f36c8c1', 'filetype': 'text/markdown', 'file_directory': 'data', 'filename': 'demetra-20220420.md', 'category': 'ListItem'}, {'source': 'data/demetra-20220420.md', 'last_modified': '2022-04-20T14:50:27', 'page_number': 1, 'languages': ['eng'], 'parent_id': '45c659b99f1fc1e0517f2a574f36c8c1', 'filetype': 'text/markdown', 'file_directory': 'data', 'filename': 'demetra-20220420.md', 'category': 'ListItem'}, {'source': 'data/demetra-20220420.md', 'last_modified': '2022-04-20T14:50:27', 'page_number': 1, 'languages': ['eng'], 'parent_id': '45c659b99f1fc1e0517f2a574f36c8c1', 'filetype': 'text/markdown', 'file_directory': 'data', 'filename': 'demetra-20220420.md', 'category': 'ListItem'}, {'source': 'data/demetra-20220420.md', 'last_modified': '2022-04-20T14:50:27', 'page_number': 1, 'languages': ['eng'], 'filetype': 'text/markdown', 'file_directory': 'data', 'filename': 'demetra-20220420.md', 'category': 'Title'}, {'source': 'data/demetra-20220420.md', 'last_modified': '2022-04-20T14:50:27', 'page_number': 1, 'languages': ['eng'], 'parent_id': '15e68b1f46577e27d82b47596b5bb922', 'filetype': 'text/markdown', 'file_directory': 'data', 'filename': 'demetra-20220420.md', 'category': 'ListItem'}, {'source': 'data/demetra-20220420.md', 'last_modified': '2022-04-20T14:50:27', 'page_number': 1, 'languages': ['eng'], 'filetype': 'text/markdown', 'file_directory': 'data', 'filename': 'demetra-20220420.md', 'category': 'Title'}, {'source': 'data/demetra-20220420.md', 'last_modified': '2022-04-20T14:50:27', 'page_number': 1, 'languages': ['eng'], 'filetype': 'text/markdown', 'file_directory': 'data', 'filename': 'demetra-20220420.md', 'category': 'Title'}, {'source': 'data/demetra-20220420.md', 'last_modified': '2022-04-20T14:50:27', 'page_number': 1, 'languages': ['eng'], 'parent_id': 'b696d75511dc16f2b52563e3113a4983', 'filetype': 'text/markdown', 'file_directory': 'data', 'filename': 'demetra-20220420.md', 'category': 'ListItem'}, {'source': 'data/demetra-20220420.md', 'last_modified': '2022-04-20T14:50:27', 'page_number': 1, 'languages': ['eng'], 'parent_id': 'b696d75511dc16f2b52563e3113a4983', 'filetype': 'text/markdown', 'file_directory': 'data', 'filename': 'demetra-20220420.md', 'category': 'ListItem'}, {'source': 'data/demetra-20220420.md', 'last_modified': '2022-04-20T14:50:27', 'page_number': 1, 'languages': ['eng'], 'parent_id': 'b696d75511dc16f2b52563e3113a4983', 'filetype': 'text/markdown', 'file_directory': 'data', 'filename': 'demetra-20220420.md', 'category': 'ListItem'}, {'source': 'data/demetra-20220420.md', 'last_modified': '2022-04-20T14:50:27', 'page_number': 1, 'languages': ['eng'], 'parent_id': 'b696d75511dc16f2b52563e3113a4983', 'filetype': 'text/markdown', 'file_directory': 'data', 'filename': 'demetra-20220420.md', 'category': 'ListItem'}, {'source': 'data/demetra-20220420.md', 'last_modified': '2022-04-20T14:50:27', 'page_number': 1, 'languages': ['eng'], 'filetype': 'text/markdown', 'file_directory': 'data', 'filename': 'demetra-20220420.md', 'category': 'Title'}, {'source': 'data/demetra-20220420.md', 'last_modified': '2022-04-20T14:50:27', 'page_number': 1, 'languages': ['eng'], 'parent_id': 'fc8842c641d9150647f928e6c294ce26', 'filetype': 'text/markdown', 'file_directory': 'data', 'filename': 'demetra-20220420.md', 'category': 'ListItem'}, {'source': 'data/demetra-20220420.md', 'last_modified': '2022-04-20T14:50:27', 'page_number': 1, 'languages': ['eng'], 'filetype': 'text/markdown', 'file_directory': 'data', 'filename': 'demetra-20220420.md', 'category': 'Title'}, {'source': 'data/demetra-20220420.md', 'last_modified': '2022-04-20T14:50:27', 'page_number': 1, 'languages': ['eng'], 'parent_id': '729dee6d5895263e4d0ac04d8556911d', 'filetype': 'text/markdown', 'file_directory': 'data', 'filename': 'demetra-20220420.md', 'category': 'ListItem'}, {'source': 'data/demetra-20220420.md', 'last_modified': '2022-04-20T14:50:27', 'page_number': 1, 'languages': ['eng'], 'parent_id': '729dee6d5895263e4d0ac04d8556911d', 'filetype': 'text/markdown', 'file_directory': 'data', 'filename': 'demetra-20220420.md', 'category': 'ListItem'}, {'source': 'data/demetra-20220420.md', 'last_modified': '2022-04-20T14:50:27', 'page_number': 1, 'languages': ['eng'], 'filetype': 'text/markdown', 'file_directory': 'data', 'filename': 'demetra-20220420.md', 'category': 'Title'}, {'source': 'data/demetra-20220420.md', 'last_modified': '2022-04-20T14:50:27', 'page_number': 1, 'languages': ['eng'], 'parent_id': '4d8ca8e59c813f36e0321f8b35d0b522', 'filetype': 'text/markdown', 'file_directory': 'data', 'filename': 'demetra-20220420.md', 'category': 'ListItem'}, {'source': 'data/demetra-20220420.md', 'last_modified': '2022-04-20T14:50:27', 'page_number': 1, 'languages': ['eng'], 'filetype': 'text/markdown', 'file_directory': 'data', 'filename': 'demetra-20220420.md', 'category': 'Title'}, {'source': 'data/demetra-20220420.md', 'last_modified': '2022-04-20T14:50:27', 'page_number': 1, 'languages': ['eng'], 'parent_id': 'c6365bcc9f4b2eee67ea81c2237f8757', 'filetype': 'text/markdown', 'file_directory': 'data', 'filename': 'demetra-20220420.md', 'category': 'ListItem'}, {'source': 'data/demetra-20220420.md', 'last_modified': '2022-04-20T14:50:27', 'page_number': 1, 'languages': ['eng'], 'filetype': 'text/markdown', 'file_directory': 'data', 'filename': 'demetra-20220420.md', 'category': 'Title'}, {'source': 'data/demetra-20220420.md', 'last_modified': '2022-04-20T14:50:27', 'page_number': 1, 'languages': ['eng'], 'parent_id': '9000bdef4d3bd78135cfedb47d999c17', 'filetype': 'text/markdown', 'file_directory': 'data', 'filename': 'demetra-20220420.md', 'category': 'ListItem'}, {'source': 'data/demetra-20220420.md', 'last_modified': '2022-04-20T14:50:27', 'page_number': 1, 'languages': ['eng'], 'parent_id': '9000bdef4d3bd78135cfedb47d999c17', 'filetype': 'text/markdown', 'file_directory': 'data', 'filename': 'demetra-20220420.md', 'category': 'ListItem'}, {'source': 'data/demetra-20220420.md', 'last_modified': '2022-04-20T14:50:27', 'page_number': 1, 'languages': ['eng'], 'parent_id': '9000bdef4d3bd78135cfedb47d999c17', 'filetype': 'text/markdown', 'file_directory': 'data', 'filename': 'demetra-20220420.md', 'category': 'ListItem'}, {'source': 'data/demetra-20220420.md', 'last_modified': '2022-04-20T14:50:27', 'page_number': 1, 'languages': ['eng'], 'parent_id': '9000bdef4d3bd78135cfedb47d999c17', 'filetype': 'text/markdown', 'file_directory': 'data', 'filename': 'demetra-20220420.md', 'category': 'ListItem'}, {'source': 'data/demetra-20220420.md', 'last_modified': '2022-04-20T14:50:27', 'page_number': 1, 'languages': ['eng'], 'parent_id': '9000bdef4d3bd78135cfedb47d999c17', 'filetype': 'text/markdown', 'file_directory': 'data', 'filename': 'demetra-20220420.md', 'category': 'ListItem'}]\u001b[0m\n"
     ]
    }
   ],
   "source": [
    "embeddings = OpenAIEmbeddings(model=\"text-embedding-ada-002\")\n",
    "\n",
    "\n",
    "def embed_file(doc: Document) -> list[list[float]]:\n",
    "    texts: list[str] = [x.page_content for x in doc]\n",
    "    metadata: list[dict[str, Any]] = [x.metadata for x in doc]\n",
    "    embeds = embeddings.embed_documents(texts)\n",
    "    logger.info(metadata)\n",
    "    return embeds\n",
    "\n",
    "\n",
    "embed_file(docs[0])"
   ]
  },
  {
   "cell_type": "code",
   "execution_count": null,
   "metadata": {},
   "outputs": [],
   "source": []
  }
 ],
 "metadata": {
  "kernelspec": {
   "display_name": "ragsc-rGBOy1v8-py3.12",
   "language": "python",
   "name": "python3"
  },
  "language_info": {
   "codemirror_mode": {
    "name": "ipython",
    "version": 3
   },
   "file_extension": ".py",
   "mimetype": "text/x-python",
   "name": "python",
   "nbconvert_exporter": "python",
   "pygments_lexer": "ipython3",
   "version": "3.12.2"
  }
 },
 "nbformat": 4,
 "nbformat_minor": 2
}
