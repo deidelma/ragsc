{
 "cells": [
  {
   "cell_type": "markdown",
   "metadata": {},
   "source": [
    "# cluster notebook\n",
    "\n",
    "Uses the approach described in the [Annotation Tutorial](https://www.sc-best-practices.org/cellular_structure/annotation.html) to derive a population of cells with annotations.\n",
    "\n",
    "The goal is to use these annotated cells to create embeddings suitable for use in RAGs.\n",
    "\n",
    "Produces __data/subset.h5ad__"
   ]
  },
  {
   "cell_type": "code",
   "execution_count": null,
   "metadata": {},
   "outputs": [],
   "source": [
    "import warnings\n",
    "\n",
    "# import numba\n",
    "from numba.core.errors import NumbaDeprecationWarning, NumbaPendingDeprecationWarning\n",
    "\n",
    "warnings.filterwarnings(\"ignore\", category=DeprecationWarning)\n",
    "\n",
    "warnings.simplefilter(\"ignore\", category=NumbaDeprecationWarning)"
   ]
  },
  {
   "cell_type": "code",
   "execution_count": null,
   "metadata": {},
   "outputs": [],
   "source": [
    "import scanpy as sc\n",
    "import pandas as pd\n",
    "import numpy as np\n",
    "\n",
    "# import os\n",
    "from scipy.sparse import csr_matrix\n",
    "import seaborn as sns\n",
    "import matplotlib.pyplot as plt\n",
    "\n",
    "# import celltypist\n",
    "from celltypist import models\n",
    "import scarches as sca\n",
    "\n",
    "# import urllib.request\n",
    "\n",
    "warnings.filterwarnings(\"ignore\", category=pd.errors.PerformanceWarning)\n",
    "\n",
    "sc.set_figure_params(figsize=(5, 5))  # type: ignore"
   ]
  },
  {
   "cell_type": "code",
   "execution_count": null,
   "metadata": {},
   "outputs": [],
   "source": [
    "adata = sc.read(\n",
    "    filename=\"data/s4d8_clustered.h5ad\",  # type: ignore\n",
    "    backup_url=\"https://figshare.com/ndownloader/files/41436666\",  # type: ignore\n",
    ")"
   ]
  },
  {
   "cell_type": "markdown",
   "metadata": {},
   "source": [
    "## Manual annotation"
   ]
  },
  {
   "cell_type": "code",
   "execution_count": null,
   "metadata": {},
   "outputs": [],
   "source": [
    "marker_genes = {\n",
    "    \"CD14+ Mono\": [\"FCN1\", \"CD14\"],\n",
    "    \"CD16+ Mono\": [\"TCF7L2\", \"FCGR3A\", \"LYN\"],\n",
    "    \"ID2-hi myeloid prog\": [\n",
    "        \"CD14\",\n",
    "        \"ID2\",\n",
    "        \"VCAN\",\n",
    "        \"S100A9\",\n",
    "        \"CLEC12A\",\n",
    "        \"KLF4\",\n",
    "        \"PLAUR\",\n",
    "    ],\n",
    "    \"cDC1\": [\"CLEC9A\", \"CADM1\"],\n",
    "    \"cDC2\": [\n",
    "        \"CST3\",\n",
    "        \"COTL1\",\n",
    "        \"LYZ\",\n",
    "        \"DMXL2\",\n",
    "        \"CLEC10A\",\n",
    "        \"FCER1A\",\n",
    "    ],  # Note: DMXL2 should be negative\n",
    "    \"Normoblast\": [\"SLC4A1\", \"SLC25A37\", \"HBB\", \"HBA2\", \"HBA1\", \"TFRC\"],\n",
    "    \"Erythroblast\": [\"MKI67\", \"HBA1\", \"HBB\"],\n",
    "    \"Proerythroblast\": [\n",
    "        \"CDK6\",\n",
    "        \"SYNGR1\",\n",
    "        \"HBM\",\n",
    "        \"GYPA\",\n",
    "    ],  # Note HBM and GYPA are negative markers\n",
    "    \"NK\": [\"GNLY\", \"NKG7\", \"CD247\", \"GRIK4\", \"FCER1G\", \"TYROBP\", \"KLRG1\", \"FCGR3A\"],\n",
    "    \"ILC\": [\"ID2\", \"PLCG2\", \"GNLY\", \"SYNE1\"],\n",
    "    \"Lymph prog\": [\n",
    "        \"VPREB1\",\n",
    "        \"MME\",\n",
    "        \"EBF1\",\n",
    "        \"SSBP2\",\n",
    "        \"BACH2\",\n",
    "        \"CD79B\",\n",
    "        \"IGHM\",\n",
    "        \"PAX5\",\n",
    "        \"PRKCE\",\n",
    "        \"DNTT\",\n",
    "        \"IGLL1\",\n",
    "    ],\n",
    "    \"Naive CD20+ B\": [\"MS4A1\", \"IL4R\", \"IGHD\", \"FCRL1\", \"IGHM\"],\n",
    "    \"B1 B\": [\n",
    "        \"MS4A1\",\n",
    "        \"SSPN\",\n",
    "        \"ITGB1\",\n",
    "        \"EPHA4\",\n",
    "        \"COL4A4\",\n",
    "        \"PRDM1\",\n",
    "        \"IRF4\",\n",
    "        \"CD38\",\n",
    "        \"XBP1\",\n",
    "        \"PAX5\",\n",
    "        \"BCL11A\",\n",
    "        \"BLK\",\n",
    "        \"IGHD\",\n",
    "        \"IGHM\",\n",
    "        \"ZNF215\",\n",
    "    ],  # Note IGHD and IGHM are negative markers\n",
    "    \"Transitional B\": [\"MME\", \"CD38\", \"CD24\", \"ACSM3\", \"MSI2\"],\n",
    "    \"Plasma cells\": [\"MZB1\", \"HSP90B1\", \"FNDC3B\", \"PRDM1\", \"IGKC\", \"JCHAIN\"],\n",
    "    \"Plasmablast\": [\"XBP1\", \"RF4\", \"PRDM1\", \"PAX5\"],  # Note PAX5 is a negative marker\n",
    "    \"CD4+ T activated\": [\"CD4\", \"IL7R\", \"TRBC2\", \"ITGB1\"],\n",
    "    \"CD4+ T naive\": [\"CD4\", \"IL7R\", \"TRBC2\", \"CCR7\"],\n",
    "    \"CD8+ T\": [\"CD8A\", \"CD8B\", \"GZMK\", \"GZMA\", \"CCL5\", \"GZMB\", \"GZMH\", \"GZMA\"],\n",
    "    \"T activation\": [\"CD69\", \"CD38\"],  # CD69 much better marker!\n",
    "    \"T naive\": [\"LEF1\", \"CCR7\", \"TCF7\"],\n",
    "    \"pDC\": [\"GZMB\", \"IL3RA\", \"COBLL1\", \"TCF4\"],\n",
    "    \"G/M prog\": [\"MPO\", \"BCL2\", \"KCNQ5\", \"CSF3R\"],\n",
    "    \"HSC\": [\"NRIP1\", \"MECOM\", \"PROM1\", \"NKAIN2\", \"CD34\"],\n",
    "    \"MK/E prog\": [\n",
    "        \"ZNF385D\",\n",
    "        \"ITGA2B\",\n",
    "        \"RYR3\",\n",
    "        \"PLCB1\",\n",
    "    ],  # Note PLCB1 is a negative marker\n",
    "}"
   ]
  },
  {
   "cell_type": "code",
   "execution_count": null,
   "metadata": {},
   "outputs": [],
   "source": [
    "#\n",
    "# look for the markers found in the current dataset\n",
    "#\n",
    "marker_genes_in_data = dict()\n",
    "# find the cell types and markers that match our data (i.e. marker genes in the adata.var.index)\n",
    "for cell_type, markers in marker_genes.items():\n",
    "    markers_found = list()\n",
    "    for marker in markers:\n",
    "        if marker in adata.var.index:\n",
    "            markers_found.append(marker)\n",
    "    marker_genes_in_data[cell_type] = markers_found"
   ]
  },
  {
   "cell_type": "code",
   "execution_count": null,
   "metadata": {},
   "outputs": [],
   "source": [
    "#\n",
    "# store raw counts in a layer, then shift to scran_normalized, log transformed data\n",
    "#\n",
    "adata.layers[\"counts\"] = adata.X\n",
    "adata.X = adata.layers[\"scran_normalization\"]"
   ]
  },
  {
   "cell_type": "code",
   "execution_count": null,
   "metadata": {},
   "outputs": [],
   "source": [
    "#\n",
    "# scanpy expects genes to be classified as \"highly variable\" rather than \"highly deviant\"\n",
    "#\n",
    "adata.var[\"highly_variable\"] = adata.var[\"highly_deviant\"]"
   ]
  },
  {
   "cell_type": "code",
   "execution_count": null,
   "metadata": {},
   "outputs": [],
   "source": [
    "#\n",
    "# principal component analysis\n",
    "#\n",
    "sc.tl.pca(adata, n_comps=50, use_highly_variable=True)"
   ]
  },
  {
   "cell_type": "code",
   "execution_count": null,
   "metadata": {},
   "outputs": [],
   "source": [
    "#\n",
    "# calculate the neighbour graph based on the principal components\n",
    "#\n",
    "sc.pp.neighbors(adata)"
   ]
  },
  {
   "cell_type": "code",
   "execution_count": null,
   "metadata": {},
   "outputs": [],
   "source": [
    "#\n",
    "# use the neighbout graph to calculate a 2-dimensional UMAP embdedding of the data\n",
    "#\n",
    "sc.tl.umap(adata)  # type: ignore"
   ]
  },
  {
   "cell_type": "code",
   "execution_count": null,
   "metadata": {},
   "outputs": [],
   "source": [
    "#\n",
    "# cluser the data\n",
    "#\n",
    "sc.tl.leiden(adata, resolution=2, key_added=\"leiden_2\")\n",
    "sc.pl.umap(adata, color=\"leiden_2\", legend_loc=\"on data\")"
   ]
  },
  {
   "cell_type": "code",
   "execution_count": null,
   "metadata": {},
   "outputs": [],
   "source": [
    "#\n",
    "# calculate the differentially expressed genes for each cluster\n",
    "#\n",
    "sc.tl.rank_genes_groups(adata, groupby=\"leiden_2\", method=\"wilcoxon\", key_added=\"dea_leiden_2\")  # type: ignore"
   ]
  },
  {
   "cell_type": "code",
   "execution_count": null,
   "metadata": {},
   "outputs": [],
   "source": [
    "sc.pl.rank_genes_groups_dotplot(\n",
    "    adata, groupby=\"leiden_2\", standard_scale=\"var\", n_genes=7, key=\"dea_leiden_2\"\n",
    ")"
   ]
  },
  {
   "cell_type": "code",
   "execution_count": null,
   "metadata": {},
   "outputs": [],
   "source": [
    "#\n",
    "# select more cluster specific differentially expressed genes\n",
    "#\n",
    "sc.tl.filter_rank_genes_groups(\n",
    "    adata,  # type:ignore\n",
    "    min_in_group_fraction=0.2,\n",
    "    max_out_group_fraction=0.2,\n",
    "    key=\"dea_leiden_2\",\n",
    "    key_added=\"dea_leiden_2_filtered\",\n",
    ")"
   ]
  },
  {
   "cell_type": "code",
   "execution_count": null,
   "metadata": {},
   "outputs": [],
   "source": [
    "sc.pl.rank_genes_groups_dotplot(\n",
    "    adata, # type: ignore\n",
    "    groupby=\"leiden_2\",\n",
    "    standard_scale=\"var\",\n",
    "    n_genes=5,\n",
    "    key=\"dea_leiden_2_filtered\",\n",
    ")"
   ]
  },
  {
   "cell_type": "code",
   "execution_count": null,
   "metadata": {},
   "outputs": [],
   "source": [
    "adata"
   ]
  },
  {
   "cell_type": "code",
   "execution_count": null,
   "metadata": {},
   "outputs": [],
   "source": [
    "adata.X"
   ]
  },
  {
   "cell_type": "code",
   "execution_count": null,
   "metadata": {},
   "outputs": [],
   "source": [
    "import anndata \n",
    "adata_subset = anndata.AnnData(shape=adata.shape)"
   ]
  },
  {
   "cell_type": "code",
   "execution_count": null,
   "metadata": {},
   "outputs": [],
   "source": [
    "adata_subset.X = adata.X\n",
    "adata_subset.obs = adata.obs[['n_genes_by_counts', \n",
    "                              'total_counts',\n",
    "                              'pct_counts_in_top_20_genes',\n",
    "                              'total_counts_mt','pct_counts_mt',\n",
    "                              'total_counts_ribo', 'pct_counts_ribo',\n",
    "                              'total_counts_hb', 'pct_counts_hb',\n",
    "                              'outlier',\n",
    "                              'mt_outlier',\n",
    "                              'DF_score',\n",
    "                              'batch',\n",
    "                              'size_factors',\n",
    "                              'leiden_2']]"
   ]
  },
  {
   "cell_type": "code",
   "execution_count": null,
   "metadata": {},
   "outputs": [],
   "source": [
    "adata.var.columns"
   ]
  },
  {
   "cell_type": "code",
   "execution_count": null,
   "metadata": {},
   "outputs": [],
   "source": [
    "adata_subset.var = adata.var[['gene_ids',\n",
    "                            'feature_types',\n",
    "                            'n_cells_by_counts',\n",
    "                            'mean_counts',\n",
    "                            'pct_dropout_by_counts',\n",
    "                            'total_counts',\n",
    "                            'highly_variable']]"
   ]
  },
  {
   "cell_type": "code",
   "execution_count": null,
   "metadata": {},
   "outputs": [],
   "source": [
    "adata_subset.var.highly_variable.sum()/adata_subset.var.highly_variable.count()"
   ]
  },
  {
   "cell_type": "code",
   "execution_count": null,
   "metadata": {},
   "outputs": [],
   "source": [
    "adata_subset.write_h5ad(filename=\"data/subset.h5ad\", compression='gzip')"
   ]
  },
  {
   "cell_type": "code",
   "execution_count": null,
   "metadata": {},
   "outputs": [],
   "source": []
  }
 ],
 "metadata": {
  "kernelspec": {
   "display_name": "Python 3",
   "language": "python",
   "name": "python3"
  },
  "language_info": {
   "codemirror_mode": {
    "name": "ipython",
    "version": 3
   },
   "file_extension": ".py",
   "mimetype": "text/x-python",
   "name": "python",
   "nbconvert_exporter": "python",
   "pygments_lexer": "ipython3",
   "version": "3.9.19"
  }
 },
 "nbformat": 4,
 "nbformat_minor": 2
}
