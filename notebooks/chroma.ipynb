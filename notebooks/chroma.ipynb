{
 "cells": [
  {
   "cell_type": "markdown",
   "metadata": {},
   "source": [
    "# chroma\n",
    "\n",
    "An experiment to test the use of the chromadb system\n",
    "\n",
    "__Note__: chromadb seems to need Python 3.10 and above because of annotations!"
   ]
  },
  {
   "cell_type": "code",
   "execution_count": 1,
   "metadata": {},
   "outputs": [],
   "source": [
    "import chromadb\n",
    "from chromadb.config import Settings\n",
    "import pandas as pd\n",
    "import json"
   ]
  },
  {
   "cell_type": "code",
   "execution_count": 2,
   "metadata": {},
   "outputs": [],
   "source": [
    "client = chromadb.Client()"
   ]
  },
  {
   "cell_type": "code",
   "execution_count": 3,
   "metadata": {},
   "outputs": [],
   "source": [
    "collection = client.create_collection(\"my_collection\")"
   ]
  },
  {
   "cell_type": "code",
   "execution_count": 4,
   "metadata": {},
   "outputs": [],
   "source": [
    "df = pd.read_parquet(\"../data/embeds.parquet\")\n",
    "#\n",
    "# clean any empty signatures\n",
    "#\n",
    "df = df[~df.signature.isnull()]\n"
   ]
  },
  {
   "cell_type": "code",
   "execution_count": 5,
   "metadata": {},
   "outputs": [
    {
     "data": {
      "text/plain": [
       "(9369, 4)"
      ]
     },
     "execution_count": 5,
     "metadata": {},
     "output_type": "execute_result"
    }
   ],
   "source": [
    "df.shape"
   ]
  },
  {
   "cell_type": "code",
   "execution_count": 6,
   "metadata": {},
   "outputs": [],
   "source": [
    "min_item= 0 \n",
    "max_item = df.shape[0]\n",
    "df[\"ids\"] = df.index.astype(str)\n",
    "\n",
    "docs = []\n",
    "embeds = []\n",
    "ids = []\n",
    "for i in range(min_item, max_item):\n",
    "    docs.append(str(df.cluster.iloc[i]))\n",
    "    embeds.append(json.loads(df.embeddings.iloc[i]))\n",
    "    ids.append(df.ids.iloc[i]) \n",
    "\n",
    "collection.add(\n",
    "    documents = docs, \n",
    "    embeddings=embeds,\n",
    "    ids = ids \n",
    ")"
   ]
  },
  {
   "cell_type": "code",
   "execution_count": 7,
   "metadata": {},
   "outputs": [
    {
     "name": "stdout",
     "output_type": "stream",
     "text": [
      "4\n",
      "{'ids': [['4001', '6726', '2028', '4349', '8076']], 'distances': [[0.0, 0.10882972925901413, 0.11034520715475082, 0.11189810931682587, 0.11813738942146301]], 'metadatas': [[None, None, None, None, None]], 'embeddings': None, 'documents': [['4', '8', '1', '4', '12']], 'uris': None, 'data': None, 'included': ['metadatas', 'documents', 'distances']}\n"
     ]
    }
   ],
   "source": [
    "print(df.cluster.iloc[4000])\n",
    "results = collection.query(\n",
    "    query_embeddings=[json.loads(df.embeddings.iloc[4000])],\n",
    "    n_results=5\n",
    ")\n",
    "print(results)"
   ]
  },
  {
   "cell_type": "code",
   "execution_count": 9,
   "metadata": {},
   "outputs": [],
   "source": [
    "def test_item(df: pd.DataFrame, row:int, collection: chromadb.Collection):\n",
    "    print(f\"Original cluster: {df.cluster.iloc[i]}\")\n",
    "    results = collection.query(query_embeddings=[json.loads(df.embeddings.iloc[i])], n_results=5)\n",
    "    print(results)"
   ]
  },
  {
   "cell_type": "code",
   "execution_count": 10,
   "metadata": {},
   "outputs": [],
   "source": [
    "test_df = pd.read_parquet(\"../data/test.parquet\")\n",
    "test_df = test_df[~test_df.signature.isnull()]"
   ]
  },
  {
   "cell_type": "code",
   "execution_count": 11,
   "metadata": {},
   "outputs": [
    {
     "data": {
      "text/plain": [
       "(4685, 4)"
      ]
     },
     "execution_count": 11,
     "metadata": {},
     "output_type": "execute_result"
    }
   ],
   "source": [
    "test_df.shape"
   ]
  },
  {
   "cell_type": "code",
   "execution_count": 12,
   "metadata": {},
   "outputs": [
    {
     "name": "stdout",
     "output_type": "stream",
     "text": [
      "Original cluster: 2\n",
      "{'ids': [['2176', '1812', '2711', '1900', '5904']], 'distances': [[0.15734204649925232, 0.16030941903591156, 0.1607329249382019, 0.16151264309883118, 0.16341355443000793]], 'metadatas': [[None, None, None, None, None]], 'embeddings': None, 'documents': [['1', '1', '2', '1', '7']], 'uris': None, 'data': None, 'included': ['metadatas', 'documents', 'distances']}\n",
      "Original cluster: 2\n",
      "{'ids': [['3033', '6140', '5510', '5130', '4753']], 'distances': [[0.0, 0.12475264072418213, 0.12890619039535522, 0.13391706347465515, 0.1347857564687729]], 'metadatas': [[None, None, None, None, None]], 'embeddings': None, 'documents': [['2', '7', '6', '5', '5']], 'uris': None, 'data': None, 'included': ['metadatas', 'documents', 'distances']}\n",
      "Original cluster: 2\n",
      "{'ids': [['3035', '224', '2928', '2494', '2429']], 'distances': [[0.0, 0.10014797002077103, 0.10066263377666473, 0.103089340031147, 0.11404863744974136]], 'metadatas': [[None, None, None, None, None]], 'embeddings': None, 'documents': [['2', '0', '2', '2', '2']], 'uris': None, 'data': None, 'included': ['metadatas', 'documents', 'distances']}\n",
      "Original cluster: 2\n",
      "{'ids': [['3036', '4457', '5557', '1468', '4871']], 'distances': [[0.0, 0.10398497432470322, 0.1144307404756546, 0.11788366734981537, 0.11829975247383118]], 'metadatas': [[None, None, None, None, None]], 'embeddings': None, 'documents': [['2', '4', '6', '1', '5']], 'uris': None, 'data': None, 'included': ['metadatas', 'documents', 'distances']}\n",
      "Original cluster: 2\n",
      "{'ids': [['3037', '2707', '3232', '3588', '4297']], 'distances': [[0.0, 0.12382996827363968, 0.12489509582519531, 0.12988144159317017, 0.1330428272485733]], 'metadatas': [[None, None, None, None, None]], 'embeddings': None, 'documents': [['2', '2', '3', '3', '4']], 'uris': None, 'data': None, 'included': ['metadatas', 'documents', 'distances']}\n"
     ]
    }
   ],
   "source": [
    "for i in range(1500,1505):\n",
    "    test_item(test_df, i, collection)"
   ]
  },
  {
   "cell_type": "code",
   "execution_count": null,
   "metadata": {},
   "outputs": [],
   "source": []
  }
 ],
 "metadata": {
  "kernelspec": {
   "display_name": "Python 3",
   "language": "python",
   "name": "python3"
  },
  "language_info": {
   "codemirror_mode": {
    "name": "ipython",
    "version": 3
   },
   "file_extension": ".py",
   "mimetype": "text/x-python",
   "name": "python",
   "nbconvert_exporter": "python",
   "pygments_lexer": "ipython3",
   "version": "3.1.-1"
  }
 },
 "nbformat": 4,
 "nbformat_minor": 2
}
