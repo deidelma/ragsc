{
 "cells": [
  {
   "cell_type": "markdown",
   "metadata": {},
   "source": [
    "# analyze_sigs\n",
    "\n",
    "Notebook for analysis of saved signature data"
   ]
  },
  {
   "cell_type": "code",
   "execution_count": 63,
   "metadata": {},
   "outputs": [],
   "source": [
    "from pathlib import Path\n",
    "import pandas as pd\n",
    "from collections import Counter\n",
    "import numpy as np\n",
    "\n",
    "input_path = Path(\"../results\")\n",
    "output_path = Path(\"../results\")"
   ]
  },
  {
   "cell_type": "code",
   "execution_count": 88,
   "metadata": {},
   "outputs": [
    {
     "name": "stdout",
     "output_type": "stream",
     "text": [
      "9370 4\n",
      "handling group:  0\n",
      "handling group:  1\n",
      "handling group:  2\n",
      "handling group:  3\n",
      "handling group:  4\n",
      "handling group:  5\n",
      "handling group:  6\n",
      "handling group:  7\n",
      "handling group:  8\n",
      "handling group:  9\n",
      "handling group:  10\n",
      "handling group:  11\n",
      "handling group:  12\n",
      "handling group:  13\n",
      "handling group:  14\n",
      "handling group:  15\n",
      "handling group:  16\n",
      "handling group:  17\n",
      "handling group:  18\n",
      "19\n"
     ]
    }
   ],
   "source": [
    "#\n",
    "# load the file\n",
    "#\n",
    "infile_path = input_path / Path(\"ragsc_sig_00_sorted_all.parquet\")\n",
    "df = pd.read_parquet(infile_path)\n",
    "print(df.shape[0],df.shape[1])\n",
    "\n",
    "#\n",
    "# consider the top 20 genes\n",
    "#\n",
    "def top_gene_sigs(s: str, n=20) -> str:\n",
    "    return \" \".join(s.split(\" \")[:n])\n",
    "\n",
    "df.signature = df.signature.apply(func=top_gene_sigs)\n",
    "\n",
    "#\n",
    "# now count the frequency of each word\n",
    "#\n",
    "bags={}\n",
    "grouped = df.groupby(\"cluster\", sort=False)\n",
    "for group in grouped:\n",
    "    print(\"handling group: \", group[0])\n",
    "    df = group[1]\n",
    "    genes = df.signature.apply(lambda x: x.split(\" \"))\n",
    "    bag = Counter()\n",
    "    genes.explode().apply(lambda x: bag.update([x]))\n",
    "    bags[group[0]]=bag\n",
    "print(len(bags))\n"
   ]
  },
  {
   "cell_type": "code",
   "execution_count": null,
   "metadata": {},
   "outputs": [],
   "source": []
  }
 ],
 "metadata": {
  "kernelspec": {
   "display_name": "Python 3",
   "language": "python",
   "name": "python3"
  },
  "language_info": {
   "codemirror_mode": {
    "name": "ipython",
    "version": 3
   },
   "file_extension": ".py",
   "mimetype": "text/x-python",
   "name": "python",
   "nbconvert_exporter": "python",
   "pygments_lexer": "ipython3",
   "version": "3.9.19"
  }
 },
 "nbformat": 4,
 "nbformat_minor": 2
}
