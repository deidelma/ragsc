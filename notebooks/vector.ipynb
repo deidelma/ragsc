{
 "cells": [
  {
   "cell_type": "code",
   "execution_count": null,
   "metadata": {},
   "outputs": [],
   "source": [
    "from pathlib import Path\n",
    "from loguru import logger\n",
    "from typing import Any\n",
    "import pandas as pd"
   ]
  },
  {
   "cell_type": "code",
   "execution_count": null,
   "metadata": {},
   "outputs": [],
   "source": [
    "signatures_path = Path(\"../data/sigs.csv\")\n",
    "df = pd.read_csv(signatures_path)\n",
    "logger.info(\"loaded signatures data: {} rows {} columns\", df.shape[0], df.shape[1])\n",
    "\n",
    "train_df = df.sample(frac=0.1)\n",
    "logger.info(\"loaded signatures training data: {} rows {} columns\", train_df.shape[0], train_df.shape[1])\n",
    "test_df = df.drop(train_df.index)\n",
    "logger.info(\"loaded signatures data: {} rows {} columns\", test_df.shape[0], test_df.shape[1])"
   ]
  },
  {
   "cell_type": "code",
   "execution_count": null,
   "metadata": {},
   "outputs": [],
   "source": [
    "cluster_table: dict[int, list[str]] = {}\n",
    "for cluster in df.cluster.unique():\n",
    "    # cluster_table[cluster] = []\n",
    "    cluster_df = train_df[df.cluster==cluster]\n",
    "    cluster_table[cluster] = cluster_df.signature\n",
    "assert len(cluster_table)\n",
    "\n",
    "len(cluster_table[0])"
   ]
  },
  {
   "cell_type": "code",
   "execution_count": 64,
   "metadata": {},
   "outputs": [
    {
     "name": "stderr",
     "output_type": "stream",
     "text": [
      "\u001b[32m2024-06-14 18:39:49.081\u001b[0m | \u001b[1mINFO    \u001b[0m | \u001b[36m__main__\u001b[0m:\u001b[36m<module>\u001b[0m:\u001b[36m23\u001b[0m - \u001b[1mprocessing 117 inputs\u001b[0m\n",
      "\u001b[32m2024-06-14 18:39:49.881\u001b[0m | \u001b[1mINFO    \u001b[0m | \u001b[36m__main__\u001b[0m:\u001b[36m<module>\u001b[0m:\u001b[36m25\u001b[0m - \u001b[1mobtained 117 embeddings\u001b[0m\n"
     ]
    }
   ],
   "source": [
    "import openai\n",
    "import dotenv\n",
    "import os\n",
    "from openai import OpenAI \n",
    "\n",
    "dotenv.load_dotenv(\"../.env\")\n",
    "\n",
    "client = OpenAI(\n",
    "    api_key=os.getenv(\"OPENAI_API_KEY\")\n",
    ")\n",
    "\n",
    "def get_embeddings(texts):\n",
    "    client = openai.OpenAI()  # Create an OpenAI client\n",
    "    model = \"text-embedding-ada-002\"  # Use the latest embedding model\n",
    "    response = client.embeddings.create(\n",
    "        input=texts,\n",
    "        model=model\n",
    "    )\n",
    "    # embeddings = [data['embedding'] for data in response['data']]\n",
    "    return response.model_dump()['data'] # type: ignore \n",
    "\n",
    "texts = cluster_table[0]\n",
    "logger.info(\"processing {} inputs\", len(texts))\n",
    "embeddings = get_embeddings(texts)\n",
    "logger.info(\"obtained {} embeddings\", len(embeddings))"
   ]
  },
  {
   "cell_type": "code",
   "execution_count": 65,
   "metadata": {},
   "outputs": [
    {
     "name": "stderr",
     "output_type": "stream",
     "text": [
      "\u001b[32m2024-06-14 18:39:51.476\u001b[0m | \u001b[1mINFO    \u001b[0m | \u001b[36m__main__\u001b[0m:\u001b[36m<module>\u001b[0m:\u001b[36m2\u001b[0m - \u001b[1mextracted 117 embeddings\u001b[0m\n"
     ]
    }
   ],
   "source": [
    "embeds = [e['embedding'] for e in embeddings]\n",
    "logger.info(\"extracted {} embeddings\", len(embeds))"
   ]
  },
  {
   "cell_type": "code",
   "execution_count": null,
   "metadata": {},
   "outputs": [],
   "source": []
  }
 ],
 "metadata": {
  "kernelspec": {
   "display_name": "ragsc-rGBOy1v8-py3.12",
   "language": "python",
   "name": "python3"
  },
  "language_info": {
   "codemirror_mode": {
    "name": "ipython",
    "version": 3
   },
   "file_extension": ".py",
   "mimetype": "text/x-python",
   "name": "python",
   "nbconvert_exporter": "python",
   "pygments_lexer": "ipython3",
   "version": "3.9.19"
  }
 },
 "nbformat": 4,
 "nbformat_minor": 2
}
