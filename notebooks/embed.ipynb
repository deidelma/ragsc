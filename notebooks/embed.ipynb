{
 "cells": [
  {
   "cell_type": "markdown",
   "metadata": {},
   "source": [
    "# embed\n",
    "\n",
    "Notebook to explore embedding large number of text fragments using openai"
   ]
  },
  {
   "cell_type": "code",
   "execution_count": 1,
   "metadata": {},
   "outputs": [],
   "source": [
    "import os\n",
    "import gzip\n",
    "import openai\n",
    "import dotenv\n",
    "import pandas as pd\n",
    "from pathlib import Path\n",
    "from openai import OpenAI \n",
    "from loguru import logger\n",
    "\n",
    "dotenv.load_dotenv(\"../.env\")\n",
    "\n",
    "api_key = os.getenv(\"OPENAI_API_KEY\")\n",
    "client = OpenAI(\n",
    "    api_key=api_key\n",
    ")\n",
    "\n",
    "def get_embeddings(texts):\n",
    "    client = openai.OpenAI()  # Create an OpenAI client\n",
    "    model = \"text-embedding-ada-002\"  # Use the latest embedding model\n",
    "    response = client.embeddings.create(\n",
    "        input=texts,\n",
    "        model=model\n",
    "    )\n",
    "    # embeddings = [data['embedding'] for data in response['data']]\n",
    "    return response.model_dump()['data'] # type: ignore "
   ]
  },
  {
   "cell_type": "code",
   "execution_count": 2,
   "metadata": {},
   "outputs": [
    {
     "name": "stderr",
     "output_type": "stream",
     "text": [
      "\u001b[32m2024-06-19 16:38:12.257\u001b[0m | \u001b[1mINFO    \u001b[0m | \u001b[36m__main__\u001b[0m:\u001b[36m<module>\u001b[0m:\u001b[36m6\u001b[0m - \u001b[1mloaded signatures data: 9370 rows 3 columns\u001b[0m\n"
     ]
    }
   ],
   "source": [
    "#\n",
    "# get the data set\n",
    "#\n",
    "signatures_path = Path(\"../data/sigs.csv\")\n",
    "df = pd.read_csv(signatures_path)\n",
    "logger.info(\"loaded signatures data: {} rows {} columns\", df.shape[0], df.shape[1])\n",
    "old_name = df.columns[0]\n",
    "df.rename(columns={old_name:\"cell_id\"}, inplace=True)"
   ]
  },
  {
   "cell_type": "code",
   "execution_count": 3,
   "metadata": {},
   "outputs": [],
   "source": [
    "def batch_generator(lst, batch_size=500):\n",
    "    \"\"\"\n",
    "    Generator that yields batches of a given size from a list.\n",
    "    \n",
    "    :param lst: List of arbitrary length.\n",
    "    :param batch_size: Number of elements in each batch (default is 500).\n",
    "    \"\"\"\n",
    "    for i in range(0, len(lst), batch_size):\n",
    "        yield lst[i:i + batch_size]\n"
   ]
  },
  {
   "cell_type": "code",
   "execution_count": 4,
   "metadata": {},
   "outputs": [
    {
     "name": "stdout",
     "output_type": "stream",
     "text": [
      "9370\n"
     ]
    }
   ],
   "source": [
    "s = df.signature\n",
    "print(len(s))"
   ]
  },
  {
   "cell_type": "code",
   "execution_count": 5,
   "metadata": {},
   "outputs": [
    {
     "name": "stdout",
     "output_type": "stream",
     "text": [
      "0 RPL11 CEP350 GNLY PTPN4 SMARCA5 KIAA0825 ORC5 SARAF PDCD4 ABLIM1 FNBP4 SLC38A1 ZC3H13 CTDSPL2 NF1\n",
      "(9370, 3)\n"
     ]
    }
   ],
   "source": [
    "\n",
    "print(df.index[0], df.signature[0])\n",
    "print(df.shape)"
   ]
  },
  {
   "cell_type": "code",
   "execution_count": 6,
   "metadata": {},
   "outputs": [],
   "source": [
    "import requests\n",
    "import json\n",
    "def get_embedding(input):\n",
    "    if not isinstance(input, str):\n",
    "        return []\n",
    "    try:\n",
    "        response = requests.post(\n",
    "            'https://api.openai.com/v1/embeddings',\n",
    "            headers={'Authorization': f'Bearer {openai.api_key}'},\n",
    "            json={'input': input, 'model': 'text-embedding-ada-002'}\n",
    "        )\n",
    "        return response.json()['data'][0]['embedding']\n",
    "    except Exception as e:\n",
    "        logger.error(\"error reading embedding from openai ({})\", e)\n",
    "        return []\n"
   ]
  },
  {
   "cell_type": "code",
   "execution_count": 7,
   "metadata": {},
   "outputs": [
    {
     "name": "stderr",
     "output_type": "stream",
     "text": [
      "\u001b[32m2024-06-19 16:38:35.115\u001b[0m | \u001b[31m\u001b[1mERROR   \u001b[0m | \u001b[36m__main__\u001b[0m:\u001b[36mget_embedding\u001b[0m:\u001b[36m14\u001b[0m - \u001b[31m\u001b[1merror reading embedding from openai ('data')\u001b[0m\n",
      "/tmp/ipykernel_3765250/291955118.py:9: SettingWithCopyWarning: \n",
      "A value is trying to be set on a copy of a slice from a DataFrame\n",
      "\n",
      "See the caveats in the documentation: https://pandas.pydata.org/pandas-docs/stable/user_guide/indexing.html#returning-a-view-versus-a-copy\n",
      "  edf.embedding[i] = json.dumps(e)\n",
      "\u001b[32m2024-06-19 16:38:35.245\u001b[0m | \u001b[31m\u001b[1mERROR   \u001b[0m | \u001b[36m__main__\u001b[0m:\u001b[36mget_embedding\u001b[0m:\u001b[36m14\u001b[0m - \u001b[31m\u001b[1merror reading embedding from openai ('data')\u001b[0m\n",
      "\u001b[32m2024-06-19 16:38:35.383\u001b[0m | \u001b[31m\u001b[1mERROR   \u001b[0m | \u001b[36m__main__\u001b[0m:\u001b[36mget_embedding\u001b[0m:\u001b[36m14\u001b[0m - \u001b[31m\u001b[1merror reading embedding from openai ('data')\u001b[0m\n",
      "\u001b[32m2024-06-19 16:38:35.518\u001b[0m | \u001b[31m\u001b[1mERROR   \u001b[0m | \u001b[36m__main__\u001b[0m:\u001b[36mget_embedding\u001b[0m:\u001b[36m14\u001b[0m - \u001b[31m\u001b[1merror reading embedding from openai ('data')\u001b[0m\n",
      "\u001b[32m2024-06-19 16:38:35.650\u001b[0m | \u001b[31m\u001b[1mERROR   \u001b[0m | \u001b[36m__main__\u001b[0m:\u001b[36mget_embedding\u001b[0m:\u001b[36m14\u001b[0m - \u001b[31m\u001b[1merror reading embedding from openai ('data')\u001b[0m\n",
      "\u001b[32m2024-06-19 16:38:35.785\u001b[0m | \u001b[31m\u001b[1mERROR   \u001b[0m | \u001b[36m__main__\u001b[0m:\u001b[36mget_embedding\u001b[0m:\u001b[36m14\u001b[0m - \u001b[31m\u001b[1merror reading embedding from openai ('data')\u001b[0m\n",
      "\u001b[32m2024-06-19 16:38:35.929\u001b[0m | \u001b[31m\u001b[1mERROR   \u001b[0m | \u001b[36m__main__\u001b[0m:\u001b[36mget_embedding\u001b[0m:\u001b[36m14\u001b[0m - \u001b[31m\u001b[1merror reading embedding from openai ('data')\u001b[0m\n",
      "\u001b[32m2024-06-19 16:38:36.056\u001b[0m | \u001b[31m\u001b[1mERROR   \u001b[0m | \u001b[36m__main__\u001b[0m:\u001b[36mget_embedding\u001b[0m:\u001b[36m14\u001b[0m - \u001b[31m\u001b[1merror reading embedding from openai ('data')\u001b[0m\n",
      "\u001b[32m2024-06-19 16:38:36.179\u001b[0m | \u001b[31m\u001b[1mERROR   \u001b[0m | \u001b[36m__main__\u001b[0m:\u001b[36mget_embedding\u001b[0m:\u001b[36m14\u001b[0m - \u001b[31m\u001b[1merror reading embedding from openai ('data')\u001b[0m\n",
      "\u001b[32m2024-06-19 16:38:36.328\u001b[0m | \u001b[31m\u001b[1mERROR   \u001b[0m | \u001b[36m__main__\u001b[0m:\u001b[36mget_embedding\u001b[0m:\u001b[36m14\u001b[0m - \u001b[31m\u001b[1merror reading embedding from openai ('data')\u001b[0m\n",
      "\u001b[32m2024-06-19 16:38:36.467\u001b[0m | \u001b[31m\u001b[1mERROR   \u001b[0m | \u001b[36m__main__\u001b[0m:\u001b[36mget_embedding\u001b[0m:\u001b[36m14\u001b[0m - \u001b[31m\u001b[1merror reading embedding from openai ('data')\u001b[0m\n",
      "\u001b[32m2024-06-19 16:38:36.594\u001b[0m | \u001b[31m\u001b[1mERROR   \u001b[0m | \u001b[36m__main__\u001b[0m:\u001b[36mget_embedding\u001b[0m:\u001b[36m14\u001b[0m - \u001b[31m\u001b[1merror reading embedding from openai ('data')\u001b[0m\n",
      "\u001b[32m2024-06-19 16:38:36.709\u001b[0m | \u001b[31m\u001b[1mERROR   \u001b[0m | \u001b[36m__main__\u001b[0m:\u001b[36mget_embedding\u001b[0m:\u001b[36m14\u001b[0m - \u001b[31m\u001b[1merror reading embedding from openai ('data')\u001b[0m\n",
      "\u001b[32m2024-06-19 16:38:36.838\u001b[0m | \u001b[31m\u001b[1mERROR   \u001b[0m | \u001b[36m__main__\u001b[0m:\u001b[36mget_embedding\u001b[0m:\u001b[36m14\u001b[0m - \u001b[31m\u001b[1merror reading embedding from openai ('data')\u001b[0m\n",
      "\u001b[32m2024-06-19 16:38:36.964\u001b[0m | \u001b[31m\u001b[1mERROR   \u001b[0m | \u001b[36m__main__\u001b[0m:\u001b[36mget_embedding\u001b[0m:\u001b[36m14\u001b[0m - \u001b[31m\u001b[1merror reading embedding from openai ('data')\u001b[0m\n",
      "\u001b[32m2024-06-19 16:38:37.092\u001b[0m | \u001b[31m\u001b[1mERROR   \u001b[0m | \u001b[36m__main__\u001b[0m:\u001b[36mget_embedding\u001b[0m:\u001b[36m14\u001b[0m - \u001b[31m\u001b[1merror reading embedding from openai ('data')\u001b[0m\n",
      "\u001b[32m2024-06-19 16:38:37.215\u001b[0m | \u001b[31m\u001b[1mERROR   \u001b[0m | \u001b[36m__main__\u001b[0m:\u001b[36mget_embedding\u001b[0m:\u001b[36m14\u001b[0m - \u001b[31m\u001b[1merror reading embedding from openai ('data')\u001b[0m\n",
      "\u001b[32m2024-06-19 16:38:37.365\u001b[0m | \u001b[31m\u001b[1mERROR   \u001b[0m | \u001b[36m__main__\u001b[0m:\u001b[36mget_embedding\u001b[0m:\u001b[36m14\u001b[0m - \u001b[31m\u001b[1merror reading embedding from openai ('data')\u001b[0m\n",
      "\u001b[32m2024-06-19 16:38:37.493\u001b[0m | \u001b[31m\u001b[1mERROR   \u001b[0m | \u001b[36m__main__\u001b[0m:\u001b[36mget_embedding\u001b[0m:\u001b[36m14\u001b[0m - \u001b[31m\u001b[1merror reading embedding from openai ('data')\u001b[0m\n",
      "\u001b[32m2024-06-19 16:38:37.627\u001b[0m | \u001b[31m\u001b[1mERROR   \u001b[0m | \u001b[36m__main__\u001b[0m:\u001b[36mget_embedding\u001b[0m:\u001b[36m14\u001b[0m - \u001b[31m\u001b[1merror reading embedding from openai ('data')\u001b[0m\n",
      "\u001b[32m2024-06-19 16:38:37.750\u001b[0m | \u001b[31m\u001b[1mERROR   \u001b[0m | \u001b[36m__main__\u001b[0m:\u001b[36mget_embedding\u001b[0m:\u001b[36m14\u001b[0m - \u001b[31m\u001b[1merror reading embedding from openai ('data')\u001b[0m\n",
      "\u001b[32m2024-06-19 16:38:37.871\u001b[0m | \u001b[31m\u001b[1mERROR   \u001b[0m | \u001b[36m__main__\u001b[0m:\u001b[36mget_embedding\u001b[0m:\u001b[36m14\u001b[0m - \u001b[31m\u001b[1merror reading embedding from openai ('data')\u001b[0m\n",
      "\u001b[32m2024-06-19 16:38:38.003\u001b[0m | \u001b[31m\u001b[1mERROR   \u001b[0m | \u001b[36m__main__\u001b[0m:\u001b[36mget_embedding\u001b[0m:\u001b[36m14\u001b[0m - \u001b[31m\u001b[1merror reading embedding from openai ('data')\u001b[0m\n",
      "\u001b[32m2024-06-19 16:38:38.129\u001b[0m | \u001b[31m\u001b[1mERROR   \u001b[0m | \u001b[36m__main__\u001b[0m:\u001b[36mget_embedding\u001b[0m:\u001b[36m14\u001b[0m - \u001b[31m\u001b[1merror reading embedding from openai ('data')\u001b[0m\n",
      "\u001b[32m2024-06-19 16:38:38.258\u001b[0m | \u001b[31m\u001b[1mERROR   \u001b[0m | \u001b[36m__main__\u001b[0m:\u001b[36mget_embedding\u001b[0m:\u001b[36m14\u001b[0m - \u001b[31m\u001b[1merror reading embedding from openai ('data')\u001b[0m\n",
      "\u001b[32m2024-06-19 16:38:38.389\u001b[0m | \u001b[31m\u001b[1mERROR   \u001b[0m | \u001b[36m__main__\u001b[0m:\u001b[36mget_embedding\u001b[0m:\u001b[36m14\u001b[0m - \u001b[31m\u001b[1merror reading embedding from openai ('data')\u001b[0m\n",
      "\u001b[32m2024-06-19 16:38:38.516\u001b[0m | \u001b[31m\u001b[1mERROR   \u001b[0m | \u001b[36m__main__\u001b[0m:\u001b[36mget_embedding\u001b[0m:\u001b[36m14\u001b[0m - \u001b[31m\u001b[1merror reading embedding from openai ('data')\u001b[0m\n",
      "\u001b[32m2024-06-19 16:38:38.644\u001b[0m | \u001b[31m\u001b[1mERROR   \u001b[0m | \u001b[36m__main__\u001b[0m:\u001b[36mget_embedding\u001b[0m:\u001b[36m14\u001b[0m - \u001b[31m\u001b[1merror reading embedding from openai ('data')\u001b[0m\n",
      "\u001b[32m2024-06-19 16:38:38.758\u001b[0m | \u001b[31m\u001b[1mERROR   \u001b[0m | \u001b[36m__main__\u001b[0m:\u001b[36mget_embedding\u001b[0m:\u001b[36m14\u001b[0m - \u001b[31m\u001b[1merror reading embedding from openai ('data')\u001b[0m\n",
      "\u001b[32m2024-06-19 16:38:38.889\u001b[0m | \u001b[31m\u001b[1mERROR   \u001b[0m | \u001b[36m__main__\u001b[0m:\u001b[36mget_embedding\u001b[0m:\u001b[36m14\u001b[0m - \u001b[31m\u001b[1merror reading embedding from openai ('data')\u001b[0m\n",
      "\u001b[32m2024-06-19 16:38:39.007\u001b[0m | \u001b[31m\u001b[1mERROR   \u001b[0m | \u001b[36m__main__\u001b[0m:\u001b[36mget_embedding\u001b[0m:\u001b[36m14\u001b[0m - \u001b[31m\u001b[1merror reading embedding from openai ('data')\u001b[0m\n",
      "\u001b[32m2024-06-19 16:38:39.142\u001b[0m | \u001b[31m\u001b[1mERROR   \u001b[0m | \u001b[36m__main__\u001b[0m:\u001b[36mget_embedding\u001b[0m:\u001b[36m14\u001b[0m - \u001b[31m\u001b[1merror reading embedding from openai ('data')\u001b[0m\n",
      "\u001b[32m2024-06-19 16:38:39.263\u001b[0m | \u001b[31m\u001b[1mERROR   \u001b[0m | \u001b[36m__main__\u001b[0m:\u001b[36mget_embedding\u001b[0m:\u001b[36m14\u001b[0m - \u001b[31m\u001b[1merror reading embedding from openai ('data')\u001b[0m\n",
      "\u001b[32m2024-06-19 16:38:39.383\u001b[0m | \u001b[31m\u001b[1mERROR   \u001b[0m | \u001b[36m__main__\u001b[0m:\u001b[36mget_embedding\u001b[0m:\u001b[36m14\u001b[0m - \u001b[31m\u001b[1merror reading embedding from openai ('data')\u001b[0m\n",
      "\u001b[32m2024-06-19 16:38:39.509\u001b[0m | \u001b[31m\u001b[1mERROR   \u001b[0m | \u001b[36m__main__\u001b[0m:\u001b[36mget_embedding\u001b[0m:\u001b[36m14\u001b[0m - \u001b[31m\u001b[1merror reading embedding from openai ('data')\u001b[0m\n",
      "\u001b[32m2024-06-19 16:38:39.643\u001b[0m | \u001b[31m\u001b[1mERROR   \u001b[0m | \u001b[36m__main__\u001b[0m:\u001b[36mget_embedding\u001b[0m:\u001b[36m14\u001b[0m - \u001b[31m\u001b[1merror reading embedding from openai ('data')\u001b[0m\n",
      "\u001b[32m2024-06-19 16:38:39.775\u001b[0m | \u001b[31m\u001b[1mERROR   \u001b[0m | \u001b[36m__main__\u001b[0m:\u001b[36mget_embedding\u001b[0m:\u001b[36m14\u001b[0m - \u001b[31m\u001b[1merror reading embedding from openai ('data')\u001b[0m\n",
      "\u001b[32m2024-06-19 16:38:39.928\u001b[0m | \u001b[31m\u001b[1mERROR   \u001b[0m | \u001b[36m__main__\u001b[0m:\u001b[36mget_embedding\u001b[0m:\u001b[36m14\u001b[0m - \u001b[31m\u001b[1merror reading embedding from openai ('data')\u001b[0m\n",
      "\u001b[32m2024-06-19 16:38:40.058\u001b[0m | \u001b[31m\u001b[1mERROR   \u001b[0m | \u001b[36m__main__\u001b[0m:\u001b[36mget_embedding\u001b[0m:\u001b[36m14\u001b[0m - \u001b[31m\u001b[1merror reading embedding from openai ('data')\u001b[0m\n",
      "\u001b[32m2024-06-19 16:38:40.189\u001b[0m | \u001b[31m\u001b[1mERROR   \u001b[0m | \u001b[36m__main__\u001b[0m:\u001b[36mget_embedding\u001b[0m:\u001b[36m14\u001b[0m - \u001b[31m\u001b[1merror reading embedding from openai ('data')\u001b[0m\n",
      "\u001b[32m2024-06-19 16:38:40.347\u001b[0m | \u001b[31m\u001b[1mERROR   \u001b[0m | \u001b[36m__main__\u001b[0m:\u001b[36mget_embedding\u001b[0m:\u001b[36m14\u001b[0m - \u001b[31m\u001b[1merror reading embedding from openai ('data')\u001b[0m\n",
      "\u001b[32m2024-06-19 16:38:40.473\u001b[0m | \u001b[31m\u001b[1mERROR   \u001b[0m | \u001b[36m__main__\u001b[0m:\u001b[36mget_embedding\u001b[0m:\u001b[36m14\u001b[0m - \u001b[31m\u001b[1merror reading embedding from openai ('data')\u001b[0m\n"
     ]
    },
    {
     "ename": "KeyboardInterrupt",
     "evalue": "",
     "output_type": "error",
     "traceback": [
      "\u001b[0;31m---------------------------------------------------------------------------\u001b[0m",
      "\u001b[0;31mKeyboardInterrupt\u001b[0m                         Traceback (most recent call last)",
      "Cell \u001b[0;32mIn[7], line 8\u001b[0m\n\u001b[1;32m      6\u001b[0m \u001b[38;5;28;01mfor\u001b[39;00m i \u001b[38;5;129;01min\u001b[39;00m \u001b[38;5;28mrange\u001b[39m(df\u001b[38;5;241m.\u001b[39mshape[\u001b[38;5;241m0\u001b[39m]):\n\u001b[1;32m      7\u001b[0m     \u001b[38;5;28;01mtry\u001b[39;00m:\n\u001b[0;32m----> 8\u001b[0m         e \u001b[38;5;241m=\u001b[39m \u001b[43mget_embedding\u001b[49m\u001b[43m(\u001b[49m\u001b[43medf\u001b[49m\u001b[38;5;241;43m.\u001b[39;49m\u001b[43msignature\u001b[49m\u001b[43m[\u001b[49m\u001b[43mi\u001b[49m\u001b[43m]\u001b[49m\u001b[43m)\u001b[49m\n\u001b[1;32m      9\u001b[0m         edf\u001b[38;5;241m.\u001b[39membedding[i] \u001b[38;5;241m=\u001b[39m json\u001b[38;5;241m.\u001b[39mdumps(e)\n\u001b[1;32m     10\u001b[0m     \u001b[38;5;28;01mexcept\u001b[39;00m \u001b[38;5;167;01mException\u001b[39;00m \u001b[38;5;28;01mas\u001b[39;00m e:\n",
      "Cell \u001b[0;32mIn[6], line 7\u001b[0m, in \u001b[0;36mget_embedding\u001b[0;34m(input)\u001b[0m\n\u001b[1;32m      5\u001b[0m     \u001b[38;5;28;01mreturn\u001b[39;00m []\n\u001b[1;32m      6\u001b[0m \u001b[38;5;28;01mtry\u001b[39;00m:\n\u001b[0;32m----> 7\u001b[0m     response \u001b[38;5;241m=\u001b[39m \u001b[43mrequests\u001b[49m\u001b[38;5;241;43m.\u001b[39;49m\u001b[43mpost\u001b[49m\u001b[43m(\u001b[49m\n\u001b[1;32m      8\u001b[0m \u001b[43m        \u001b[49m\u001b[38;5;124;43m'\u001b[39;49m\u001b[38;5;124;43mhttps://api.openai.com/v1/embeddings\u001b[39;49m\u001b[38;5;124;43m'\u001b[39;49m\u001b[43m,\u001b[49m\n\u001b[1;32m      9\u001b[0m \u001b[43m        \u001b[49m\u001b[43mheaders\u001b[49m\u001b[38;5;241;43m=\u001b[39;49m\u001b[43m{\u001b[49m\u001b[38;5;124;43m'\u001b[39;49m\u001b[38;5;124;43mAuthorization\u001b[39;49m\u001b[38;5;124;43m'\u001b[39;49m\u001b[43m:\u001b[49m\u001b[43m \u001b[49m\u001b[38;5;124;43mf\u001b[39;49m\u001b[38;5;124;43m'\u001b[39;49m\u001b[38;5;124;43mBearer \u001b[39;49m\u001b[38;5;132;43;01m{\u001b[39;49;00m\u001b[43mopenai\u001b[49m\u001b[38;5;241;43m.\u001b[39;49m\u001b[43mapi_key\u001b[49m\u001b[38;5;132;43;01m}\u001b[39;49;00m\u001b[38;5;124;43m'\u001b[39;49m\u001b[43m}\u001b[49m\u001b[43m,\u001b[49m\n\u001b[1;32m     10\u001b[0m \u001b[43m        \u001b[49m\u001b[43mjson\u001b[49m\u001b[38;5;241;43m=\u001b[39;49m\u001b[43m{\u001b[49m\u001b[38;5;124;43m'\u001b[39;49m\u001b[38;5;124;43minput\u001b[39;49m\u001b[38;5;124;43m'\u001b[39;49m\u001b[43m:\u001b[49m\u001b[43m \u001b[49m\u001b[38;5;28;43minput\u001b[39;49m\u001b[43m,\u001b[49m\u001b[43m \u001b[49m\u001b[38;5;124;43m'\u001b[39;49m\u001b[38;5;124;43mmodel\u001b[39;49m\u001b[38;5;124;43m'\u001b[39;49m\u001b[43m:\u001b[49m\u001b[43m \u001b[49m\u001b[38;5;124;43m'\u001b[39;49m\u001b[38;5;124;43mtext-embedding-ada-002\u001b[39;49m\u001b[38;5;124;43m'\u001b[39;49m\u001b[43m}\u001b[49m\n\u001b[1;32m     11\u001b[0m \u001b[43m    \u001b[49m\u001b[43m)\u001b[49m\n\u001b[1;32m     12\u001b[0m     \u001b[38;5;28;01mreturn\u001b[39;00m response\u001b[38;5;241m.\u001b[39mjson()[\u001b[38;5;124m'\u001b[39m\u001b[38;5;124mdata\u001b[39m\u001b[38;5;124m'\u001b[39m][\u001b[38;5;241m0\u001b[39m][\u001b[38;5;124m'\u001b[39m\u001b[38;5;124membedding\u001b[39m\u001b[38;5;124m'\u001b[39m]\n\u001b[1;32m     13\u001b[0m \u001b[38;5;28;01mexcept\u001b[39;00m \u001b[38;5;167;01mException\u001b[39;00m \u001b[38;5;28;01mas\u001b[39;00m e:\n",
      "File \u001b[0;32m/mnt/data/david/miniforge3/envs/ragsc/lib/python3.9/site-packages/requests/api.py:115\u001b[0m, in \u001b[0;36mpost\u001b[0;34m(url, data, json, **kwargs)\u001b[0m\n\u001b[1;32m    103\u001b[0m \u001b[38;5;28;01mdef\u001b[39;00m \u001b[38;5;21mpost\u001b[39m(url, data\u001b[38;5;241m=\u001b[39m\u001b[38;5;28;01mNone\u001b[39;00m, json\u001b[38;5;241m=\u001b[39m\u001b[38;5;28;01mNone\u001b[39;00m, \u001b[38;5;241m*\u001b[39m\u001b[38;5;241m*\u001b[39mkwargs):\n\u001b[1;32m    104\u001b[0m \u001b[38;5;250m    \u001b[39m\u001b[38;5;124mr\u001b[39m\u001b[38;5;124;03m\"\"\"Sends a POST request.\u001b[39;00m\n\u001b[1;32m    105\u001b[0m \n\u001b[1;32m    106\u001b[0m \u001b[38;5;124;03m    :param url: URL for the new :class:`Request` object.\u001b[39;00m\n\u001b[0;32m   (...)\u001b[0m\n\u001b[1;32m    112\u001b[0m \u001b[38;5;124;03m    :rtype: requests.Response\u001b[39;00m\n\u001b[1;32m    113\u001b[0m \u001b[38;5;124;03m    \"\"\"\u001b[39;00m\n\u001b[0;32m--> 115\u001b[0m     \u001b[38;5;28;01mreturn\u001b[39;00m \u001b[43mrequest\u001b[49m\u001b[43m(\u001b[49m\u001b[38;5;124;43m\"\u001b[39;49m\u001b[38;5;124;43mpost\u001b[39;49m\u001b[38;5;124;43m\"\u001b[39;49m\u001b[43m,\u001b[49m\u001b[43m \u001b[49m\u001b[43murl\u001b[49m\u001b[43m,\u001b[49m\u001b[43m \u001b[49m\u001b[43mdata\u001b[49m\u001b[38;5;241;43m=\u001b[39;49m\u001b[43mdata\u001b[49m\u001b[43m,\u001b[49m\u001b[43m \u001b[49m\u001b[43mjson\u001b[49m\u001b[38;5;241;43m=\u001b[39;49m\u001b[43mjson\u001b[49m\u001b[43m,\u001b[49m\u001b[43m \u001b[49m\u001b[38;5;241;43m*\u001b[39;49m\u001b[38;5;241;43m*\u001b[39;49m\u001b[43mkwargs\u001b[49m\u001b[43m)\u001b[49m\n",
      "File \u001b[0;32m/mnt/data/david/miniforge3/envs/ragsc/lib/python3.9/site-packages/requests/api.py:59\u001b[0m, in \u001b[0;36mrequest\u001b[0;34m(method, url, **kwargs)\u001b[0m\n\u001b[1;32m     55\u001b[0m \u001b[38;5;66;03m# By using the 'with' statement we are sure the session is closed, thus we\u001b[39;00m\n\u001b[1;32m     56\u001b[0m \u001b[38;5;66;03m# avoid leaving sockets open which can trigger a ResourceWarning in some\u001b[39;00m\n\u001b[1;32m     57\u001b[0m \u001b[38;5;66;03m# cases, and look like a memory leak in others.\u001b[39;00m\n\u001b[1;32m     58\u001b[0m \u001b[38;5;28;01mwith\u001b[39;00m sessions\u001b[38;5;241m.\u001b[39mSession() \u001b[38;5;28;01mas\u001b[39;00m session:\n\u001b[0;32m---> 59\u001b[0m     \u001b[38;5;28;01mreturn\u001b[39;00m \u001b[43msession\u001b[49m\u001b[38;5;241;43m.\u001b[39;49m\u001b[43mrequest\u001b[49m\u001b[43m(\u001b[49m\u001b[43mmethod\u001b[49m\u001b[38;5;241;43m=\u001b[39;49m\u001b[43mmethod\u001b[49m\u001b[43m,\u001b[49m\u001b[43m \u001b[49m\u001b[43murl\u001b[49m\u001b[38;5;241;43m=\u001b[39;49m\u001b[43murl\u001b[49m\u001b[43m,\u001b[49m\u001b[43m \u001b[49m\u001b[38;5;241;43m*\u001b[39;49m\u001b[38;5;241;43m*\u001b[39;49m\u001b[43mkwargs\u001b[49m\u001b[43m)\u001b[49m\n",
      "File \u001b[0;32m/mnt/data/david/miniforge3/envs/ragsc/lib/python3.9/site-packages/requests/sessions.py:589\u001b[0m, in \u001b[0;36mSession.request\u001b[0;34m(self, method, url, params, data, headers, cookies, files, auth, timeout, allow_redirects, proxies, hooks, stream, verify, cert, json)\u001b[0m\n\u001b[1;32m    584\u001b[0m send_kwargs \u001b[38;5;241m=\u001b[39m {\n\u001b[1;32m    585\u001b[0m     \u001b[38;5;124m\"\u001b[39m\u001b[38;5;124mtimeout\u001b[39m\u001b[38;5;124m\"\u001b[39m: timeout,\n\u001b[1;32m    586\u001b[0m     \u001b[38;5;124m\"\u001b[39m\u001b[38;5;124mallow_redirects\u001b[39m\u001b[38;5;124m\"\u001b[39m: allow_redirects,\n\u001b[1;32m    587\u001b[0m }\n\u001b[1;32m    588\u001b[0m send_kwargs\u001b[38;5;241m.\u001b[39mupdate(settings)\n\u001b[0;32m--> 589\u001b[0m resp \u001b[38;5;241m=\u001b[39m \u001b[38;5;28;43mself\u001b[39;49m\u001b[38;5;241;43m.\u001b[39;49m\u001b[43msend\u001b[49m\u001b[43m(\u001b[49m\u001b[43mprep\u001b[49m\u001b[43m,\u001b[49m\u001b[43m \u001b[49m\u001b[38;5;241;43m*\u001b[39;49m\u001b[38;5;241;43m*\u001b[39;49m\u001b[43msend_kwargs\u001b[49m\u001b[43m)\u001b[49m\n\u001b[1;32m    591\u001b[0m \u001b[38;5;28;01mreturn\u001b[39;00m resp\n",
      "File \u001b[0;32m/mnt/data/david/miniforge3/envs/ragsc/lib/python3.9/site-packages/requests/sessions.py:703\u001b[0m, in \u001b[0;36mSession.send\u001b[0;34m(self, request, **kwargs)\u001b[0m\n\u001b[1;32m    700\u001b[0m start \u001b[38;5;241m=\u001b[39m preferred_clock()\n\u001b[1;32m    702\u001b[0m \u001b[38;5;66;03m# Send the request\u001b[39;00m\n\u001b[0;32m--> 703\u001b[0m r \u001b[38;5;241m=\u001b[39m \u001b[43madapter\u001b[49m\u001b[38;5;241;43m.\u001b[39;49m\u001b[43msend\u001b[49m\u001b[43m(\u001b[49m\u001b[43mrequest\u001b[49m\u001b[43m,\u001b[49m\u001b[43m \u001b[49m\u001b[38;5;241;43m*\u001b[39;49m\u001b[38;5;241;43m*\u001b[39;49m\u001b[43mkwargs\u001b[49m\u001b[43m)\u001b[49m\n\u001b[1;32m    705\u001b[0m \u001b[38;5;66;03m# Total elapsed time of the request (approximately)\u001b[39;00m\n\u001b[1;32m    706\u001b[0m elapsed \u001b[38;5;241m=\u001b[39m preferred_clock() \u001b[38;5;241m-\u001b[39m start\n",
      "File \u001b[0;32m/mnt/data/david/miniforge3/envs/ragsc/lib/python3.9/site-packages/requests/adapters.py:589\u001b[0m, in \u001b[0;36mHTTPAdapter.send\u001b[0;34m(self, request, stream, timeout, verify, cert, proxies)\u001b[0m\n\u001b[1;32m    586\u001b[0m     timeout \u001b[38;5;241m=\u001b[39m TimeoutSauce(connect\u001b[38;5;241m=\u001b[39mtimeout, read\u001b[38;5;241m=\u001b[39mtimeout)\n\u001b[1;32m    588\u001b[0m \u001b[38;5;28;01mtry\u001b[39;00m:\n\u001b[0;32m--> 589\u001b[0m     resp \u001b[38;5;241m=\u001b[39m \u001b[43mconn\u001b[49m\u001b[38;5;241;43m.\u001b[39;49m\u001b[43murlopen\u001b[49m\u001b[43m(\u001b[49m\n\u001b[1;32m    590\u001b[0m \u001b[43m        \u001b[49m\u001b[43mmethod\u001b[49m\u001b[38;5;241;43m=\u001b[39;49m\u001b[43mrequest\u001b[49m\u001b[38;5;241;43m.\u001b[39;49m\u001b[43mmethod\u001b[49m\u001b[43m,\u001b[49m\n\u001b[1;32m    591\u001b[0m \u001b[43m        \u001b[49m\u001b[43murl\u001b[49m\u001b[38;5;241;43m=\u001b[39;49m\u001b[43murl\u001b[49m\u001b[43m,\u001b[49m\n\u001b[1;32m    592\u001b[0m \u001b[43m        \u001b[49m\u001b[43mbody\u001b[49m\u001b[38;5;241;43m=\u001b[39;49m\u001b[43mrequest\u001b[49m\u001b[38;5;241;43m.\u001b[39;49m\u001b[43mbody\u001b[49m\u001b[43m,\u001b[49m\n\u001b[1;32m    593\u001b[0m \u001b[43m        \u001b[49m\u001b[43mheaders\u001b[49m\u001b[38;5;241;43m=\u001b[39;49m\u001b[43mrequest\u001b[49m\u001b[38;5;241;43m.\u001b[39;49m\u001b[43mheaders\u001b[49m\u001b[43m,\u001b[49m\n\u001b[1;32m    594\u001b[0m \u001b[43m        \u001b[49m\u001b[43mredirect\u001b[49m\u001b[38;5;241;43m=\u001b[39;49m\u001b[38;5;28;43;01mFalse\u001b[39;49;00m\u001b[43m,\u001b[49m\n\u001b[1;32m    595\u001b[0m \u001b[43m        \u001b[49m\u001b[43massert_same_host\u001b[49m\u001b[38;5;241;43m=\u001b[39;49m\u001b[38;5;28;43;01mFalse\u001b[39;49;00m\u001b[43m,\u001b[49m\n\u001b[1;32m    596\u001b[0m \u001b[43m        \u001b[49m\u001b[43mpreload_content\u001b[49m\u001b[38;5;241;43m=\u001b[39;49m\u001b[38;5;28;43;01mFalse\u001b[39;49;00m\u001b[43m,\u001b[49m\n\u001b[1;32m    597\u001b[0m \u001b[43m        \u001b[49m\u001b[43mdecode_content\u001b[49m\u001b[38;5;241;43m=\u001b[39;49m\u001b[38;5;28;43;01mFalse\u001b[39;49;00m\u001b[43m,\u001b[49m\n\u001b[1;32m    598\u001b[0m \u001b[43m        \u001b[49m\u001b[43mretries\u001b[49m\u001b[38;5;241;43m=\u001b[39;49m\u001b[38;5;28;43mself\u001b[39;49m\u001b[38;5;241;43m.\u001b[39;49m\u001b[43mmax_retries\u001b[49m\u001b[43m,\u001b[49m\n\u001b[1;32m    599\u001b[0m \u001b[43m        \u001b[49m\u001b[43mtimeout\u001b[49m\u001b[38;5;241;43m=\u001b[39;49m\u001b[43mtimeout\u001b[49m\u001b[43m,\u001b[49m\n\u001b[1;32m    600\u001b[0m \u001b[43m        \u001b[49m\u001b[43mchunked\u001b[49m\u001b[38;5;241;43m=\u001b[39;49m\u001b[43mchunked\u001b[49m\u001b[43m,\u001b[49m\n\u001b[1;32m    601\u001b[0m \u001b[43m    \u001b[49m\u001b[43m)\u001b[49m\n\u001b[1;32m    603\u001b[0m \u001b[38;5;28;01mexcept\u001b[39;00m (ProtocolError, \u001b[38;5;167;01mOSError\u001b[39;00m) \u001b[38;5;28;01mas\u001b[39;00m err:\n\u001b[1;32m    604\u001b[0m     \u001b[38;5;28;01mraise\u001b[39;00m \u001b[38;5;167;01mConnectionError\u001b[39;00m(err, request\u001b[38;5;241m=\u001b[39mrequest)\n",
      "File \u001b[0;32m/mnt/data/david/miniforge3/envs/ragsc/lib/python3.9/site-packages/urllib3/connectionpool.py:793\u001b[0m, in \u001b[0;36mHTTPConnectionPool.urlopen\u001b[0;34m(self, method, url, body, headers, retries, redirect, assert_same_host, timeout, pool_timeout, release_conn, chunked, body_pos, preload_content, decode_content, **response_kw)\u001b[0m\n\u001b[1;32m    790\u001b[0m response_conn \u001b[38;5;241m=\u001b[39m conn \u001b[38;5;28;01mif\u001b[39;00m \u001b[38;5;129;01mnot\u001b[39;00m release_conn \u001b[38;5;28;01melse\u001b[39;00m \u001b[38;5;28;01mNone\u001b[39;00m\n\u001b[1;32m    792\u001b[0m \u001b[38;5;66;03m# Make the request on the HTTPConnection object\u001b[39;00m\n\u001b[0;32m--> 793\u001b[0m response \u001b[38;5;241m=\u001b[39m \u001b[38;5;28;43mself\u001b[39;49m\u001b[38;5;241;43m.\u001b[39;49m\u001b[43m_make_request\u001b[49m\u001b[43m(\u001b[49m\n\u001b[1;32m    794\u001b[0m \u001b[43m    \u001b[49m\u001b[43mconn\u001b[49m\u001b[43m,\u001b[49m\n\u001b[1;32m    795\u001b[0m \u001b[43m    \u001b[49m\u001b[43mmethod\u001b[49m\u001b[43m,\u001b[49m\n\u001b[1;32m    796\u001b[0m \u001b[43m    \u001b[49m\u001b[43murl\u001b[49m\u001b[43m,\u001b[49m\n\u001b[1;32m    797\u001b[0m \u001b[43m    \u001b[49m\u001b[43mtimeout\u001b[49m\u001b[38;5;241;43m=\u001b[39;49m\u001b[43mtimeout_obj\u001b[49m\u001b[43m,\u001b[49m\n\u001b[1;32m    798\u001b[0m \u001b[43m    \u001b[49m\u001b[43mbody\u001b[49m\u001b[38;5;241;43m=\u001b[39;49m\u001b[43mbody\u001b[49m\u001b[43m,\u001b[49m\n\u001b[1;32m    799\u001b[0m \u001b[43m    \u001b[49m\u001b[43mheaders\u001b[49m\u001b[38;5;241;43m=\u001b[39;49m\u001b[43mheaders\u001b[49m\u001b[43m,\u001b[49m\n\u001b[1;32m    800\u001b[0m \u001b[43m    \u001b[49m\u001b[43mchunked\u001b[49m\u001b[38;5;241;43m=\u001b[39;49m\u001b[43mchunked\u001b[49m\u001b[43m,\u001b[49m\n\u001b[1;32m    801\u001b[0m \u001b[43m    \u001b[49m\u001b[43mretries\u001b[49m\u001b[38;5;241;43m=\u001b[39;49m\u001b[43mretries\u001b[49m\u001b[43m,\u001b[49m\n\u001b[1;32m    802\u001b[0m \u001b[43m    \u001b[49m\u001b[43mresponse_conn\u001b[49m\u001b[38;5;241;43m=\u001b[39;49m\u001b[43mresponse_conn\u001b[49m\u001b[43m,\u001b[49m\n\u001b[1;32m    803\u001b[0m \u001b[43m    \u001b[49m\u001b[43mpreload_content\u001b[49m\u001b[38;5;241;43m=\u001b[39;49m\u001b[43mpreload_content\u001b[49m\u001b[43m,\u001b[49m\n\u001b[1;32m    804\u001b[0m \u001b[43m    \u001b[49m\u001b[43mdecode_content\u001b[49m\u001b[38;5;241;43m=\u001b[39;49m\u001b[43mdecode_content\u001b[49m\u001b[43m,\u001b[49m\n\u001b[1;32m    805\u001b[0m \u001b[43m    \u001b[49m\u001b[38;5;241;43m*\u001b[39;49m\u001b[38;5;241;43m*\u001b[39;49m\u001b[43mresponse_kw\u001b[49m\u001b[43m,\u001b[49m\n\u001b[1;32m    806\u001b[0m \u001b[43m\u001b[49m\u001b[43m)\u001b[49m\n\u001b[1;32m    808\u001b[0m \u001b[38;5;66;03m# Everything went great!\u001b[39;00m\n\u001b[1;32m    809\u001b[0m clean_exit \u001b[38;5;241m=\u001b[39m \u001b[38;5;28;01mTrue\u001b[39;00m\n",
      "File \u001b[0;32m/mnt/data/david/miniforge3/envs/ragsc/lib/python3.9/site-packages/urllib3/connectionpool.py:467\u001b[0m, in \u001b[0;36mHTTPConnectionPool._make_request\u001b[0;34m(self, conn, method, url, body, headers, retries, timeout, chunked, response_conn, preload_content, decode_content, enforce_content_length)\u001b[0m\n\u001b[1;32m    464\u001b[0m \u001b[38;5;28;01mtry\u001b[39;00m:\n\u001b[1;32m    465\u001b[0m     \u001b[38;5;66;03m# Trigger any extra validation we need to do.\u001b[39;00m\n\u001b[1;32m    466\u001b[0m     \u001b[38;5;28;01mtry\u001b[39;00m:\n\u001b[0;32m--> 467\u001b[0m         \u001b[38;5;28;43mself\u001b[39;49m\u001b[38;5;241;43m.\u001b[39;49m\u001b[43m_validate_conn\u001b[49m\u001b[43m(\u001b[49m\u001b[43mconn\u001b[49m\u001b[43m)\u001b[49m\n\u001b[1;32m    468\u001b[0m     \u001b[38;5;28;01mexcept\u001b[39;00m (SocketTimeout, BaseSSLError) \u001b[38;5;28;01mas\u001b[39;00m e:\n\u001b[1;32m    469\u001b[0m         \u001b[38;5;28mself\u001b[39m\u001b[38;5;241m.\u001b[39m_raise_timeout(err\u001b[38;5;241m=\u001b[39me, url\u001b[38;5;241m=\u001b[39murl, timeout_value\u001b[38;5;241m=\u001b[39mconn\u001b[38;5;241m.\u001b[39mtimeout)\n",
      "File \u001b[0;32m/mnt/data/david/miniforge3/envs/ragsc/lib/python3.9/site-packages/urllib3/connectionpool.py:1099\u001b[0m, in \u001b[0;36mHTTPSConnectionPool._validate_conn\u001b[0;34m(self, conn)\u001b[0m\n\u001b[1;32m   1097\u001b[0m \u001b[38;5;66;03m# Force connect early to allow us to validate the connection.\u001b[39;00m\n\u001b[1;32m   1098\u001b[0m \u001b[38;5;28;01mif\u001b[39;00m conn\u001b[38;5;241m.\u001b[39mis_closed:\n\u001b[0;32m-> 1099\u001b[0m     \u001b[43mconn\u001b[49m\u001b[38;5;241;43m.\u001b[39;49m\u001b[43mconnect\u001b[49m\u001b[43m(\u001b[49m\u001b[43m)\u001b[49m\n\u001b[1;32m   1101\u001b[0m \u001b[38;5;66;03m# TODO revise this, see https://github.com/urllib3/urllib3/issues/2791\u001b[39;00m\n\u001b[1;32m   1102\u001b[0m \u001b[38;5;28;01mif\u001b[39;00m \u001b[38;5;129;01mnot\u001b[39;00m conn\u001b[38;5;241m.\u001b[39mis_verified \u001b[38;5;129;01mand\u001b[39;00m \u001b[38;5;129;01mnot\u001b[39;00m conn\u001b[38;5;241m.\u001b[39mproxy_is_verified:\n",
      "File \u001b[0;32m/mnt/data/david/miniforge3/envs/ragsc/lib/python3.9/site-packages/urllib3/connection.py:653\u001b[0m, in \u001b[0;36mHTTPSConnection.connect\u001b[0;34m(self)\u001b[0m\n\u001b[1;32m    650\u001b[0m \u001b[38;5;66;03m# Remove trailing '.' from fqdn hostnames to allow certificate validation\u001b[39;00m\n\u001b[1;32m    651\u001b[0m server_hostname_rm_dot \u001b[38;5;241m=\u001b[39m server_hostname\u001b[38;5;241m.\u001b[39mrstrip(\u001b[38;5;124m\"\u001b[39m\u001b[38;5;124m.\u001b[39m\u001b[38;5;124m\"\u001b[39m)\n\u001b[0;32m--> 653\u001b[0m sock_and_verified \u001b[38;5;241m=\u001b[39m \u001b[43m_ssl_wrap_socket_and_match_hostname\u001b[49m\u001b[43m(\u001b[49m\n\u001b[1;32m    654\u001b[0m \u001b[43m    \u001b[49m\u001b[43msock\u001b[49m\u001b[38;5;241;43m=\u001b[39;49m\u001b[43msock\u001b[49m\u001b[43m,\u001b[49m\n\u001b[1;32m    655\u001b[0m \u001b[43m    \u001b[49m\u001b[43mcert_reqs\u001b[49m\u001b[38;5;241;43m=\u001b[39;49m\u001b[38;5;28;43mself\u001b[39;49m\u001b[38;5;241;43m.\u001b[39;49m\u001b[43mcert_reqs\u001b[49m\u001b[43m,\u001b[49m\n\u001b[1;32m    656\u001b[0m \u001b[43m    \u001b[49m\u001b[43mssl_version\u001b[49m\u001b[38;5;241;43m=\u001b[39;49m\u001b[38;5;28;43mself\u001b[39;49m\u001b[38;5;241;43m.\u001b[39;49m\u001b[43mssl_version\u001b[49m\u001b[43m,\u001b[49m\n\u001b[1;32m    657\u001b[0m \u001b[43m    \u001b[49m\u001b[43mssl_minimum_version\u001b[49m\u001b[38;5;241;43m=\u001b[39;49m\u001b[38;5;28;43mself\u001b[39;49m\u001b[38;5;241;43m.\u001b[39;49m\u001b[43mssl_minimum_version\u001b[49m\u001b[43m,\u001b[49m\n\u001b[1;32m    658\u001b[0m \u001b[43m    \u001b[49m\u001b[43mssl_maximum_version\u001b[49m\u001b[38;5;241;43m=\u001b[39;49m\u001b[38;5;28;43mself\u001b[39;49m\u001b[38;5;241;43m.\u001b[39;49m\u001b[43mssl_maximum_version\u001b[49m\u001b[43m,\u001b[49m\n\u001b[1;32m    659\u001b[0m \u001b[43m    \u001b[49m\u001b[43mca_certs\u001b[49m\u001b[38;5;241;43m=\u001b[39;49m\u001b[38;5;28;43mself\u001b[39;49m\u001b[38;5;241;43m.\u001b[39;49m\u001b[43mca_certs\u001b[49m\u001b[43m,\u001b[49m\n\u001b[1;32m    660\u001b[0m \u001b[43m    \u001b[49m\u001b[43mca_cert_dir\u001b[49m\u001b[38;5;241;43m=\u001b[39;49m\u001b[38;5;28;43mself\u001b[39;49m\u001b[38;5;241;43m.\u001b[39;49m\u001b[43mca_cert_dir\u001b[49m\u001b[43m,\u001b[49m\n\u001b[1;32m    661\u001b[0m \u001b[43m    \u001b[49m\u001b[43mca_cert_data\u001b[49m\u001b[38;5;241;43m=\u001b[39;49m\u001b[38;5;28;43mself\u001b[39;49m\u001b[38;5;241;43m.\u001b[39;49m\u001b[43mca_cert_data\u001b[49m\u001b[43m,\u001b[49m\n\u001b[1;32m    662\u001b[0m \u001b[43m    \u001b[49m\u001b[43mcert_file\u001b[49m\u001b[38;5;241;43m=\u001b[39;49m\u001b[38;5;28;43mself\u001b[39;49m\u001b[38;5;241;43m.\u001b[39;49m\u001b[43mcert_file\u001b[49m\u001b[43m,\u001b[49m\n\u001b[1;32m    663\u001b[0m \u001b[43m    \u001b[49m\u001b[43mkey_file\u001b[49m\u001b[38;5;241;43m=\u001b[39;49m\u001b[38;5;28;43mself\u001b[39;49m\u001b[38;5;241;43m.\u001b[39;49m\u001b[43mkey_file\u001b[49m\u001b[43m,\u001b[49m\n\u001b[1;32m    664\u001b[0m \u001b[43m    \u001b[49m\u001b[43mkey_password\u001b[49m\u001b[38;5;241;43m=\u001b[39;49m\u001b[38;5;28;43mself\u001b[39;49m\u001b[38;5;241;43m.\u001b[39;49m\u001b[43mkey_password\u001b[49m\u001b[43m,\u001b[49m\n\u001b[1;32m    665\u001b[0m \u001b[43m    \u001b[49m\u001b[43mserver_hostname\u001b[49m\u001b[38;5;241;43m=\u001b[39;49m\u001b[43mserver_hostname_rm_dot\u001b[49m\u001b[43m,\u001b[49m\n\u001b[1;32m    666\u001b[0m \u001b[43m    \u001b[49m\u001b[43mssl_context\u001b[49m\u001b[38;5;241;43m=\u001b[39;49m\u001b[38;5;28;43mself\u001b[39;49m\u001b[38;5;241;43m.\u001b[39;49m\u001b[43mssl_context\u001b[49m\u001b[43m,\u001b[49m\n\u001b[1;32m    667\u001b[0m \u001b[43m    \u001b[49m\u001b[43mtls_in_tls\u001b[49m\u001b[38;5;241;43m=\u001b[39;49m\u001b[43mtls_in_tls\u001b[49m\u001b[43m,\u001b[49m\n\u001b[1;32m    668\u001b[0m \u001b[43m    \u001b[49m\u001b[43massert_hostname\u001b[49m\u001b[38;5;241;43m=\u001b[39;49m\u001b[38;5;28;43mself\u001b[39;49m\u001b[38;5;241;43m.\u001b[39;49m\u001b[43massert_hostname\u001b[49m\u001b[43m,\u001b[49m\n\u001b[1;32m    669\u001b[0m \u001b[43m    \u001b[49m\u001b[43massert_fingerprint\u001b[49m\u001b[38;5;241;43m=\u001b[39;49m\u001b[38;5;28;43mself\u001b[39;49m\u001b[38;5;241;43m.\u001b[39;49m\u001b[43massert_fingerprint\u001b[49m\u001b[43m,\u001b[49m\n\u001b[1;32m    670\u001b[0m \u001b[43m\u001b[49m\u001b[43m)\u001b[49m\n\u001b[1;32m    671\u001b[0m \u001b[38;5;28mself\u001b[39m\u001b[38;5;241m.\u001b[39msock \u001b[38;5;241m=\u001b[39m sock_and_verified\u001b[38;5;241m.\u001b[39msocket\n\u001b[1;32m    673\u001b[0m \u001b[38;5;66;03m# Forwarding proxies can never have a verified target since\u001b[39;00m\n\u001b[1;32m    674\u001b[0m \u001b[38;5;66;03m# the proxy is the one doing the verification. Should instead\u001b[39;00m\n\u001b[1;32m    675\u001b[0m \u001b[38;5;66;03m# use a CONNECT tunnel in order to verify the target.\u001b[39;00m\n\u001b[1;32m    676\u001b[0m \u001b[38;5;66;03m# See: https://github.com/urllib3/urllib3/issues/3267.\u001b[39;00m\n",
      "File \u001b[0;32m/mnt/data/david/miniforge3/envs/ragsc/lib/python3.9/site-packages/urllib3/connection.py:806\u001b[0m, in \u001b[0;36m_ssl_wrap_socket_and_match_hostname\u001b[0;34m(sock, cert_reqs, ssl_version, ssl_minimum_version, ssl_maximum_version, cert_file, key_file, key_password, ca_certs, ca_cert_dir, ca_cert_data, assert_hostname, assert_fingerprint, server_hostname, ssl_context, tls_in_tls)\u001b[0m\n\u001b[1;32m    803\u001b[0m     \u001b[38;5;28;01mif\u001b[39;00m is_ipaddress(normalized):\n\u001b[1;32m    804\u001b[0m         server_hostname \u001b[38;5;241m=\u001b[39m normalized\n\u001b[0;32m--> 806\u001b[0m ssl_sock \u001b[38;5;241m=\u001b[39m \u001b[43mssl_wrap_socket\u001b[49m\u001b[43m(\u001b[49m\n\u001b[1;32m    807\u001b[0m \u001b[43m    \u001b[49m\u001b[43msock\u001b[49m\u001b[38;5;241;43m=\u001b[39;49m\u001b[43msock\u001b[49m\u001b[43m,\u001b[49m\n\u001b[1;32m    808\u001b[0m \u001b[43m    \u001b[49m\u001b[43mkeyfile\u001b[49m\u001b[38;5;241;43m=\u001b[39;49m\u001b[43mkey_file\u001b[49m\u001b[43m,\u001b[49m\n\u001b[1;32m    809\u001b[0m \u001b[43m    \u001b[49m\u001b[43mcertfile\u001b[49m\u001b[38;5;241;43m=\u001b[39;49m\u001b[43mcert_file\u001b[49m\u001b[43m,\u001b[49m\n\u001b[1;32m    810\u001b[0m \u001b[43m    \u001b[49m\u001b[43mkey_password\u001b[49m\u001b[38;5;241;43m=\u001b[39;49m\u001b[43mkey_password\u001b[49m\u001b[43m,\u001b[49m\n\u001b[1;32m    811\u001b[0m \u001b[43m    \u001b[49m\u001b[43mca_certs\u001b[49m\u001b[38;5;241;43m=\u001b[39;49m\u001b[43mca_certs\u001b[49m\u001b[43m,\u001b[49m\n\u001b[1;32m    812\u001b[0m \u001b[43m    \u001b[49m\u001b[43mca_cert_dir\u001b[49m\u001b[38;5;241;43m=\u001b[39;49m\u001b[43mca_cert_dir\u001b[49m\u001b[43m,\u001b[49m\n\u001b[1;32m    813\u001b[0m \u001b[43m    \u001b[49m\u001b[43mca_cert_data\u001b[49m\u001b[38;5;241;43m=\u001b[39;49m\u001b[43mca_cert_data\u001b[49m\u001b[43m,\u001b[49m\n\u001b[1;32m    814\u001b[0m \u001b[43m    \u001b[49m\u001b[43mserver_hostname\u001b[49m\u001b[38;5;241;43m=\u001b[39;49m\u001b[43mserver_hostname\u001b[49m\u001b[43m,\u001b[49m\n\u001b[1;32m    815\u001b[0m \u001b[43m    \u001b[49m\u001b[43mssl_context\u001b[49m\u001b[38;5;241;43m=\u001b[39;49m\u001b[43mcontext\u001b[49m\u001b[43m,\u001b[49m\n\u001b[1;32m    816\u001b[0m \u001b[43m    \u001b[49m\u001b[43mtls_in_tls\u001b[49m\u001b[38;5;241;43m=\u001b[39;49m\u001b[43mtls_in_tls\u001b[49m\u001b[43m,\u001b[49m\n\u001b[1;32m    817\u001b[0m \u001b[43m\u001b[49m\u001b[43m)\u001b[49m\n\u001b[1;32m    819\u001b[0m \u001b[38;5;28;01mtry\u001b[39;00m:\n\u001b[1;32m    820\u001b[0m     \u001b[38;5;28;01mif\u001b[39;00m assert_fingerprint:\n",
      "File \u001b[0;32m/mnt/data/david/miniforge3/envs/ragsc/lib/python3.9/site-packages/urllib3/util/ssl_.py:465\u001b[0m, in \u001b[0;36mssl_wrap_socket\u001b[0;34m(sock, keyfile, certfile, cert_reqs, ca_certs, server_hostname, ssl_version, ciphers, ssl_context, ca_cert_dir, key_password, ca_cert_data, tls_in_tls)\u001b[0m\n\u001b[1;32m    462\u001b[0m \u001b[38;5;28;01mexcept\u001b[39;00m \u001b[38;5;167;01mNotImplementedError\u001b[39;00m:  \u001b[38;5;66;03m# Defensive: in CI, we always have set_alpn_protocols\u001b[39;00m\n\u001b[1;32m    463\u001b[0m     \u001b[38;5;28;01mpass\u001b[39;00m\n\u001b[0;32m--> 465\u001b[0m ssl_sock \u001b[38;5;241m=\u001b[39m \u001b[43m_ssl_wrap_socket_impl\u001b[49m\u001b[43m(\u001b[49m\u001b[43msock\u001b[49m\u001b[43m,\u001b[49m\u001b[43m \u001b[49m\u001b[43mcontext\u001b[49m\u001b[43m,\u001b[49m\u001b[43m \u001b[49m\u001b[43mtls_in_tls\u001b[49m\u001b[43m,\u001b[49m\u001b[43m \u001b[49m\u001b[43mserver_hostname\u001b[49m\u001b[43m)\u001b[49m\n\u001b[1;32m    466\u001b[0m \u001b[38;5;28;01mreturn\u001b[39;00m ssl_sock\n",
      "File \u001b[0;32m/mnt/data/david/miniforge3/envs/ragsc/lib/python3.9/site-packages/urllib3/util/ssl_.py:509\u001b[0m, in \u001b[0;36m_ssl_wrap_socket_impl\u001b[0;34m(sock, ssl_context, tls_in_tls, server_hostname)\u001b[0m\n\u001b[1;32m    506\u001b[0m     SSLTransport\u001b[38;5;241m.\u001b[39m_validate_ssl_context_for_tls_in_tls(ssl_context)\n\u001b[1;32m    507\u001b[0m     \u001b[38;5;28;01mreturn\u001b[39;00m SSLTransport(sock, ssl_context, server_hostname)\n\u001b[0;32m--> 509\u001b[0m \u001b[38;5;28;01mreturn\u001b[39;00m \u001b[43mssl_context\u001b[49m\u001b[38;5;241;43m.\u001b[39;49m\u001b[43mwrap_socket\u001b[49m\u001b[43m(\u001b[49m\u001b[43msock\u001b[49m\u001b[43m,\u001b[49m\u001b[43m \u001b[49m\u001b[43mserver_hostname\u001b[49m\u001b[38;5;241;43m=\u001b[39;49m\u001b[43mserver_hostname\u001b[49m\u001b[43m)\u001b[49m\n",
      "File \u001b[0;32m/mnt/data/david/miniforge3/envs/ragsc/lib/python3.9/ssl.py:501\u001b[0m, in \u001b[0;36mSSLContext.wrap_socket\u001b[0;34m(self, sock, server_side, do_handshake_on_connect, suppress_ragged_eofs, server_hostname, session)\u001b[0m\n\u001b[1;32m    495\u001b[0m \u001b[38;5;28;01mdef\u001b[39;00m \u001b[38;5;21mwrap_socket\u001b[39m(\u001b[38;5;28mself\u001b[39m, sock, server_side\u001b[38;5;241m=\u001b[39m\u001b[38;5;28;01mFalse\u001b[39;00m,\n\u001b[1;32m    496\u001b[0m                 do_handshake_on_connect\u001b[38;5;241m=\u001b[39m\u001b[38;5;28;01mTrue\u001b[39;00m,\n\u001b[1;32m    497\u001b[0m                 suppress_ragged_eofs\u001b[38;5;241m=\u001b[39m\u001b[38;5;28;01mTrue\u001b[39;00m,\n\u001b[1;32m    498\u001b[0m                 server_hostname\u001b[38;5;241m=\u001b[39m\u001b[38;5;28;01mNone\u001b[39;00m, session\u001b[38;5;241m=\u001b[39m\u001b[38;5;28;01mNone\u001b[39;00m):\n\u001b[1;32m    499\u001b[0m     \u001b[38;5;66;03m# SSLSocket class handles server_hostname encoding before it calls\u001b[39;00m\n\u001b[1;32m    500\u001b[0m     \u001b[38;5;66;03m# ctx._wrap_socket()\u001b[39;00m\n\u001b[0;32m--> 501\u001b[0m     \u001b[38;5;28;01mreturn\u001b[39;00m \u001b[38;5;28;43mself\u001b[39;49m\u001b[38;5;241;43m.\u001b[39;49m\u001b[43msslsocket_class\u001b[49m\u001b[38;5;241;43m.\u001b[39;49m\u001b[43m_create\u001b[49m\u001b[43m(\u001b[49m\n\u001b[1;32m    502\u001b[0m \u001b[43m        \u001b[49m\u001b[43msock\u001b[49m\u001b[38;5;241;43m=\u001b[39;49m\u001b[43msock\u001b[49m\u001b[43m,\u001b[49m\n\u001b[1;32m    503\u001b[0m \u001b[43m        \u001b[49m\u001b[43mserver_side\u001b[49m\u001b[38;5;241;43m=\u001b[39;49m\u001b[43mserver_side\u001b[49m\u001b[43m,\u001b[49m\n\u001b[1;32m    504\u001b[0m \u001b[43m        \u001b[49m\u001b[43mdo_handshake_on_connect\u001b[49m\u001b[38;5;241;43m=\u001b[39;49m\u001b[43mdo_handshake_on_connect\u001b[49m\u001b[43m,\u001b[49m\n\u001b[1;32m    505\u001b[0m \u001b[43m        \u001b[49m\u001b[43msuppress_ragged_eofs\u001b[49m\u001b[38;5;241;43m=\u001b[39;49m\u001b[43msuppress_ragged_eofs\u001b[49m\u001b[43m,\u001b[49m\n\u001b[1;32m    506\u001b[0m \u001b[43m        \u001b[49m\u001b[43mserver_hostname\u001b[49m\u001b[38;5;241;43m=\u001b[39;49m\u001b[43mserver_hostname\u001b[49m\u001b[43m,\u001b[49m\n\u001b[1;32m    507\u001b[0m \u001b[43m        \u001b[49m\u001b[43mcontext\u001b[49m\u001b[38;5;241;43m=\u001b[39;49m\u001b[38;5;28;43mself\u001b[39;49m\u001b[43m,\u001b[49m\n\u001b[1;32m    508\u001b[0m \u001b[43m        \u001b[49m\u001b[43msession\u001b[49m\u001b[38;5;241;43m=\u001b[39;49m\u001b[43msession\u001b[49m\n\u001b[1;32m    509\u001b[0m \u001b[43m    \u001b[49m\u001b[43m)\u001b[49m\n",
      "File \u001b[0;32m/mnt/data/david/miniforge3/envs/ragsc/lib/python3.9/ssl.py:1074\u001b[0m, in \u001b[0;36mSSLSocket._create\u001b[0;34m(cls, sock, server_side, do_handshake_on_connect, suppress_ragged_eofs, server_hostname, context, session)\u001b[0m\n\u001b[1;32m   1071\u001b[0m         \u001b[38;5;28;01mif\u001b[39;00m timeout \u001b[38;5;241m==\u001b[39m \u001b[38;5;241m0.0\u001b[39m:\n\u001b[1;32m   1072\u001b[0m             \u001b[38;5;66;03m# non-blocking\u001b[39;00m\n\u001b[1;32m   1073\u001b[0m             \u001b[38;5;28;01mraise\u001b[39;00m \u001b[38;5;167;01mValueError\u001b[39;00m(\u001b[38;5;124m\"\u001b[39m\u001b[38;5;124mdo_handshake_on_connect should not be specified for non-blocking sockets\u001b[39m\u001b[38;5;124m\"\u001b[39m)\n\u001b[0;32m-> 1074\u001b[0m         \u001b[38;5;28;43mself\u001b[39;49m\u001b[38;5;241;43m.\u001b[39;49m\u001b[43mdo_handshake\u001b[49m\u001b[43m(\u001b[49m\u001b[43m)\u001b[49m\n\u001b[1;32m   1075\u001b[0m \u001b[38;5;28;01mexcept\u001b[39;00m (\u001b[38;5;167;01mOSError\u001b[39;00m, \u001b[38;5;167;01mValueError\u001b[39;00m):\n\u001b[1;32m   1076\u001b[0m     \u001b[38;5;28mself\u001b[39m\u001b[38;5;241m.\u001b[39mclose()\n",
      "File \u001b[0;32m/mnt/data/david/miniforge3/envs/ragsc/lib/python3.9/ssl.py:1343\u001b[0m, in \u001b[0;36mSSLSocket.do_handshake\u001b[0;34m(self, block)\u001b[0m\n\u001b[1;32m   1341\u001b[0m     \u001b[38;5;28;01mif\u001b[39;00m timeout \u001b[38;5;241m==\u001b[39m \u001b[38;5;241m0.0\u001b[39m \u001b[38;5;129;01mand\u001b[39;00m block:\n\u001b[1;32m   1342\u001b[0m         \u001b[38;5;28mself\u001b[39m\u001b[38;5;241m.\u001b[39msettimeout(\u001b[38;5;28;01mNone\u001b[39;00m)\n\u001b[0;32m-> 1343\u001b[0m     \u001b[38;5;28;43mself\u001b[39;49m\u001b[38;5;241;43m.\u001b[39;49m\u001b[43m_sslobj\u001b[49m\u001b[38;5;241;43m.\u001b[39;49m\u001b[43mdo_handshake\u001b[49m\u001b[43m(\u001b[49m\u001b[43m)\u001b[49m\n\u001b[1;32m   1344\u001b[0m \u001b[38;5;28;01mfinally\u001b[39;00m:\n\u001b[1;32m   1345\u001b[0m     \u001b[38;5;28mself\u001b[39m\u001b[38;5;241m.\u001b[39msettimeout(timeout)\n",
      "\u001b[0;31mKeyboardInterrupt\u001b[0m: "
     ]
    }
   ],
   "source": [
    "import numpy as np\n",
    "\n",
    "edf = df\n",
    "edf['embedding'] = ''\n",
    "\n",
    "for i in range(df.shape[0]):\n",
    "    try:\n",
    "        e = get_embedding(edf.signature[i])\n",
    "        edf.embedding[i] = json.dumps(e)\n",
    "    except Exception as e:\n",
    "        logger.error(\"ran into an exception at item {} (exeption {})\", i, e)\n",
    "edf.head()"
   ]
  },
  {
   "cell_type": "code",
   "execution_count": 82,
   "metadata": {},
   "outputs": [
    {
     "data": {
      "text/html": [
       "<div>\n",
       "<style scoped>\n",
       "    .dataframe tbody tr th:only-of-type {\n",
       "        vertical-align: middle;\n",
       "    }\n",
       "\n",
       "    .dataframe tbody tr th {\n",
       "        vertical-align: top;\n",
       "    }\n",
       "\n",
       "    .dataframe thead th {\n",
       "        text-align: right;\n",
       "    }\n",
       "</style>\n",
       "<table border=\"1\" class=\"dataframe\">\n",
       "  <thead>\n",
       "    <tr style=\"text-align: right;\">\n",
       "      <th></th>\n",
       "      <th>cell_id</th>\n",
       "      <th>cluster</th>\n",
       "      <th>signature</th>\n",
       "      <th>embedding</th>\n",
       "    </tr>\n",
       "  </thead>\n",
       "  <tbody>\n",
       "    <tr>\n",
       "      <th>0</th>\n",
       "      <td>TGACCAAGTAGACAAA</td>\n",
       "      <td>0</td>\n",
       "      <td>RPL11 CEP350 GNLY PTPN4 SMARCA5 KIAA0825 ORC5 ...</td>\n",
       "      <td>[-0.021236828, 0.0102644665, 0.017603861, -0.0...</td>\n",
       "    </tr>\n",
       "    <tr>\n",
       "      <th>1</th>\n",
       "      <td>CGGCCATAGCGAGCGA</td>\n",
       "      <td>0</td>\n",
       "      <td>CDKAL1 RPS13 ITFG1 LINC01934 APPL1 TRA2B ARL15...</td>\n",
       "      <td>[-0.024834119, 0.0010850973, -0.011615959, -0....</td>\n",
       "    </tr>\n",
       "    <tr>\n",
       "      <th>2</th>\n",
       "      <td>AACCCGCAGCATGTTA</td>\n",
       "      <td>0</td>\n",
       "      <td>UBR5 SUMF1 SPATA5 PPP2R5C ITGA4 WWP1 PHF20L1 C...</td>\n",
       "      <td>[-0.014364182, 0.00015998675, -0.0018439151, -...</td>\n",
       "    </tr>\n",
       "    <tr>\n",
       "      <th>3</th>\n",
       "      <td>AATCATCCAGTTTACG</td>\n",
       "      <td>0</td>\n",
       "      <td>RIPOR2 ATXN1 HIBADH JAZF1 PDE3B ARID1A TUT4 TR...</td>\n",
       "      <td>[-0.0128802, -0.0067781447, -0.0024146063, -0....</td>\n",
       "    </tr>\n",
       "    <tr>\n",
       "      <th>4</th>\n",
       "      <td>TGAAGGATCGTTACTT</td>\n",
       "      <td>0</td>\n",
       "      <td>RPS7 RTN4 GNLY GSK3B RAB28 RPL34 FNIP1 ARID1B ...</td>\n",
       "      <td>[-0.004522995, -0.011238755, 0.014591605, -0.0...</td>\n",
       "    </tr>\n",
       "    <tr>\n",
       "      <th>...</th>\n",
       "      <td>...</td>\n",
       "      <td>...</td>\n",
       "      <td>...</td>\n",
       "      <td>...</td>\n",
       "    </tr>\n",
       "    <tr>\n",
       "      <th>9365</th>\n",
       "      <td>TTACGTTTCCCTGACT</td>\n",
       "      <td>18</td>\n",
       "      <td>FOXP1 NCOA2 SMAP2 TET2 DOCK2 RIPOR2 NAMPT JMJD...</td>\n",
       "      <td></td>\n",
       "    </tr>\n",
       "    <tr>\n",
       "      <th>9366</th>\n",
       "      <td>CTAACCTGTAAACAAG</td>\n",
       "      <td>18</td>\n",
       "      <td>USP24 CTSS LYST KANSL1L NAMPT RPL41 PPP1R12A B...</td>\n",
       "      <td></td>\n",
       "    </tr>\n",
       "    <tr>\n",
       "      <th>9367</th>\n",
       "      <td>AATTGCCAGAGAGCCG</td>\n",
       "      <td>18</td>\n",
       "      <td>RNF13 LYN MTSS1 CELF2 NEAT1 PHF20 MIS18BP1 PAF...</td>\n",
       "      <td></td>\n",
       "    </tr>\n",
       "    <tr>\n",
       "      <th>9368</th>\n",
       "      <td>CTGTATTTCCATAATG</td>\n",
       "      <td>18</td>\n",
       "      <td>LYN NEAT1 ATP2B1 PRKCB DPYD SCLT1 MAP3K1 CD44 ...</td>\n",
       "      <td></td>\n",
       "    </tr>\n",
       "    <tr>\n",
       "      <th>9369</th>\n",
       "      <td>CTAAGTCAGGGCTAAA</td>\n",
       "      <td>18</td>\n",
       "      <td>FYB1 SLC8A1 TMSB10 RPS3A RPL5 TPM3 XPR1 STK17B...</td>\n",
       "      <td></td>\n",
       "    </tr>\n",
       "  </tbody>\n",
       "</table>\n",
       "<p>9370 rows × 4 columns</p>\n",
       "</div>"
      ],
      "text/plain": [
       "               cell_id  cluster  \\\n",
       "0     TGACCAAGTAGACAAA        0   \n",
       "1     CGGCCATAGCGAGCGA        0   \n",
       "2     AACCCGCAGCATGTTA        0   \n",
       "3     AATCATCCAGTTTACG        0   \n",
       "4     TGAAGGATCGTTACTT        0   \n",
       "...                ...      ...   \n",
       "9365  TTACGTTTCCCTGACT       18   \n",
       "9366  CTAACCTGTAAACAAG       18   \n",
       "9367  AATTGCCAGAGAGCCG       18   \n",
       "9368  CTGTATTTCCATAATG       18   \n",
       "9369  CTAAGTCAGGGCTAAA       18   \n",
       "\n",
       "                                              signature  \\\n",
       "0     RPL11 CEP350 GNLY PTPN4 SMARCA5 KIAA0825 ORC5 ...   \n",
       "1     CDKAL1 RPS13 ITFG1 LINC01934 APPL1 TRA2B ARL15...   \n",
       "2     UBR5 SUMF1 SPATA5 PPP2R5C ITGA4 WWP1 PHF20L1 C...   \n",
       "3     RIPOR2 ATXN1 HIBADH JAZF1 PDE3B ARID1A TUT4 TR...   \n",
       "4     RPS7 RTN4 GNLY GSK3B RAB28 RPL34 FNIP1 ARID1B ...   \n",
       "...                                                 ...   \n",
       "9365  FOXP1 NCOA2 SMAP2 TET2 DOCK2 RIPOR2 NAMPT JMJD...   \n",
       "9366  USP24 CTSS LYST KANSL1L NAMPT RPL41 PPP1R12A B...   \n",
       "9367  RNF13 LYN MTSS1 CELF2 NEAT1 PHF20 MIS18BP1 PAF...   \n",
       "9368  LYN NEAT1 ATP2B1 PRKCB DPYD SCLT1 MAP3K1 CD44 ...   \n",
       "9369  FYB1 SLC8A1 TMSB10 RPS3A RPL5 TPM3 XPR1 STK17B...   \n",
       "\n",
       "                                              embedding  \n",
       "0     [-0.021236828, 0.0102644665, 0.017603861, -0.0...  \n",
       "1     [-0.024834119, 0.0010850973, -0.011615959, -0....  \n",
       "2     [-0.014364182, 0.00015998675, -0.0018439151, -...  \n",
       "3     [-0.0128802, -0.0067781447, -0.0024146063, -0....  \n",
       "4     [-0.004522995, -0.011238755, 0.014591605, -0.0...  \n",
       "...                                                 ...  \n",
       "9365                                                     \n",
       "9366                                                     \n",
       "9367                                                     \n",
       "9368                                                     \n",
       "9369                                                     \n",
       "\n",
       "[9370 rows x 4 columns]"
      ]
     },
     "execution_count": 82,
     "metadata": {},
     "output_type": "execute_result"
    }
   ],
   "source": [
    "df"
   ]
  },
  {
   "cell_type": "code",
   "execution_count": 55,
   "metadata": {},
   "outputs": [
    {
     "name": "stdout",
     "output_type": "stream",
     "text": [
      "0 RPL11 CEP350 GNLY PTPN4 SMARCA5 KIAA0825 ORC5 SARAF PDCD4 ABLIM1 FNBP4 SLC38A1 ZC3H13 CTDSPL2 NF1\n",
      "1000 SP100 PTMA LCP1 EIF4G3 PRKACB HNRNPU CLK1 XRCC5 ARL4C SNRK MSL2 HNRNPDL SEC31A CWC27 SREK1 STK38 FAM126A AOAH MTSS1 DOCK8 RFX3 MEGF9 PIP4K2A SRGN ZMYM2 PCNX1 HSP90AA1 ACTG1 DIDO1 UBE2G2\n",
      "2000 ANKIB1 CD53 CDC42SE2 NFX1 TNRC6C TXNIP CLASP1 TBC1D1 PARP8 FYN AOAH SYNE2 SRSF11 FAM102B C1orf21 SMYD3 UBR3 STAT4 VPS8 NEK1 DOCK2 ATXN1 RIPOR2 AKAP9 TAFA2 ZNF254 PPP1R16B\n",
      "3000 CDC14A LINC00486 TBC1D5 TNIK ST6GAL1 CPEB3 ZRANB2 AL136456.1 NEK7 GCC2 FYB1 RPL37 GZMK VPS13B PABPC1 EMSY AC092821.3 PPP1R12A IL32 CYTH1 SON\n",
      "4000 OGA CEP83 RPLP1 CLTC RAB10 BIRC6 SLC4A7 RAPGEF6 UBAC2 USP34 RBPJ DOCK2 RIPOR2 RNF38 PARG RPLP2 FTH1 FAU SLC38A1 TAFA2 RAB8B SSH2 RPL38 ANKRD12\n",
      "5000 RALGPS2 SH3BGRL PRDM2 EIF4G3 PDE4B VAV3 MAN1A2 GDAP2 FCRL1 YPEL5 TLK1 DOCK10 PSMD1 UBE2E2 SIDT1 STIM2 ARHGAP24 CAMK2D PLEKHG1 SNX9 JAZF1 ELMO1 MTSS1 ETS1 TCP11L2 PAN3 RB1 FNDC3A HERPUD1 WWOX\n",
      "6000 RAP1A LMBRD1 ATP8A1 ZFAND6 AOAH RORA SATB1-AS1 LRBA PIK3R1 HNRNPH1 TASOR2 BTG1 DENND4A ANKRD12 BIRC6 STAT4 CDC42SE2 CDKAL1 FYN NT5DC1 BCLAF1 LCOR CHST11 DGKH SLFN12L\n",
      "7000 NAMPT YWHAZ TRA2B QKI HNRNPA2B1 MEGF9 NEAT1 RUNX1 KIF1B DPYD PLCL1 CCNL1 VPS8 CXCL8 SIMC1 GNAQ PARG FTH1 GAB2 LINC01619 FOS AC020916.1\n",
      "8000 STAG1 TNIK AOAH TNKS USP24 TXNIP LCORL CREBBP GNLY TMEM181 LRMP HS2ST1 S100A4 WDR33 AC079793.1 PLCL2 SENP7 COMMD10 SIK3 SPG11 BPTF PLCB1 ITCH AF165147.1 DYRK1A ATXN10 CHM\n",
      "9000 PDE4D LRMDA LINC00342 ARHGAP26 ATP8B4 LYST ANKRD28 SFMBT2 UVRAG\n"
     ]
    }
   ],
   "source": [
    "for cell_no in range(df.shape[0]):\n",
    "    if cell_no % 1000 == 0:\n",
    "        print(cell_no, df.signature[cell_no])\n",
    "\n",
    "\n",
    "# sum =0\n",
    "# count = 0\n",
    "# for sig in s:\n",
    "#     if isinstance(sig,str):\n",
    "#         sum += len(sig)\n",
    "#     count += 1\n",
    "# print(sum, count)"
   ]
  },
  {
   "cell_type": "code",
   "execution_count": 8,
   "metadata": {},
   "outputs": [],
   "source": [
    "import openai\n",
    "import asyncio\n",
    "import aiohttp\n",
    "\n",
    "# Initialize the OpenAI API key\n",
    "openai.api_key = api_key\n",
    "\n",
    "async def get_embeddings(session, texts):\n",
    "    response = await session.post(\n",
    "        'https://api.openai.com/v1/embeddings',\n",
    "        headers={'Authorization': f'Bearer {openai.api_key}'},\n",
    "        json={'input': texts, 'model': 'text-embedding-ada-002'}\n",
    "    )\n",
    "    return await response.json()\n",
    "\n",
    "async def process_signature_list(text_list):\n",
    "    async with aiohttp.ClientSession() as session:\n",
    "        tasks = []\n",
    "        for i in range(0, len(text_list), 16):\n",
    "            batch = text_list[i:i+16]\n",
    "            tasks.append(get_embeddings(session, batch))\n",
    "        \n",
    "        results = await asyncio.gather(*tasks)\n",
    "        \n",
    "        # Combine embeddings from all batches\n",
    "        embeddings = []\n",
    "        for result in results:\n",
    "            if isinstance(result,dict) and 'data' in result:\n",
    "                embeddings.extend(result['data'])\n",
    "            else:\n",
    "                logger.error(\"Encountered invalid embedding\")\n",
    "                embeddings.extend([])\n",
    "        return embeddings\n",
    "\n"
   ]
  },
  {
   "cell_type": "code",
   "execution_count": 9,
   "metadata": {},
   "outputs": [],
   "source": [
    "from typing import Any\n",
    "\n",
    "import json\n",
    "\n",
    "async def process_signatures_in_batches(signatures: list[str], batch_size=500) -> list[dict[Any,Any]]:\n",
    "    \"\"\"Take a list gene signatures as space separated strings and submit them to \n",
    "    OpenAI in batches to produce a list of embeddings in json format\n",
    "\n",
    "    Args:\n",
    "        signatures (list[list[str]]): The gene signatures in the form [\"XYZ JGK\", \"NNC DDDD\", ...]\n",
    "\n",
    "    Returns:\n",
    "        list[float]: The embeddings in the form [[123, 345, ...],[5423, 232, ... ]]\n",
    "    \"\"\"\n",
    "    batches = batch_generator(signatures, batch_size=batch_size)\n",
    "    result = []\n",
    "    for batch in batches:\n",
    "        # logger.info(\"processing batch of size {}\", len(batch))\n",
    "        embed_batch = await(process_signature_list(batch))\n",
    "        result.extend(embed_batch)\n",
    "    return result\n"
   ]
  },
  {
   "cell_type": "code",
   "execution_count": 20,
   "metadata": {},
   "outputs": [
    {
     "name": "stderr",
     "output_type": "stream",
     "text": [
      "\u001b[32m2024-06-18 19:40:26.521\u001b[0m | \u001b[1mINFO    \u001b[0m | \u001b[36m__main__\u001b[0m:\u001b[36mload_embeddings\u001b[0m:\u001b[36m21\u001b[0m - \u001b[1mfound compressed json file: ../data/embeddings.json.gz\u001b[0m\n",
      "/tmp/ipykernel_3549670/686712614.py:42: RuntimeWarning: coroutine 'load_embeddings' was never awaited\n",
      "  embeddings = await load_embeddings(\"../data\", \"embeddings.json\")\n",
      "RuntimeWarning: Enable tracemalloc to get the object allocation traceback\n"
     ]
    }
   ],
   "source": [
    "\n",
    "from os import PathLike\n",
    "\n",
    "\n",
    "async def load_embeddings(path: PathLike, filename: PathLike) -> list[list[str]]:\n",
    "    path = Path(path)\n",
    "    filename = Path(filename)\n",
    "    if not path.exists() or not path.is_dir():\n",
    "        raise ValueError('{} is not a valid directory', path)\n",
    "    json_path = path.joinpath(filename)\n",
    "    if json_path.suffix == '.gz':\n",
    "        embeddings_json_compressed =  json_path # Path(\"../data/embeddings.json.gz\")\n",
    "        embeddings_json = None\n",
    "    elif json_path.suffix == '.json':\n",
    "        embeddings_json = json_path\n",
    "        embeddings_json_compressed = Path(json_path.as_posix() + '.gz')\n",
    "    else:\n",
    "        raise ValueError('filename must end in .gz or .json not {}', filename.suffix)\n",
    "    \n",
    "    if embeddings_json_compressed and embeddings_json_compressed.exists():\n",
    "        logger.info(\"found compressed json file: {}\", embeddings_json_compressed)\n",
    "        with gzip.open(embeddings_json_compressed, 'rt') as f:\n",
    "            e_json = f.read()\n",
    "        embeddings = json.loads(e_json)\n",
    "    elif embeddings_json and embeddings_json.exists():\n",
    "        logger.info(\"loading uncompressed json file: {}\", embeddings_json)\n",
    "        with open(embeddings_json, \"rt\") as f:\n",
    "            e_json = f.read()\n",
    "        embeddings = json.loads(e_json)\n",
    "    else:\n",
    "        logger.info('generating new embeddings json file -- this will take a while...')\n",
    "        embeds = await process_signatures_in_batches(signatures,16)\n",
    "        embeddings = []\n",
    "        for e in embeds:\n",
    "            embeddings.append(e['embedding'])\n",
    "        logger.info(\"processed {} embeddings\", len(embeddings))\n",
    "        e_json = json.dumps(embeddings)\n",
    "        with gzip.open(embeddings_json_compressed, \"wt\",encoding='utf-8') as f:\n",
    "            f.write(e_json)\n",
    "    return embeddings \n",
    "\n",
    "embeddings = await load_embeddings(\"../data\", \"embeddings.json\") # type: ignore\n"
   ]
  },
  {
   "cell_type": "code",
   "execution_count": 23,
   "metadata": {},
   "outputs": [
    {
     "name": "stdout",
     "output_type": "stream",
     "text": [
      "9354\n"
     ]
    }
   ],
   "source": [
    "embedding_json_vector = [json.dumps(e) for e in embeddings]\n",
    "print(len(embedding_json_vector))\n"
   ]
  },
  {
   "cell_type": "code",
   "execution_count": 25,
   "metadata": {},
   "outputs": [
    {
     "data": {
      "text/plain": [
       "(9370, 3)"
      ]
     },
     "execution_count": 25,
     "metadata": {},
     "output_type": "execute_result"
    }
   ],
   "source": [
    "df.shape"
   ]
  },
  {
   "cell_type": "code",
   "execution_count": null,
   "metadata": {},
   "outputs": [],
   "source": []
  }
 ],
 "metadata": {
  "kernelspec": {
   "display_name": "Python 3",
   "language": "python",
   "name": "python3"
  },
  "language_info": {
   "codemirror_mode": {
    "name": "ipython",
    "version": 3
   },
   "file_extension": ".py",
   "mimetype": "text/x-python",
   "name": "python",
   "nbconvert_exporter": "python",
   "pygments_lexer": "ipython3",
   "version": "3.9.19"
  }
 },
 "nbformat": 4,
 "nbformat_minor": 2
}
