{
 "cells": [
  {
   "cell_type": "markdown",
   "metadata": {},
   "source": [
    "# PostEmbed\n",
    "\n",
    "Assess the outcome of applying embedit.py"
   ]
  },
  {
   "cell_type": "code",
   "execution_count": 1,
   "metadata": {},
   "outputs": [],
   "source": [
    "import pandas as pd"
   ]
  },
  {
   "cell_type": "code",
   "execution_count": 22,
   "metadata": {},
   "outputs": [
    {
     "data": {
      "text/html": [
       "<div>\n",
       "<style scoped>\n",
       "    .dataframe tbody tr th:only-of-type {\n",
       "        vertical-align: middle;\n",
       "    }\n",
       "\n",
       "    .dataframe tbody tr th {\n",
       "        vertical-align: top;\n",
       "    }\n",
       "\n",
       "    .dataframe thead th {\n",
       "        text-align: right;\n",
       "    }\n",
       "</style>\n",
       "<table border=\"1\" class=\"dataframe\">\n",
       "  <thead>\n",
       "    <tr style=\"text-align: right;\">\n",
       "      <th></th>\n",
       "      <th>cell_id</th>\n",
       "      <th>cluster</th>\n",
       "      <th>signature</th>\n",
       "    </tr>\n",
       "  </thead>\n",
       "  <tbody>\n",
       "    <tr>\n",
       "      <th>9365</th>\n",
       "      <td>TTACGTTTCCCTGACT</td>\n",
       "      <td>18</td>\n",
       "      <td>FOXP1 NCOA2 SMAP2 TET2 DOCK2 RIPOR2 NAMPT JMJD...</td>\n",
       "    </tr>\n",
       "    <tr>\n",
       "      <th>9366</th>\n",
       "      <td>CTAACCTGTAAACAAG</td>\n",
       "      <td>18</td>\n",
       "      <td>USP24 CTSS LYST KANSL1L NAMPT RPL41 PPP1R12A B...</td>\n",
       "    </tr>\n",
       "    <tr>\n",
       "      <th>9367</th>\n",
       "      <td>AATTGCCAGAGAGCCG</td>\n",
       "      <td>18</td>\n",
       "      <td>RNF13 LYN MTSS1 CELF2 NEAT1 PHF20 MIS18BP1 PAF...</td>\n",
       "    </tr>\n",
       "    <tr>\n",
       "      <th>9368</th>\n",
       "      <td>CTGTATTTCCATAATG</td>\n",
       "      <td>18</td>\n",
       "      <td>LYN NEAT1 ATP2B1 PRKCB DPYD SCLT1 MAP3K1 CD44 ...</td>\n",
       "    </tr>\n",
       "    <tr>\n",
       "      <th>9369</th>\n",
       "      <td>CTAAGTCAGGGCTAAA</td>\n",
       "      <td>18</td>\n",
       "      <td>FYB1 SLC8A1 TMSB10 RPS3A RPL5 TPM3 XPR1 STK17B...</td>\n",
       "    </tr>\n",
       "  </tbody>\n",
       "</table>\n",
       "</div>"
      ],
      "text/plain": [
       "               cell_id  cluster  \\\n",
       "9365  TTACGTTTCCCTGACT       18   \n",
       "9366  CTAACCTGTAAACAAG       18   \n",
       "9367  AATTGCCAGAGAGCCG       18   \n",
       "9368  CTGTATTTCCATAATG       18   \n",
       "9369  CTAAGTCAGGGCTAAA       18   \n",
       "\n",
       "                                              signature  \n",
       "9365  FOXP1 NCOA2 SMAP2 TET2 DOCK2 RIPOR2 NAMPT JMJD...  \n",
       "9366  USP24 CTSS LYST KANSL1L NAMPT RPL41 PPP1R12A B...  \n",
       "9367  RNF13 LYN MTSS1 CELF2 NEAT1 PHF20 MIS18BP1 PAF...  \n",
       "9368  LYN NEAT1 ATP2B1 PRKCB DPYD SCLT1 MAP3K1 CD44 ...  \n",
       "9369  FYB1 SLC8A1 TMSB10 RPS3A RPL5 TPM3 XPR1 STK17B...  "
      ]
     },
     "execution_count": 22,
     "metadata": {},
     "output_type": "execute_result"
    }
   ],
   "source": [
    "df=pd.read_csv(\"../data/sigs.csv\")\n",
    "df.tail()"
   ]
  },
  {
   "cell_type": "code",
   "execution_count": 34,
   "metadata": {},
   "outputs": [
    {
     "data": {
      "text/html": [
       "<div>\n",
       "<style scoped>\n",
       "    .dataframe tbody tr th:only-of-type {\n",
       "        vertical-align: middle;\n",
       "    }\n",
       "\n",
       "    .dataframe tbody tr th {\n",
       "        vertical-align: top;\n",
       "    }\n",
       "\n",
       "    .dataframe thead th {\n",
       "        text-align: right;\n",
       "    }\n",
       "</style>\n",
       "<table border=\"1\" class=\"dataframe\">\n",
       "  <thead>\n",
       "    <tr style=\"text-align: right;\">\n",
       "      <th></th>\n",
       "      <th>cell_no</th>\n",
       "      <th>cell_id</th>\n",
       "      <th>cluster</th>\n",
       "      <th>signature</th>\n",
       "      <th>embeddings</th>\n",
       "    </tr>\n",
       "  </thead>\n",
       "  <tbody>\n",
       "    <tr>\n",
       "      <th>9365</th>\n",
       "      <td>9365</td>\n",
       "      <td>TTACGTTTCCCTGACT</td>\n",
       "      <td>18</td>\n",
       "      <td>FOXP1 NCOA2 SMAP2 TET2 DOCK2 RIPOR2 NAMPT JMJD...</td>\n",
       "      <td>[-0.020059625, 0.0036323834, 0.00082780194, -0...</td>\n",
       "    </tr>\n",
       "    <tr>\n",
       "      <th>9366</th>\n",
       "      <td>9366</td>\n",
       "      <td>CTAACCTGTAAACAAG</td>\n",
       "      <td>18</td>\n",
       "      <td>USP24 CTSS LYST KANSL1L NAMPT RPL41 PPP1R12A B...</td>\n",
       "      <td>[-0.03239223, 0.013038426, 0.008899572, -0.032...</td>\n",
       "    </tr>\n",
       "    <tr>\n",
       "      <th>9367</th>\n",
       "      <td>9367</td>\n",
       "      <td>AATTGCCAGAGAGCCG</td>\n",
       "      <td>18</td>\n",
       "      <td>RNF13 LYN MTSS1 CELF2 NEAT1 PHF20 MIS18BP1 PAF...</td>\n",
       "      <td>[-0.027599292, 0.005804354, -0.0004061004, -0....</td>\n",
       "    </tr>\n",
       "    <tr>\n",
       "      <th>9368</th>\n",
       "      <td>9368</td>\n",
       "      <td>CTGTATTTCCATAATG</td>\n",
       "      <td>18</td>\n",
       "      <td>LYN NEAT1 ATP2B1 PRKCB DPYD SCLT1 MAP3K1 CD44 ...</td>\n",
       "      <td>[-0.026094973, 0.0033464879, 0.006022683, -0.0...</td>\n",
       "    </tr>\n",
       "    <tr>\n",
       "      <th>9369</th>\n",
       "      <td>9369</td>\n",
       "      <td>CTAAGTCAGGGCTAAA</td>\n",
       "      <td>18</td>\n",
       "      <td>FYB1 SLC8A1 TMSB10 RPS3A RPL5 TPM3 XPR1 STK17B...</td>\n",
       "      <td>[-0.024935283, 0.0071060145, -0.0016032481, -0...</td>\n",
       "    </tr>\n",
       "  </tbody>\n",
       "</table>\n",
       "</div>"
      ],
      "text/plain": [
       "      cell_no           cell_id  cluster  \\\n",
       "9365     9365  TTACGTTTCCCTGACT       18   \n",
       "9366     9366  CTAACCTGTAAACAAG       18   \n",
       "9367     9367  AATTGCCAGAGAGCCG       18   \n",
       "9368     9368  CTGTATTTCCATAATG       18   \n",
       "9369     9369  CTAAGTCAGGGCTAAA       18   \n",
       "\n",
       "                                              signature  \\\n",
       "9365  FOXP1 NCOA2 SMAP2 TET2 DOCK2 RIPOR2 NAMPT JMJD...   \n",
       "9366  USP24 CTSS LYST KANSL1L NAMPT RPL41 PPP1R12A B...   \n",
       "9367  RNF13 LYN MTSS1 CELF2 NEAT1 PHF20 MIS18BP1 PAF...   \n",
       "9368  LYN NEAT1 ATP2B1 PRKCB DPYD SCLT1 MAP3K1 CD44 ...   \n",
       "9369  FYB1 SLC8A1 TMSB10 RPS3A RPL5 TPM3 XPR1 STK17B...   \n",
       "\n",
       "                                             embeddings  \n",
       "9365  [-0.020059625, 0.0036323834, 0.00082780194, -0...  \n",
       "9366  [-0.03239223, 0.013038426, 0.008899572, -0.032...  \n",
       "9367  [-0.027599292, 0.005804354, -0.0004061004, -0....  \n",
       "9368  [-0.026094973, 0.0033464879, 0.006022683, -0.0...  \n",
       "9369  [-0.024935283, 0.0071060145, -0.0016032481, -0...  "
      ]
     },
     "execution_count": 34,
     "metadata": {},
     "output_type": "execute_result"
    }
   ],
   "source": [
    "df1 = pd.read_csv(\"../data/embeds.csv\")\n",
    "df1.tail()"
   ]
  },
  {
   "cell_type": "code",
   "execution_count": 35,
   "metadata": {},
   "outputs": [
    {
     "data": {
      "text/html": [
       "<div>\n",
       "<style scoped>\n",
       "    .dataframe tbody tr th:only-of-type {\n",
       "        vertical-align: middle;\n",
       "    }\n",
       "\n",
       "    .dataframe tbody tr th {\n",
       "        vertical-align: top;\n",
       "    }\n",
       "\n",
       "    .dataframe thead th {\n",
       "        text-align: right;\n",
       "    }\n",
       "</style>\n",
       "<table border=\"1\" class=\"dataframe\">\n",
       "  <thead>\n",
       "    <tr style=\"text-align: right;\">\n",
       "      <th></th>\n",
       "      <th>cell_id</th>\n",
       "      <th>cluster</th>\n",
       "      <th>signature</th>\n",
       "      <th>embeddings</th>\n",
       "    </tr>\n",
       "  </thead>\n",
       "  <tbody>\n",
       "    <tr>\n",
       "      <th>9365</th>\n",
       "      <td>TTACGTTTCCCTGACT</td>\n",
       "      <td>18</td>\n",
       "      <td>FOXP1 NCOA2 SMAP2 TET2 DOCK2 RIPOR2 NAMPT JMJD...</td>\n",
       "      <td>[-0.020059625, 0.0036323834, 0.00082780194, -0...</td>\n",
       "    </tr>\n",
       "    <tr>\n",
       "      <th>9366</th>\n",
       "      <td>CTAACCTGTAAACAAG</td>\n",
       "      <td>18</td>\n",
       "      <td>USP24 CTSS LYST KANSL1L NAMPT RPL41 PPP1R12A B...</td>\n",
       "      <td>[-0.03239223, 0.013038426, 0.008899572, -0.032...</td>\n",
       "    </tr>\n",
       "    <tr>\n",
       "      <th>9367</th>\n",
       "      <td>AATTGCCAGAGAGCCG</td>\n",
       "      <td>18</td>\n",
       "      <td>RNF13 LYN MTSS1 CELF2 NEAT1 PHF20 MIS18BP1 PAF...</td>\n",
       "      <td>[-0.027599292, 0.005804354, -0.0004061004, -0....</td>\n",
       "    </tr>\n",
       "    <tr>\n",
       "      <th>9368</th>\n",
       "      <td>CTGTATTTCCATAATG</td>\n",
       "      <td>18</td>\n",
       "      <td>LYN NEAT1 ATP2B1 PRKCB DPYD SCLT1 MAP3K1 CD44 ...</td>\n",
       "      <td>[-0.026094973, 0.0033464879, 0.006022683, -0.0...</td>\n",
       "    </tr>\n",
       "    <tr>\n",
       "      <th>9369</th>\n",
       "      <td>CTAAGTCAGGGCTAAA</td>\n",
       "      <td>18</td>\n",
       "      <td>FYB1 SLC8A1 TMSB10 RPS3A RPL5 TPM3 XPR1 STK17B...</td>\n",
       "      <td>[-0.024935283, 0.0071060145, -0.0016032481, -0...</td>\n",
       "    </tr>\n",
       "  </tbody>\n",
       "</table>\n",
       "</div>"
      ],
      "text/plain": [
       "               cell_id  cluster  \\\n",
       "9365  TTACGTTTCCCTGACT       18   \n",
       "9366  CTAACCTGTAAACAAG       18   \n",
       "9367  AATTGCCAGAGAGCCG       18   \n",
       "9368  CTGTATTTCCATAATG       18   \n",
       "9369  CTAAGTCAGGGCTAAA       18   \n",
       "\n",
       "                                              signature  \\\n",
       "9365  FOXP1 NCOA2 SMAP2 TET2 DOCK2 RIPOR2 NAMPT JMJD...   \n",
       "9366  USP24 CTSS LYST KANSL1L NAMPT RPL41 PPP1R12A B...   \n",
       "9367  RNF13 LYN MTSS1 CELF2 NEAT1 PHF20 MIS18BP1 PAF...   \n",
       "9368  LYN NEAT1 ATP2B1 PRKCB DPYD SCLT1 MAP3K1 CD44 ...   \n",
       "9369  FYB1 SLC8A1 TMSB10 RPS3A RPL5 TPM3 XPR1 STK17B...   \n",
       "\n",
       "                                             embeddings  \n",
       "9365  [-0.020059625, 0.0036323834, 0.00082780194, -0...  \n",
       "9366  [-0.03239223, 0.013038426, 0.008899572, -0.032...  \n",
       "9367  [-0.027599292, 0.005804354, -0.0004061004, -0....  \n",
       "9368  [-0.026094973, 0.0033464879, 0.006022683, -0.0...  \n",
       "9369  [-0.024935283, 0.0071060145, -0.0016032481, -0...  "
      ]
     },
     "execution_count": 35,
     "metadata": {},
     "output_type": "execute_result"
    }
   ],
   "source": [
    "#\n",
    "# correct redundant column\n",
    "# \n",
    "df_clean = df1.drop(labels=\"cell_no\",axis=1)\n",
    "df_clean.tail()"
   ]
  },
  {
   "cell_type": "code",
   "execution_count": 36,
   "metadata": {},
   "outputs": [],
   "source": [
    "#\n",
    "# save corrected dataframe\n",
    "#\n",
    "df_clean.to_parquet(\"../data/embeds.parquet\")"
   ]
  },
  {
   "cell_type": "code",
   "execution_count": 37,
   "metadata": {},
   "outputs": [
    {
     "data": {
      "text/html": [
       "<div>\n",
       "<style scoped>\n",
       "    .dataframe tbody tr th:only-of-type {\n",
       "        vertical-align: middle;\n",
       "    }\n",
       "\n",
       "    .dataframe tbody tr th {\n",
       "        vertical-align: top;\n",
       "    }\n",
       "\n",
       "    .dataframe thead th {\n",
       "        text-align: right;\n",
       "    }\n",
       "</style>\n",
       "<table border=\"1\" class=\"dataframe\">\n",
       "  <thead>\n",
       "    <tr style=\"text-align: right;\">\n",
       "      <th></th>\n",
       "      <th>cell_id</th>\n",
       "      <th>cluster</th>\n",
       "      <th>signature</th>\n",
       "      <th>embeddings</th>\n",
       "    </tr>\n",
       "  </thead>\n",
       "  <tbody>\n",
       "    <tr>\n",
       "      <th>9365</th>\n",
       "      <td>TTACGTTTCCCTGACT</td>\n",
       "      <td>18</td>\n",
       "      <td>FOXP1 NCOA2 SMAP2 TET2 DOCK2 RIPOR2 NAMPT JMJD...</td>\n",
       "      <td>[-0.020059625, 0.0036323834, 0.00082780194, -0...</td>\n",
       "    </tr>\n",
       "    <tr>\n",
       "      <th>9366</th>\n",
       "      <td>CTAACCTGTAAACAAG</td>\n",
       "      <td>18</td>\n",
       "      <td>USP24 CTSS LYST KANSL1L NAMPT RPL41 PPP1R12A B...</td>\n",
       "      <td>[-0.03239223, 0.013038426, 0.008899572, -0.032...</td>\n",
       "    </tr>\n",
       "    <tr>\n",
       "      <th>9367</th>\n",
       "      <td>AATTGCCAGAGAGCCG</td>\n",
       "      <td>18</td>\n",
       "      <td>RNF13 LYN MTSS1 CELF2 NEAT1 PHF20 MIS18BP1 PAF...</td>\n",
       "      <td>[-0.027599292, 0.005804354, -0.0004061004, -0....</td>\n",
       "    </tr>\n",
       "    <tr>\n",
       "      <th>9368</th>\n",
       "      <td>CTGTATTTCCATAATG</td>\n",
       "      <td>18</td>\n",
       "      <td>LYN NEAT1 ATP2B1 PRKCB DPYD SCLT1 MAP3K1 CD44 ...</td>\n",
       "      <td>[-0.026094973, 0.0033464879, 0.006022683, -0.0...</td>\n",
       "    </tr>\n",
       "    <tr>\n",
       "      <th>9369</th>\n",
       "      <td>CTAAGTCAGGGCTAAA</td>\n",
       "      <td>18</td>\n",
       "      <td>FYB1 SLC8A1 TMSB10 RPS3A RPL5 TPM3 XPR1 STK17B...</td>\n",
       "      <td>[-0.024935283, 0.0071060145, -0.0016032481, -0...</td>\n",
       "    </tr>\n",
       "  </tbody>\n",
       "</table>\n",
       "</div>"
      ],
      "text/plain": [
       "               cell_id  cluster  \\\n",
       "9365  TTACGTTTCCCTGACT       18   \n",
       "9366  CTAACCTGTAAACAAG       18   \n",
       "9367  AATTGCCAGAGAGCCG       18   \n",
       "9368  CTGTATTTCCATAATG       18   \n",
       "9369  CTAAGTCAGGGCTAAA       18   \n",
       "\n",
       "                                              signature  \\\n",
       "9365  FOXP1 NCOA2 SMAP2 TET2 DOCK2 RIPOR2 NAMPT JMJD...   \n",
       "9366  USP24 CTSS LYST KANSL1L NAMPT RPL41 PPP1R12A B...   \n",
       "9367  RNF13 LYN MTSS1 CELF2 NEAT1 PHF20 MIS18BP1 PAF...   \n",
       "9368  LYN NEAT1 ATP2B1 PRKCB DPYD SCLT1 MAP3K1 CD44 ...   \n",
       "9369  FYB1 SLC8A1 TMSB10 RPS3A RPL5 TPM3 XPR1 STK17B...   \n",
       "\n",
       "                                             embeddings  \n",
       "9365  [-0.020059625, 0.0036323834, 0.00082780194, -0...  \n",
       "9366  [-0.03239223, 0.013038426, 0.008899572, -0.032...  \n",
       "9367  [-0.027599292, 0.005804354, -0.0004061004, -0....  \n",
       "9368  [-0.026094973, 0.0033464879, 0.006022683, -0.0...  \n",
       "9369  [-0.024935283, 0.0071060145, -0.0016032481, -0...  "
      ]
     },
     "execution_count": 37,
     "metadata": {},
     "output_type": "execute_result"
    }
   ],
   "source": [
    "df = pd.read_parquet(\"../data/embeds.parquet\")\n",
    "df.tail()"
   ]
  },
  {
   "cell_type": "code",
   "execution_count": 38,
   "metadata": {},
   "outputs": [
    {
     "data": {
      "text/plain": [
       "(9370, 4)"
      ]
     },
     "execution_count": 38,
     "metadata": {},
     "output_type": "execute_result"
    }
   ],
   "source": [
    "df.shape"
   ]
  },
  {
   "cell_type": "code",
   "execution_count": 39,
   "metadata": {},
   "outputs": [
    {
     "name": "stdout",
     "output_type": "stream",
     "text": [
      "(4685, 4)\n",
      "(4685, 4)\n"
     ]
    }
   ],
   "source": [
    "# \n",
    "# divide the dataframe into two components\n",
    "#\n",
    "train_df = df.sample(frac=0.5)\n",
    "test_df = df.drop(train_df.index)\n",
    "print(train_df.shape)\n",
    "print(test_df.shape)\n"
   ]
  },
  {
   "cell_type": "code",
   "execution_count": 42,
   "metadata": {},
   "outputs": [],
   "source": [
    "train_df.to_parquet(\"../data/train.parquet\")\n",
    "test_df.to_parquet(\"../data/test.parquet\")"
   ]
  }
 ],
 "metadata": {
  "kernelspec": {
   "display_name": "Python 3",
   "language": "python",
   "name": "python3"
  },
  "language_info": {
   "codemirror_mode": {
    "name": "ipython",
    "version": 3
   },
   "file_extension": ".py",
   "mimetype": "text/x-python",
   "name": "python",
   "nbconvert_exporter": "python",
   "pygments_lexer": "ipython3",
   "version": "3.9.-1"
  }
 },
 "nbformat": 4,
 "nbformat_minor": 2
}
