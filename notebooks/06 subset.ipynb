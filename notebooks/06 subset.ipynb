{
 "cells": [
  {
   "cell_type": "markdown",
   "metadata": {},
   "source": [
    "# Subset Notebook\n",
    "\n",
    "Working towards analyzing clusters derived in the cluster notebook so that they can be used to create RAG vectors\n",
    "\n",
    "Generates gene signatures for subsequent analysis.\n",
    "\n",
    "\n",
    "Input:\n",
    "\n",
    "* data/subset.h5ad\n",
    "\n",
    "Output:\n",
    "\n",
    "* data/sigs.csv\n",
    "* data/sigs.parquet"
   ]
  },
  {
   "cell_type": "code",
   "execution_count": 1,
   "metadata": {},
   "outputs": [],
   "source": [
    "import warnings\n",
    "\n",
    "# import numba\n",
    "from numba.core.errors import NumbaDeprecationWarning, NumbaPendingDeprecationWarning\n",
    "\n",
    "warnings.filterwarnings(\"ignore\", category=DeprecationWarning)\n",
    "\n",
    "warnings.simplefilter(\"ignore\", category=NumbaDeprecationWarning)\n",
    "warnings.simplefilter(\"ignore\", category=NumbaPendingDeprecationWarning)"
   ]
  },
  {
   "cell_type": "code",
   "execution_count": 2,
   "metadata": {},
   "outputs": [],
   "source": [
    "import scanpy as sc\n",
    "import pandas as pd\n",
    "import numpy as np\n",
    "import anndata as ad\n",
    "\n",
    "# import os\n",
    "from scipy.sparse import csr_matrix\n",
    "import seaborn as sns\n",
    "import matplotlib.pyplot as plt\n",
    "\n",
    "warnings.filterwarnings(\"ignore\", category=pd.errors.PerformanceWarning)\n",
    "\n",
    "sc.set_figure_params(figsize=(5, 5))  # type: ignore"
   ]
  },
  {
   "cell_type": "code",
   "execution_count": 3,
   "metadata": {},
   "outputs": [
    {
     "data": {
      "text/plain": [
       "AnnData object with n_obs × n_vars = 9370 × 31208\n",
       "    obs: 'n_genes_by_counts', 'total_counts', 'pct_counts_in_top_20_genes', 'total_counts_mt', 'pct_counts_mt', 'total_counts_ribo', 'pct_counts_ribo', 'total_counts_hb', 'pct_counts_hb', 'outlier', 'mt_outlier', 'DF_score', 'batch', 'size_factors', 'leiden_2'\n",
       "    var: 'gene_ids', 'feature_types', 'n_cells_by_counts', 'mean_counts', 'pct_dropout_by_counts', 'total_counts', 'highly_variable'"
      ]
     },
     "execution_count": 3,
     "metadata": {},
     "output_type": "execute_result"
    }
   ],
   "source": [
    "#\n",
    "# load the AnnData containing the data processed according to the Best Practices tutorial\n",
    "#\n",
    "adata = sc.read_h5ad(\"../data/subset.h5ad\")\n",
    "adata"
   ]
  },
  {
   "cell_type": "code",
   "execution_count": 4,
   "metadata": {},
   "outputs": [
    {
     "data": {
      "text/plain": [
       "View of AnnData object with n_obs × n_vars = 9370 × 4000\n",
       "    obs: 'n_genes_by_counts', 'total_counts', 'pct_counts_in_top_20_genes', 'total_counts_mt', 'pct_counts_mt', 'total_counts_ribo', 'pct_counts_ribo', 'total_counts_hb', 'pct_counts_hb', 'outlier', 'mt_outlier', 'DF_score', 'batch', 'size_factors', 'leiden_2'\n",
       "    var: 'gene_ids', 'feature_types', 'n_cells_by_counts', 'mean_counts', 'pct_dropout_by_counts', 'total_counts', 'highly_variable'"
      ]
     },
     "execution_count": 4,
     "metadata": {},
     "output_type": "execute_result"
    }
   ],
   "source": [
    "def get_highly_variable_genes(adata: ad.AnnData) -> ad.AnnData:\n",
    "    \"\"\"\n",
    "    get_highly_variable_genes \n",
    "\n",
    "    Get the subset of genes in adata that have been classified as highly variable\n",
    "\n",
    "    Args:\n",
    "        adata (ad.AnnData): The input.\n",
    "\n",
    "    Returns:\n",
    "        ad.AnnData: A subset containing only highly variable genes\n",
    "    \"\"\"\n",
    "    b = adata.var[adata.var.highly_variable]\n",
    "    return adata[:, b.index] # type: ignore\n",
    "\n",
    "#\n",
    "# create an AnnData with only highly variable genes\n",
    "hvar = get_highly_variable_genes(adata)\n",
    "hvar"
   ]
  },
  {
   "cell_type": "code",
   "execution_count": 5,
   "metadata": {},
   "outputs": [
    {
     "name": "stdout",
     "output_type": "stream",
     "text": [
      "['0', '1', '2', '3', '4', '5', '6', '7', '8', '9', '10', '11', '12', '13', '14', '15', '16', '17', '18']\n"
     ]
    }
   ],
   "source": [
    "def get_cluster_names(adata: ad.AnnData, criterion=\"leiden_2\") -> list[str]:\n",
    "    \"\"\"\n",
    "    get_cluster_names \n",
    "\n",
    "    Get the cluster names assigned by the given criterion.\n",
    "\n",
    "    Args:\n",
    "        adata (ad.AnnData): The input.\n",
    "        criterion (str, optional): The criterion column used to cluster the data. Defaults to \"leiden_2\".\n",
    "\n",
    "    Returns:\n",
    "        list[str]: The list of cluster names.\n",
    "    \"\"\"\n",
    "    clusters = [\n",
    "        str(x) for x in sorted([int(cluster) for cluster in adata.obs[criterion].unique()])\n",
    "    ]\n",
    "    return clusters\n",
    "print(get_cluster_names(hvar))"
   ]
  },
  {
   "cell_type": "code",
   "execution_count": 6,
   "metadata": {},
   "outputs": [
    {
     "name": "stdout",
     "output_type": "stream",
     "text": [
      "Length of cluster table: 19\n"
     ]
    }
   ],
   "source": [
    "from typing import Any\n",
    "\n",
    "def partition_clusters(adata: ad.AnnData, criterion=\"leiden_2\") -> dict[str, ad.AnnData]:\n",
    "    \"\"\"\n",
    "    partition_clusters \n",
    "    Divide up the data into a series of subset AnnDatas stored in a dictionary\n",
    "    where the key is the cluster name.\n",
    "\n",
    "    Calls get_cluster_names\n",
    "\n",
    "    Args:\n",
    "        adata (ad.AnnData): The input.\n",
    "        criterion (str, optional): The column containing the cluster information. Defaults to \"leiden_2\".\n",
    "\n",
    "    Returns:\n",
    "        dict[str, ad.AnnData]: A dictionary with cluster names as keys and data in AnnData format. \n",
    "    \"\"\"\n",
    "    clusters = get_cluster_names(adata, criterion)\n",
    "    cluster_table: dict[str, Any] = {}\n",
    "    for cluster in clusters:\n",
    "        subset = adata[adata.obs[criterion] == cluster] # type: ignore\n",
    "        cluster_table[cluster] = subset.copy()\n",
    "    return cluster_table\n",
    "\n",
    "cluster_table = partition_clusters(hvar)\n",
    "print(f\"Length of cluster table: {len(cluster_table)}\")\n",
    "assert isinstance(cluster_table[list(cluster_table.keys())[0]], ad.AnnData) # ensure that we are dealing with copies, not slices\n",
    "assert len(cluster_table) == len(get_cluster_names(adata))"
   ]
  },
  {
   "cell_type": "code",
   "execution_count": 7,
   "metadata": {},
   "outputs": [],
   "source": [
    "def calculate_highest_frequency_genes(adata: ad.AnnData, number_of_genes:int = 20, expression_threshold=0.0, verbose=False) -> list[str]:\n",
    "    \"\"\"\n",
    "    calculate_highest_frequency_genes \n",
    "\n",
    "    Determine the genes that are most frequently in cells.\n",
    "\n",
    "    Args:\n",
    "        adata (ad.AnnData): The input.\n",
    "        number_of_genes (int, optional): The threshold to be called high frequency. Defaults to 20.\n",
    "        expression_threshold (float, optional): The minimum expression level for a gene to be considered. Defaults to 0.0.\n",
    "        verbose (bool, optional): Prints additional information, if True. Defaults to False.\n",
    "\n",
    "    Returns:\n",
    "        list[str]: A list of gene names representing the genes expressed in the most cells. \n",
    "    \"\"\"\n",
    "    cell_count, gene_count = adata.shape\n",
    "    if verbose:\n",
    "        print(f\"{cell_count} cells, {gene_count} genes\")\n",
    "    gene_table = {}\n",
    "\n",
    "    \n",
    "    # create a table with the genes as the keys and frequency as the value\n",
    "    for cell_no in range(cell_count):\n",
    "        b = adata.X[cell_no] > expression_threshold # type: ignore\n",
    "        genes = adata.var.index[b]\n",
    "        for gene in genes:\n",
    "            if gene in gene_table:\n",
    "                gene_table[gene] += 1\n",
    "            else:\n",
    "                gene_table[gene] = 1\n",
    "    # set the table to be in descending order \n",
    "    gene_table = dict(sorted(gene_table.items(), key=lambda x:x[1], reverse=True))\n",
    "\n",
    "    # create a list of the most frequently expressed in cells\n",
    "    gene_list = list(gene_table.keys())[0:number_of_genes]\n",
    "    if verbose:\n",
    "        for gene in gene_list:\n",
    "            print(f\"{gene}:{gene_table[gene]} ({gene_table[gene]/cell_count*100:4.1f}%)\")\n",
    "    return gene_list\n",
    "            "
   ]
  },
  {
   "cell_type": "code",
   "execution_count": 14,
   "metadata": {},
   "outputs": [
    {
     "name": "stdout",
     "output_type": "stream",
     "text": [
      "0:['GNLY', 'TXNIP', 'S100A4', 'PRKCH', 'SYNE2']\n",
      "1:['PRKCH', 'SYNE2', 'RIPOR2', 'SYNE1', 'THEMIS', 'ANKRD44', 'FYN', 'TGFBR3', 'PARP8', 'AOAH']\n",
      "2:['SYNE2', 'PARP8', 'CBLB', 'RORA', 'AL136456.1', 'IL7R', 'PLCB1', 'SKAP1']\n",
      "3:['GNLY', 'TXNIP', 'S100A4', 'SYNE1', 'DDX5', 'HLA-A']\n",
      "4:['RIPOR2', 'ANKRD44', 'SKAP1', 'FOXP1', 'PDE3B', 'INPP4B', 'ZBTB20', 'MAML2', 'ATM', 'SMCHD1', 'NELL2']\n",
      "5:['ANKRD44', 'FOXP1', 'SMCHD1', 'BACH2', 'BANK1', 'RALGPS2', 'FCHSD2', 'ADK', 'ZCCHC7', 'CAMK2D', 'LYN', 'MEF2C']\n",
      "6:['RIPOR2', 'ANKRD44', 'FOXP1', 'ZBTB20', 'SMCHD1', 'BACH2', 'BANK1', 'RALGPS2', 'FCHSD2', 'ADK', 'ZCCHC7', 'CAMK2D', 'LYN', 'MEF2C', 'ARHGAP24', 'PRKCB']\n",
      "7:['PRKCH', 'FYN', 'PARP8', 'AOAH', 'CBLB', 'SKAP1', 'ZBTB20', 'CEMIP2', 'CNOT6L', 'ATP8A1', 'TOX']\n",
      "8:['FOXP1', 'BACH2', 'ZCCHC7', 'LYN', 'PCDH9', 'PDE4D', 'SSBP2', 'ACSM3', 'TCF4', 'ARID1B', 'EBF1', 'TMEM131L', 'SYK', 'MIR181A1HG', 'IGHM']\n",
      "9:['AOAH', 'LYN', 'NAMPT', 'VCAN', 'ANXA1', 'NEAT1', 'DPYD', 'ARHGAP26', 'PLXDC2', 'QKI', 'FOS', 'ATP2B1', 'SIPA1L1', 'JMJD1C', 'LRMDA', 'LYST', 'VIM', 'MED13L', 'FTH1']\n",
      "10:['FTH1', 'SLC25A21', 'NFIA', 'TFRC', 'CD36', 'RPLP1', 'HBA1', 'RPL14', 'USP15', 'RPL41', 'HIST1H3B', 'CA1', 'RPS23']\n",
      "11:['SLC25A21', 'NFIA', 'TFRC', 'CD36', 'HBA1', 'USP15', 'CA1', 'SOX6', 'SLC25A37', 'SPTA1', 'HBA2', 'SLC4A1', 'ANK1', 'JAZF1', 'HBD', 'CR1L', 'TSPAN5', 'HBM', 'USP32', 'ASAP1']\n",
      "12:['GNLY', 'PRKCH', 'FYN', 'PARP8', 'AOAH', 'CBLB', 'PLCB1', 'ATM', 'CD247']\n",
      "13:['ZBTB20', 'SSBP2', 'MED13L', 'RPLP1', 'ZNF385D', 'CDK6', 'NKAIN2', 'ATP8B4', 'ETV6', 'AUTS2', 'STXBP5', 'ELMO1']\n",
      "14:['SLC25A21', 'NFIA', 'TFRC', 'CD36', 'HBA1', 'USP15', 'CA1', 'CCDC26', 'ITGA4', 'LRBA', 'MT-ND2', 'FHIT']\n",
      "15:['BACH2', 'SSBP2', 'TCF4', 'EBF1', 'MIR181A1HG', 'RPLP1', 'HIST1H3B', 'RPS23', 'PTMA', 'HIST1H4C', 'HMGB1', 'KCNQ5']\n",
      "16:['PDE4D', 'VCAN', 'LRMDA', 'LYST', 'ATP8B4', 'LYZ', 'HLA-DRB1', 'HLA-DRA']\n",
      "17:['RIPOR2', 'ZBTB20', 'BANK1', 'RALGPS2', 'ADK', 'ARHGAP24', 'PRKCB', 'PDE4D', 'EBF1', 'IGKC', 'CDK14']\n",
      "18:['LYN', 'PRKCB', 'NAMPT', 'NEAT1', 'LYST', 'FTH1', 'CTSS', 'TCF7L2', 'MTSS1']\n",
      "(19, 4)\n",
      "file written\n"
     ]
    }
   ],
   "source": [
    "def calculate_gene_signature_per_cluster(cluster_table: dict[str, ad.AnnData], \n",
    "                                         genes_per_cluster=25,\n",
    "                                         repeat_limit=5,\n",
    "                                         expression_threshold=0.0\n",
    "                                        )-> dict[str,list[str]]:\n",
    "    \"\"\"\n",
    "    calculate_gene_signature_per_cluster \n",
    "\n",
    "    Calculate a cluster specific gene signature based on the most highly expressed genes per cell.\n",
    "\n",
    "    Calls calculate_highest_frequency_genes\n",
    "\n",
    "    Args:\n",
    "        cluster_table (dict[str, ad.AnnData]): A table with cluster names as the key, cluster specific data as the input.\n",
    "        genes_per_cluster (int, optional): Number of genes to select by cluster. Defaults to 25.\n",
    "        repeat_limit (int, optional): The maximum number of clusters with a given gene. Defaults to 5.\n",
    "        expression_threshold (float, optional): Minimum expression threshold for each gene. Defaults to 0.0.\n",
    "\n",
    "    Returns:\n",
    "        dict[str,list[str]]: _description_\n",
    "    \"\"\"\n",
    "    gene_dict = {}\n",
    "\n",
    "    for cluster in cluster_table:\n",
    "        cdata = cluster_table[cluster]\n",
    "        gene_list = calculate_highest_frequency_genes(\n",
    "                                                    adata=cdata, \n",
    "                                                    number_of_genes=genes_per_cluster, \n",
    "                                                    expression_threshold=expression_threshold)\n",
    "        # print(f\"Cluster:{cluster}. Genes: {gene_list}\")\n",
    "        for gene in gene_list:\n",
    "            if gene in gene_dict:\n",
    "                gene_dict[gene].append(cluster)\n",
    "            else:\n",
    "                gene_dict[gene] = [cluster]\n",
    "    # eliminate genes that are present \"everywhere\" (i.e. in multiple clusters)\n",
    "    # in the following len(v) represents the number of clusters expressing the gene k\n",
    "    gene_dict = {k:v for k,v in gene_dict.items() if len(v) < repeat_limit}\n",
    "\n",
    "    # now calcuate the gene list for each cluster\n",
    "    cluster_dict = {k:list() for k in cluster_table}\n",
    "    for gene in gene_dict:\n",
    "        clusters = gene_dict[gene]\n",
    "        for cluster in clusters:\n",
    "            cluster_dict[cluster].append(gene)\n",
    "    return cluster_dict\n",
    "\n",
    "cluster_dict = calculate_gene_signature_per_cluster(cluster_table, expression_threshold=1.7, repeat_limit=6)\n",
    "for cluster in cluster_dict:\n",
    "    print(f\"{cluster}:{cluster_dict[cluster]}\")\n",
    "#\n",
    "# save the result as a dataframe\n",
    "#\n",
    "df = pd.DataFrame()\n",
    "df['cluster'] = [str(x) for x in cluster_dict.keys()]\n",
    "df['signature'] = [\" \".join(x) for x in cluster_dict.values()]\n",
    "df['embeddings'] = ['' for x in range(len(cluster_dict))]\n",
    "df['cell_id'] = df.index\n",
    "print(df.shape)\n",
    "df.to_parquet(\"../data/clustered.parquet\")\n",
    "print(\"file written\")\n",
    "\n"
   ]
  },
  {
   "cell_type": "code",
   "execution_count": 32,
   "metadata": {},
   "outputs": [
    {
     "data": {
      "text/plain": [
       "{'ACTB',\n",
       " 'AFF3',\n",
       " 'ANKRD44',\n",
       " 'ARHGAP15',\n",
       " 'B2M',\n",
       " 'CD74',\n",
       " 'EEF1A1',\n",
       " 'HBB',\n",
       " 'HLA-B',\n",
       " 'MALAT1',\n",
       " 'MBNL1',\n",
       " 'MT-ATP6',\n",
       " 'MT-CO1',\n",
       " 'MT-CO2',\n",
       " 'MT-CO3',\n",
       " 'MT-CYB',\n",
       " 'MT-ND4',\n",
       " 'MT-ND5',\n",
       " 'PLCG2',\n",
       " 'PTPRC',\n",
       " 'RABGAP1L',\n",
       " 'UTRN',\n",
       " 'ZBTB20',\n",
       " 'ZEB2'}"
      ]
     },
     "execution_count": 32,
     "metadata": {},
     "output_type": "execute_result"
    }
   ],
   "source": [
    "def find_common_genes(adata: ad.AnnData, genes_per_cluster=25, repeat_limit=5, expression_threshold=0.0) -> set[str]:\n",
    "    \"\"\"\n",
    "    find_common_genes \n",
    "\n",
    "    Find genes that are almost ubiquitously expressed.\n",
    "\n",
    "    Args:\n",
    "        adata (ad.AnnData): The input.\n",
    "        genes_per_cluster (int, optional): The number of genes per cluster to consider. Defaults to 25.\n",
    "        repeat_limit (int, optional): The maximum number of genes allowed in multiple clusters. Defaults to 5.\n",
    "        expression_threshold (float, optional): The minimum gene expression threshold. Defaults to 0.0.\n",
    "\n",
    "    Returns:\n",
    "        set[str]: A set of genes that are widely expressed for potential elimination from gene signatures.\n",
    "    \"\"\"\n",
    "    gene_dict = {}\n",
    "    for cluster in cluster_table:\n",
    "        cluster_adata = cluster_table[cluster]\n",
    "        gene_list = calculate_highest_frequency_genes(\n",
    "                                                        adata=cluster_adata, \n",
    "                                                        number_of_genes=genes_per_cluster,\n",
    "                                                        expression_threshold=expression_threshold)\n",
    "        # record which clusters express each gene\n",
    "        for gene in gene_list:\n",
    "            if gene in gene_dict:\n",
    "                gene_dict[gene].append(cluster)\n",
    "            else:\n",
    "                gene_dict[gene] = [cluster]\n",
    "    # filter out genes that are only present in a few clusters\n",
    "    gene_dict = {k:v for k,v in gene_dict.items() if len(v) >= repeat_limit}\n",
    "\n",
    "    # get the resulting list of gene names\n",
    "    gene_names = list(gene_dict.keys())\n",
    "    common_genes = set(gene_names)\n",
    "    \n",
    "    return common_genes\n",
    "        \n",
    "\n",
    "find_common_genes(adata, expression_threshold=1.5)"
   ]
  },
  {
   "cell_type": "code",
   "execution_count": 10,
   "metadata": {},
   "outputs": [
    {
     "name": "stdout",
     "output_type": "stream",
     "text": [
      "TGACCAAGTAGACAAA\n",
      "4000\n"
     ]
    }
   ],
   "source": [
    "#\n",
    "# need to extract data for a single cell\n",
    "#\n",
    "hv = get_highly_variable_genes(adata)\n",
    "cell_name = hv.obs.index[4]\n",
    "print(cell_name)\n",
    "gene_data = hv.X[4].copy() # type: ignore\n",
    "print(len(gene_data))\n",
    "\n"
   ]
  },
  {
   "cell_type": "code",
   "execution_count": 35,
   "metadata": {},
   "outputs": [
    {
     "name": "stdout",
     "output_type": "stream",
     "text": [
      "15\n"
     ]
    }
   ],
   "source": [
    "expression_threshold = 1.5\n",
    "b= gene_data > expression_threshold\n",
    "expression = gene_data[b]\n",
    "names = hv.var.index[b]\n",
    "assert expression.shape == names.shape\n",
    "redundant = find_common_genes(hv, expression_threshold=expression_threshold)\n",
    "genes = dict(sorted(dict(zip(names,expression)).items(), key=lambda x:x[1], reverse=True))\n",
    "genes = {k:v for k,v in genes.items() if k not in redundant and not k.startswith(\"MT-\")}\n",
    "# genes = {k:v for k,v in genes.items() if k not in redundant }\n",
    "print(len(genes))\n"
   ]
  },
  {
   "cell_type": "code",
   "execution_count": 36,
   "metadata": {},
   "outputs": [
    {
     "data": {
      "text/plain": [
       "{'RPL11': 1.8190973713412917,\n",
       " 'CEP350': 1.8190973713412917,\n",
       " 'GNLY': 1.8190973713412917,\n",
       " 'PTPN4': 1.8190973713412917,\n",
       " 'SMARCA5': 1.8190973713412917,\n",
       " 'KIAA0825': 1.8190973713412917,\n",
       " 'ORC5': 1.8190973713412917,\n",
       " 'SARAF': 1.8190973713412917,\n",
       " 'PDCD4': 1.8190973713412917,\n",
       " 'ABLIM1': 1.8190973713412917,\n",
       " 'FNBP4': 1.8190973713412917,\n",
       " 'SLC38A1': 1.8190973713412917,\n",
       " 'ZC3H13': 1.8190973713412917,\n",
       " 'CTDSPL2': 1.8190973713412917,\n",
       " 'NF1': 1.8190973713412917}"
      ]
     },
     "execution_count": 36,
     "metadata": {},
     "output_type": "execute_result"
    }
   ],
   "source": [
    "genes"
   ]
  },
  {
   "cell_type": "code",
   "execution_count": 37,
   "metadata": {},
   "outputs": [],
   "source": [
    "def get_gene_signature(adata: ad.AnnData,\n",
    "                   feature_index: int,\n",
    "                   expression_threshold=0.0,\n",
    "                   redundant_genes: set[str]=set(),\n",
    "                   verbose: bool = False) -> dict[str,float]:\n",
    "    \"\"\"Calculate the list of genes for the given cell based on the feature_index.  Only non-mitochondrial\n",
    "    genes with an expression level greater than the provided expression threshold are reported.\n",
    "\n",
    "    Args:\n",
    "        adata (ad.AnnData): The AnnData containing the cells.  Assume that only highly variable genes have been provided.\n",
    "        feature_index (int): The index of the cell to be measured\n",
    "        expression_threshold (float, optional): The minimum expression level. Defaults to 0.0, which returns all non-zero genes.\n",
    "        redundant_genes (set[str], optional): Genes to be filtered out from the final result. Defaults to the empty set.\n",
    "        verbose (bool, optional): Print intermediated data to standard output. Defaults to False.\n",
    "    Returns:\n",
    "        dict[str, float]: Dictionary with gene names as keys and expression as values.\n",
    "    \"\"\"\n",
    "    num_cells, _ = adata.shape\n",
    "    if feature_index < 0 or feature_index > num_cells-1:\n",
    "        raise ValueError(f\"Feature index ({feature_index}) outside the range of cells (0..{num_cells-1}) in the current dataset.\")\n",
    "    gene_data = adata.X[feature_index].copy() # type: ignore\n",
    "    if verbose:\n",
    "        print(f\"Started with {len(gene_data)} genes\")\n",
    "    # calculate the mask to find gene subset\n",
    "    b= gene_data > expression_threshold\n",
    "    expression = gene_data[b]\n",
    "    names = adata.var.index[b] \n",
    "    assert expression.shape == names.shape\n",
    "    if verbose:\n",
    "        print(f\"Found {len(names)} genes exceeding expression threshold.\")\n",
    "    \n",
    "    # sort the genes based on expression\n",
    "    genes = dict(sorted(dict(zip(names,expression)).items(), key=lambda x:x[1], reverse=True))\n",
    "    # remove redundant and mitochondrial genes\n",
    "    genes = {k:v for k,v in genes.items() if k not in redundant_genes and not k.startswith(\"MT-\")}\n",
    "    if verbose:\n",
    "        print(f\"Found {len(genes)} genes after filtering.\")\n",
    "    return genes"
   ]
  },
  {
   "cell_type": "code",
   "execution_count": 38,
   "metadata": {},
   "outputs": [
    {
     "name": "stdout",
     "output_type": "stream",
     "text": [
      "44\n"
     ]
    },
    {
     "data": {
      "text/plain": [
       "{'BANK1': 2.4271888792164433,\n",
       " 'ARID1B': 2.4271888792164433,\n",
       " 'PLEKHA2': 2.3061907112814617,\n",
       " 'LINC01619': 2.1685103296015886,\n",
       " 'BBX': 2.0088007503141467,\n",
       " 'LIX1-AS1': 2.0088007503141467,\n",
       " 'BACH2': 2.0088007503141467,\n",
       " 'JAZF1': 2.0088007503141467,\n",
       " 'JMJD1C': 2.0088007503141467,\n",
       " 'CHD9': 2.0088007503141467,\n",
       " 'COBLL1': 1.8186444515907547,\n",
       " 'ITPR1': 1.8186444515907547,\n",
       " 'ZSWIM6': 1.8186444515907547,\n",
       " 'FBXL17': 1.8186444515907547,\n",
       " 'CDK14': 1.8186444515907547,\n",
       " 'ADK': 1.8186444515907547,\n",
       " 'FCHSD2': 1.8186444515907547,\n",
       " 'PRH1': 1.8186444515907547,\n",
       " 'ZFAND6': 1.8186444515907547,\n",
       " 'PRKCB': 1.8186444515907547,\n",
       " 'ANKRD12': 1.8186444515907547,\n",
       " 'COP1': 1.5836324776071877,\n",
       " 'RALGPS2': 1.5836324776071877,\n",
       " 'USP34': 1.5836324776071877,\n",
       " 'IWS1': 1.5836324776071877,\n",
       " 'MGAT5': 1.5836324776071877,\n",
       " 'SP100': 1.5836324776071877,\n",
       " 'FOXP1': 1.5836324776071877,\n",
       " 'ACAP2': 1.5836324776071877,\n",
       " 'TAPT1': 1.5836324776071877,\n",
       " 'TMEM131L': 1.5836324776071877,\n",
       " 'EBF1': 1.5836324776071877,\n",
       " 'GMDS-DT': 1.5836324776071877,\n",
       " 'GFOD1': 1.5836324776071877,\n",
       " 'RIPOR2': 1.5836324776071877,\n",
       " 'HLA-DRB1': 1.5836324776071877,\n",
       " 'VPS41': 1.5836324776071877,\n",
       " 'TPD52': 1.5836324776071877,\n",
       " 'ZCCHC7': 1.5836324776071877,\n",
       " 'TTC17': 1.5836324776071877,\n",
       " 'TCF12': 1.5836324776071877,\n",
       " 'SSH2': 1.5836324776071877,\n",
       " 'SPAG9': 1.5836324776071877,\n",
       " 'PITPNC1': 1.5836324776071877}"
      ]
     },
     "execution_count": 38,
     "metadata": {},
     "output_type": "execute_result"
    }
   ],
   "source": [
    "expression_threshold = 1.5\n",
    "redundant = find_common_genes(hv, expression_threshold=expression_threshold)\n",
    "sig = get_gene_signature(adata=hv, \n",
    "                     feature_index=2, \n",
    "                     expression_threshold=expression_threshold, \n",
    "                     redundant_genes=redundant,\n",
    "                     verbose=False)\n",
    "print(len(sig))\n",
    "sig"
   ]
  },
  {
   "cell_type": "code",
   "execution_count": 15,
   "metadata": {},
   "outputs": [
    {
     "name": "stdout",
     "output_type": "stream",
     "text": [
      "1232\n",
      "1074\n",
      "791\n",
      "727\n",
      "695\n",
      "615\n",
      "571\n",
      "541\n",
      "491\n",
      "406\n",
      "398\n",
      "368\n",
      "314\n",
      "293\n",
      "220\n",
      "201\n",
      "199\n",
      "148\n",
      "86\n",
      "(9370, 2)\n",
      "9370\n"
     ]
    }
   ],
   "source": [
    "expression_threshold = 1.5\n",
    "redundant = find_common_genes(hv, expression_threshold=expression_threshold)\n",
    "dataframes :list[pd.DataFrame] = []\n",
    "total_cells=0\n",
    "for cluster_name in cluster_table:\n",
    "    # test with a single cluster\n",
    "    cluster_signatures = pd.DataFrame(columns = ['cluster','signature'], index=cluster_table[cluster_name].obs.index)\n",
    "    cluster_adata = cluster_table[cluster_name]\n",
    "    n_cells, n_genes = cluster_adata.shape\n",
    "    print(n_cells)\n",
    "    total_cells+=n_cells\n",
    "    # for cell_no in range(10):\n",
    "    for cell_no in range(n_cells):\n",
    "        cluster_signatures.iloc[cell_no,0] = cluster_name\n",
    "        cluster_signatures.iloc[cell_no,1] = \" \".join(list(get_gene_signature(adata=cluster_adata, \n",
    "                                                        feature_index=cell_no,\n",
    "                                                        expression_threshold=expression_threshold,\n",
    "                                                        redundant_genes=redundant\n",
    "                                                        ).keys()))\n",
    "    # print(cluster_signatures.shape)\n",
    "    dataframes.append(cluster_signatures)\n",
    "\n",
    "sigs = pd.concat(dataframes, axis=0)\n",
    "print(sigs.shape)\n",
    "print(total_cells)\n",
    "\n",
    "        "
   ]
  },
  {
   "cell_type": "code",
   "execution_count": 16,
   "metadata": {},
   "outputs": [],
   "source": [
    "def process_clusters(cluster_table:dict[str,ad.AnnData], redundant_genes:set[str], expression_threshold=0.0, verbose=False) -> pd.DataFrame:\n",
    "    \"\"\"Given a dictionary of clusters and a set of redundant genes, calculates the gene_signature on a cell by cell basis.\n",
    "\n",
    "    Args:\n",
    "        cluster_table (dict[str,ad.AnnData]): Holds the cluster data with cluster names as keys.\n",
    "        redundant_genes (set[str]): A set of separately calculated genes to exclude from signatures.\n",
    "        expression_threshold (float, optional): Only count genes with expression levels greater than this number. Defaults to 0.0.\n",
    "        verbose (bool, optional): Defaults to False.\n",
    "\n",
    "    Returns:\n",
    "        pd.DataFrame: A dataframe with cells as the index and columns for cluster name and signature (as a space separated string).\n",
    "    \"\"\"\n",
    "    dataframes :list[pd.DataFrame] = []\n",
    "    total_cells=0\n",
    "    for cluster_name in cluster_table:\n",
    "        cluster_signatures = pd.DataFrame(columns = ['cluster','signature'], index=cluster_table[cluster_name].obs.index)\n",
    "        cluster_adata = cluster_table[cluster_name]\n",
    "        n_cells, _ = cluster_adata.shape\n",
    "        if verbose:\n",
    "            print(f\"cluster {cluster_name} has {n_cells} cells.\")\n",
    "        total_cells+=n_cells\n",
    "        for cell_no in range(n_cells):\n",
    "            cluster_signatures.iloc[cell_no,0] = cluster_name\n",
    "            cluster_signatures.iloc[cell_no,1] = \" \".join(list(get_gene_signature(adata=cluster_adata, \n",
    "                                                            feature_index=cell_no,\n",
    "                                                            expression_threshold=expression_threshold,\n",
    "                                                            redundant_genes=redundant\n",
    "                                                            ).keys()))\n",
    "        if verbose:\n",
    "            print(cluster_signatures.head())\n",
    "        dataframes.append(cluster_signatures)\n",
    "\n",
    "    sigs = pd.concat(dataframes, axis=0)\n",
    "    assert sigs.shape[0] == total_cells # sanity check to ensure that all cells are being processed\n",
    "    if verbose:\n",
    "        print(f\"Processed {total_cells} to produce a dataframe with dimensions {sigs.shape}.\")\n",
    "    return sigs\n",
    "\n",
    "redundant = find_common_genes(hv, expression_threshold=expression_threshold)\n",
    "sigs_pd = process_clusters(cluster_table=cluster_table, redundant_genes=redundant,expression_threshold=1.5) \n"
   ]
  },
  {
   "cell_type": "code",
   "execution_count": 17,
   "metadata": {},
   "outputs": [
    {
     "data": {
      "text/plain": [
       "cluster      1232\n",
       "signature    1232\n",
       "dtype: int64"
      ]
     },
     "execution_count": 17,
     "metadata": {},
     "output_type": "execute_result"
    }
   ],
   "source": [
    "b = sigs_pd[sigs_pd.cluster=='0']\n",
    "b.count()"
   ]
  },
  {
   "cell_type": "code",
   "execution_count": 18,
   "metadata": {},
   "outputs": [],
   "source": [
    "# write signatures to disk\n",
    "sigs_pd.to_csv(\"../data/sigs.csv\")"
   ]
  },
  {
   "cell_type": "code",
   "execution_count": 19,
   "metadata": {},
   "outputs": [],
   "source": [
    "sigs_pd.to_parquet('../data/sigs.parquet')"
   ]
  },
  {
   "cell_type": "code",
   "execution_count": null,
   "metadata": {},
   "outputs": [],
   "source": []
  }
 ],
 "metadata": {
  "kernelspec": {
   "display_name": "Python 3 (ipykernel)",
   "language": "python",
   "name": "python3"
  },
  "language_info": {
   "codemirror_mode": {
    "name": "ipython",
    "version": 3
   },
   "file_extension": ".py",
   "mimetype": "text/x-python",
   "name": "python",
   "nbconvert_exporter": "python",
   "pygments_lexer": "ipython3",
   "version": "3.9.19"
  }
 },
 "nbformat": 4,
 "nbformat_minor": 4
}
