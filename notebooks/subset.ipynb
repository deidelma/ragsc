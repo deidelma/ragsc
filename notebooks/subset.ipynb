{
 "cells": [
  {
   "cell_type": "markdown",
   "metadata": {},
   "source": [
    "# Subset Notebook\n",
    "\n",
    "Working towards analyzing clusters derived in the cluster notebook so that they can be used to create RAG vectors"
   ]
  },
  {
   "cell_type": "code",
   "execution_count": null,
   "metadata": {},
   "outputs": [],
   "source": [
    "import warnings\n",
    "\n",
    "# import numba\n",
    "from numba.core.errors import NumbaDeprecationWarning, NumbaPendingDeprecationWarning\n",
    "\n",
    "warnings.filterwarnings(\"ignore\", category=DeprecationWarning)\n",
    "\n",
    "warnings.simplefilter(\"ignore\", category=NumbaDeprecationWarning)\n",
    "warnings.simplefilter(\"ignore\", category=NumbaPendingDeprecationWarning)"
   ]
  },
  {
   "cell_type": "code",
   "execution_count": null,
   "metadata": {},
   "outputs": [],
   "source": [
    "import scanpy as sc\n",
    "import pandas as pd\n",
    "import numpy as np\n",
    "import anndata as ad\n",
    "\n",
    "# import os\n",
    "from scipy.sparse import csr_matrix\n",
    "import seaborn as sns\n",
    "import matplotlib.pyplot as plt\n",
    "\n",
    "# import celltypist\n",
    "# from celltypist import models\n",
    "# import scarches as sca\n",
    "\n",
    "# import urllib.request\n",
    "\n",
    "warnings.filterwarnings(\"ignore\", category=pd.errors.PerformanceWarning)\n",
    "\n",
    "sc.set_figure_params(figsize=(5, 5))  # type: ignore"
   ]
  },
  {
   "cell_type": "code",
   "execution_count": null,
   "metadata": {},
   "outputs": [],
   "source": [
    "adata = sc.read_h5ad(\"../data/subset.h5ad\")\n",
    "adata"
   ]
  },
  {
   "cell_type": "code",
   "execution_count": null,
   "metadata": {},
   "outputs": [],
   "source": [
    "def get_highly_variable_genes(adata: ad.AnnData) -> ad.AnnData:\n",
    "    b = adata.var[adata.var.highly_variable]\n",
    "    return adata[:, b.index] # type: ignore\n",
    "\n",
    "hvar = get_highly_variable_genes(adata)"
   ]
  },
  {
   "cell_type": "code",
   "execution_count": null,
   "metadata": {},
   "outputs": [],
   "source": [
    "def get_cluster_names(adata: ad.AnnData, criterion=\"leiden_2\") -> list[str]:\n",
    "    clusters = [\n",
    "        str(x) for x in sorted([int(cluster) for cluster in adata.obs[criterion].unique()])\n",
    "    ]\n",
    "    return clusters\n",
    "print(get_cluster_names(hvar))"
   ]
  },
  {
   "cell_type": "code",
   "execution_count": null,
   "metadata": {},
   "outputs": [],
   "source": [
    "from typing import Any\n",
    "\n",
    "def partition_clusters(adata: ad.AnnData, criterion=\"leiden_2\") -> dict[str, ad.AnnData]:\n",
    "    clusters = get_cluster_names(adata, criterion)\n",
    "    cluster_table: dict[str, Any] = {}\n",
    "    for cluster in clusters:\n",
    "        subset = adata[adata.obs[criterion] == cluster] # type: ignore\n",
    "        cluster_table[cluster] = subset.copy()\n",
    "    return cluster_table\n",
    "\n",
    "cluster_table = partition_clusters(hvar)\n",
    "print(f\"Length of cluster table: {len(cluster_table)}\")\n",
    "assert isinstance(cluster_table[list(cluster_table.keys())[0]], ad.AnnData) # ensure that we are dealing with copies, not slices"
   ]
  },
  {
   "cell_type": "code",
   "execution_count": null,
   "metadata": {},
   "outputs": [],
   "source": [
    "def calculate_highest_frequency_genes(adata: ad.AnnData, number_of_genes:int = 20, expression_threshold=0.0, verbose=False) -> list[str]:\n",
    "    cell_count, gene_count = adata.shape\n",
    "    if verbose:\n",
    "        print(f\"{cell_count} cells, {gene_count} genes\")\n",
    "    gene_table = {}\n",
    "    \n",
    "    for cell_no in range(cell_count):\n",
    "        b = adata.X[cell_no] > expression_threshold # type: ignore\n",
    "        genes = adata.var.index[b]\n",
    "        for gene in genes:\n",
    "            if gene in gene_table:\n",
    "                gene_table[gene] += 1\n",
    "            else:\n",
    "                gene_table[gene] = 1\n",
    "    gene_table = dict(sorted(gene_table.items(), key=lambda x:x[1], reverse=True))\n",
    "\n",
    "    gene_list = list(gene_table.keys())[0:number_of_genes]\n",
    "    if verbose:\n",
    "        for gene in gene_list:\n",
    "            print(f\"{gene}:{gene_table[gene]} ({gene_table[gene]/cell_count*100:4.1f}%)\")\n",
    "    return gene_list\n",
    "            "
   ]
  },
  {
   "cell_type": "code",
   "execution_count": null,
   "metadata": {},
   "outputs": [],
   "source": [
    "def calculate_gene_signature_per_cluster(cluster_table: dict[str, ad.AnnData], \n",
    "                                         genes_per_cluster=25,\n",
    "                                         repeat_limit=5,\n",
    "                                         expression_threshold=0.0\n",
    "                                        )-> dict[str,list[str]]:\n",
    "    gene_dict = {}\n",
    "    for cluster in cluster_table:\n",
    "        cdata = cluster_table[cluster]\n",
    "        gene_list = calculate_highest_frequency_genes(\n",
    "                                                    adata=cdata, \n",
    "                                                    number_of_genes=genes_per_cluster, \n",
    "                                                    expression_threshold=expression_threshold)\n",
    "        # print(f\"Cluster:{cluster}. Genes: {gene_list}\")\n",
    "        for gene in gene_list:\n",
    "            if gene in gene_dict:\n",
    "                gene_dict[gene].append(cluster)\n",
    "            else:\n",
    "                gene_dict[gene] = [cluster]\n",
    "        # eliminate genes that are present \"everywhere\"\n",
    "        # in the following len(v) represents the number of clusters expressing the gene k\n",
    "    gene_dict = {k:v for k,v in gene_dict.items() if len(v) < repeat_limit}\n",
    "\n",
    "    # now calcuate the gene list for each cluster\n",
    "    cluster_dict = {k:list() for k in cluster_table}\n",
    "    for gene in gene_dict:\n",
    "        clusters = gene_dict[gene]\n",
    "        for cluster in clusters:\n",
    "            cluster_dict[cluster].append(gene)\n",
    "    return cluster_dict\n",
    "\n",
    "cluster_dict = calculate_gene_signature_per_cluster(cluster_table, expression_threshold=1.5)\n",
    "for cluster in cluster_dict:\n",
    "    print(f\"{cluster}:{cluster_dict[cluster]}\")\n"
   ]
  },
  {
   "cell_type": "code",
   "execution_count": null,
   "metadata": {},
   "outputs": [],
   "source": [
    "def find_redundant_genes(adata: ad.AnnData, genes_per_cluster=25, repeat_limit=5, expression_threshold=0.0) -> set[str]:\n",
    "    # common_genes: set[str] = set()\n",
    "    gene_dict = {}\n",
    "    for cluster in cluster_table:\n",
    "        cluster_adata = cluster_table[cluster]\n",
    "        gene_list = calculate_highest_frequency_genes(\n",
    "                                                        adata=cluster_adata, \n",
    "                                                        number_of_genes=genes_per_cluster,\n",
    "                                                        expression_threshold=expression_threshold)\n",
    "        # record which clusters express each gene\n",
    "        for gene in gene_list:\n",
    "            if gene in gene_dict:\n",
    "                gene_dict[gene].append(cluster)\n",
    "            else:\n",
    "                gene_dict[gene] = [cluster]\n",
    "    # filter out genes that are only present in a few clusters\n",
    "    gene_dict = {k:v for k,v in gene_dict.items() if len(v) >= repeat_limit}\n",
    "\n",
    "    # get the resulting list of gene names\n",
    "    gene_names = list(gene_dict.keys())\n",
    "    # filter out mitochondrial genes\n",
    "    # gene_names= list(filter(lambda gene: not gene.lower().startswith('mt-'), gene_names))\n",
    "    common_genes = set(gene_names)\n",
    "    \n",
    "    return common_genes\n",
    "        \n",
    "\n",
    "find_redundant_genes(adata, expression_threshold=1.5)"
   ]
  },
  {
   "cell_type": "code",
   "execution_count": null,
   "metadata": {},
   "outputs": [],
   "source": [
    "#\n",
    "# need to extract data for a single cell\n",
    "#\n",
    "hv = get_highly_variable_genes(adata)\n",
    "cell_name = hv.obs.index[4]\n",
    "print(cell_name)\n",
    "gene_data = hv.X[4].copy() # type: ignore\n",
    "print(len(gene_data))\n",
    "\n"
   ]
  },
  {
   "cell_type": "code",
   "execution_count": null,
   "metadata": {},
   "outputs": [],
   "source": [
    "expression_threshold = 1.5\n",
    "b= gene_data > expression_threshold\n",
    "expression = gene_data[b]\n",
    "names = hv.var.index[b]\n",
    "assert expression.shape == names.shape\n",
    "redundant = find_redundant_genes(hv, expression_threshold=expression_threshold)\n",
    "genes = dict(sorted(dict(zip(names,expression)).items(), key=lambda x:x[1], reverse=True))\n",
    "genes = {k:v for k,v in genes.items() if k not in redundant and not k.startswith(\"MT-\")}\n",
    "print(len(genes))\n"
   ]
  },
  {
   "cell_type": "code",
   "execution_count": null,
   "metadata": {},
   "outputs": [],
   "source": [
    "genes"
   ]
  },
  {
   "cell_type": "code",
   "execution_count": null,
   "metadata": {},
   "outputs": [],
   "source": [
    "def get_gene_signature(adata: ad.AnnData,\n",
    "                   feature_index: int,\n",
    "                   expression_threshold=0.0,\n",
    "                   redundant_genes: set[str]=set(),\n",
    "                   verbose: bool = False) -> dict[str,float]:\n",
    "    \"\"\"Calculate the list of genes for the given cell based on the feature_index.  Only non-mitochondrial\n",
    "    genes with an expression level greater than the provided expression threshold are reported.\n",
    "\n",
    "    Args:\n",
    "        adata (ad.AnnData): The AnnData containing the cells.  Assume that only highly variable genes have been provided.\n",
    "        feature_index (int): The index of the cell to be measured\n",
    "        expression_threshold (float, optional): The minimum expression level. Defaults to 0.0, which returns all non-zero genes.\n",
    "        redundant_genes (set[str], optional): Genes to be filtered out from the final result. Defaults to the empty set.\n",
    "        verbose (bool, optional): Print intermediated data to standard output. Defaults to False.\n",
    "    Returns:\n",
    "        dict[str, float]: Dictionary with gene names as keys and expression as values.\n",
    "    \"\"\"\n",
    "    num_cells, _ = adata.shape\n",
    "    if feature_index < 0 or feature_index > num_cells-1:\n",
    "        raise ValueError(f\"Feature index ({feature_index}) outside the range of cells (0..{num_cells-1}) in the current dataset.\")\n",
    "    gene_data = adata.X[feature_index].copy() # type: ignore\n",
    "    if verbose:\n",
    "        print(f\"Started with {len(gene_data)} genes\")\n",
    "    # calculate the mask to find gene subset\n",
    "    b= gene_data > expression_threshold\n",
    "    expression = gene_data[b]\n",
    "    names = adata.var.index[b] \n",
    "    assert expression.shape == names.shape\n",
    "    if verbose:\n",
    "        print(f\"Found {len(names)} genes exceeding expression threshold.\")\n",
    "    \n",
    "    # sort the genes based on expression\n",
    "    genes = dict(sorted(dict(zip(names,expression)).items(), key=lambda x:x[1], reverse=True))\n",
    "    # remove redundant and mitochondrial genes\n",
    "    genes = {k:v for k,v in genes.items() if k not in redundant_genes and not k.startswith(\"MT-\")}\n",
    "    if verbose:\n",
    "        print(f\"Found {len(genes)} genes after filtering.\")\n",
    "    return genes"
   ]
  },
  {
   "cell_type": "code",
   "execution_count": null,
   "metadata": {},
   "outputs": [],
   "source": [
    "expression_threshold = 1.5\n",
    "redundant = find_redundant_genes(hv, expression_threshold=expression_threshold)\n",
    "sig = get_gene_signature(adata=hv, \n",
    "                     feature_index=2, \n",
    "                     expression_threshold=expression_threshold, \n",
    "                     redundant_genes=redundant,\n",
    "                     verbose=False)\n",
    "print(len(sig))\n",
    "sig"
   ]
  },
  {
   "cell_type": "code",
   "execution_count": null,
   "metadata": {},
   "outputs": [],
   "source": [
    "expression_threshold = 1.5\n",
    "redundant = find_redundant_genes(hv, expression_threshold=expression_threshold)\n",
    "dataframes :list[pd.DataFrame] = []\n",
    "total_cells=0\n",
    "for cluster_name in cluster_table:\n",
    "    # test with a single cluster\n",
    "    cluster_signatures = pd.DataFrame(columns = ['cluster','signature'], index=cluster_table[cluster_name].obs.index)\n",
    "    cluster_adata = cluster_table[cluster_name]\n",
    "    n_cells, n_genes = cluster_adata.shape\n",
    "    print(n_cells)\n",
    "    total_cells+=n_cells\n",
    "    # for cell_no in range(10):\n",
    "    for cell_no in range(n_cells):\n",
    "        cluster_signatures.iloc[cell_no,0] = cluster_name\n",
    "        cluster_signatures.iloc[cell_no,1] = \" \".join(list(get_gene_signature(adata=cluster_adata, \n",
    "                                                        feature_index=cell_no,\n",
    "                                                        expression_threshold=expression_threshold,\n",
    "                                                        redundant_genes=redundant\n",
    "                                                        ).keys()))\n",
    "    # print(cluster_signatures.shape)\n",
    "    dataframes.append(cluster_signatures)\n",
    "\n",
    "sigs = pd.concat(dataframes, axis=0)\n",
    "print(sigs.shape)\n",
    "print(total_cells)\n",
    "\n",
    "        "
   ]
  },
  {
   "cell_type": "code",
   "execution_count": null,
   "metadata": {},
   "outputs": [],
   "source": [
    "def process_clusters(cluster_table:dict[str,ad.AnnData], redundant_genes:set[str], expression_threshold=0.0, verbose=False) -> pd.DataFrame:\n",
    "    \"\"\"Given a dictionary of clusters and a set of redundant genes, calculates the gene_signature on a cell by cell basis.\n",
    "\n",
    "    Args:\n",
    "        cluster_table (dict[str,ad.AnnData]): Holds the cluster data with cluster names as keys.\n",
    "        redundant_genes (set[str]): A set of separately calculated genes to exclude from signatures.\n",
    "        expression_threshold (float, optional): Only count genes with expression levels greater than this number. Defaults to 0.0.\n",
    "        verbose (bool, optional): Defaults to False.\n",
    "\n",
    "    Returns:\n",
    "        pd.DataFrame: A dataframe with cells as the index and columns for cluster name and signature (as a space separated string).\n",
    "    \"\"\"\n",
    "    dataframes :list[pd.DataFrame] = []\n",
    "    total_cells=0\n",
    "    for cluster_name in cluster_table:\n",
    "        cluster_signatures = pd.DataFrame(columns = ['cluster','signature'], index=cluster_table[cluster_name].obs.index)\n",
    "        cluster_adata = cluster_table[cluster_name]\n",
    "        n_cells, _ = cluster_adata.shape\n",
    "        if verbose:\n",
    "            print(f\"cluster {cluster_name} has {n_cells} cells.\")\n",
    "        total_cells+=n_cells\n",
    "        for cell_no in range(n_cells):\n",
    "            cluster_signatures.iloc[cell_no,0] = cluster_name\n",
    "            cluster_signatures.iloc[cell_no,1] = \" \".join(list(get_gene_signature(adata=cluster_adata, \n",
    "                                                            feature_index=cell_no,\n",
    "                                                            expression_threshold=expression_threshold,\n",
    "                                                            redundant_genes=redundant\n",
    "                                                            ).keys()))\n",
    "        if verbose:\n",
    "            print(cluster_signatures.head())\n",
    "        dataframes.append(cluster_signatures)\n",
    "\n",
    "    sigs = pd.concat(dataframes, axis=0)\n",
    "    assert sigs.shape[0] == total_cells # sanity check to ensure that all cells are being processed\n",
    "    if verbose:\n",
    "        print(f\"Processed {total_cells} to produce a dataframe with dimensions {sigs.shape}.\")\n",
    "    return sigs\n",
    "\n",
    "redundant = find_redundant_genes(hv, expression_threshold=expression_threshold)\n",
    "sigs_pd = process_clusters(cluster_table=cluster_table, redundant_genes=redundant,expression_threshold=1.5) \n"
   ]
  },
  {
   "cell_type": "code",
   "execution_count": null,
   "metadata": {},
   "outputs": [],
   "source": [
    "b = sigs_pd[sigs_pd.cluster=='0']\n",
    "b.count()"
   ]
  },
  {
   "cell_type": "code",
   "execution_count": null,
   "metadata": {},
   "outputs": [],
   "source": [
    "# write signatures to disk\n",
    "sigs_pd.to_csv(\"../data/sigs.csv\")"
   ]
  },
  {
   "cell_type": "code",
   "execution_count": null,
   "metadata": {},
   "outputs": [],
   "source": []
  }
 ],
 "metadata": {
  "kernelspec": {
   "display_name": "Python 3 (ipykernel)",
   "language": "python",
   "name": "python3"
  },
  "language_info": {
   "codemirror_mode": {
    "name": "ipython",
    "version": 3
   },
   "file_extension": ".py",
   "mimetype": "text/x-python",
   "name": "python",
   "nbconvert_exporter": "python",
   "pygments_lexer": "ipython3",
   "version": "3.9.19"
  }
 },
 "nbformat": 4,
 "nbformat_minor": 4
}
