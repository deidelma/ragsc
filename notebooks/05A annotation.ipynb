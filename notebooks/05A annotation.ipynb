{
 "cells": [
  {
   "cell_type": "markdown",
   "metadata": {},
   "source": [
    "# Annotation\n",
    "\n",
    "Based on [Single Cell Best Practices](https://www.sc-best-practices.org/cellular_structure/annotation.html)"
   ]
  },
  {
   "cell_type": "code",
   "execution_count": null,
   "metadata": {},
   "outputs": [],
   "source": [
    "import warnings\n",
    "\n",
    "import numba\n",
    "from numba.core.errors import NumbaDeprecationWarning, NumbaPendingDeprecationWarning\n",
    "\n",
    "warnings.filterwarnings(\"ignore\", category=DeprecationWarning)\n",
    "\n",
    "warnings.simplefilter(\"ignore\", category=NumbaDeprecationWarning)"
   ]
  },
  {
   "cell_type": "code",
   "execution_count": null,
   "metadata": {},
   "outputs": [],
   "source": [
    "import scanpy as sc\n",
    "import pandas as pd\n",
    "import numpy as np\n",
    "import os\n",
    "from scipy.sparse import csr_matrix\n",
    "import seaborn as sns\n",
    "import matplotlib.pyplot as plt\n",
    "import celltypist\n",
    "from celltypist import models\n",
    "import scarches as sca\n",
    "import urllib.request"
   ]
  },
  {
   "cell_type": "code",
   "execution_count": null,
   "metadata": {},
   "outputs": [],
   "source": [
    "warnings.filterwarnings(\"ignore\", category=pd.errors.PerformanceWarning)"
   ]
  },
  {
   "cell_type": "code",
   "execution_count": null,
   "metadata": {},
   "outputs": [],
   "source": [
    "sc.set_figure_params(figsize=(5, 5))"
   ]
  },
  {
   "cell_type": "code",
   "execution_count": null,
   "metadata": {},
   "outputs": [],
   "source": [
    "adata = sc.read(\n",
    "    filename=\"data/s4d8_clustered.h5ad\",\n",
    "    backup_url=\"https://figshare.com/ndownloader/files/41436666\",\n",
    ")"
   ]
  },
  {
   "cell_type": "code",
   "execution_count": null,
   "metadata": {},
   "outputs": [],
   "source": [
    "marker_genes = {\n",
    "    \"CD14+ Mono\": [\"FCN1\", \"CD14\"],\n",
    "    \"CD16+ Mono\": [\"TCF7L2\", \"FCGR3A\", \"LYN\"],\n",
    "    \"ID2-hi myeloid prog\": [\n",
    "        \"CD14\",\n",
    "        \"ID2\",\n",
    "        \"VCAN\",\n",
    "        \"S100A9\",\n",
    "        \"CLEC12A\",\n",
    "        \"KLF4\",\n",
    "        \"PLAUR\",\n",
    "    ],\n",
    "    \"cDC1\": [\"CLEC9A\", \"CADM1\"],\n",
    "    \"cDC2\": [\n",
    "        \"CST3\",\n",
    "        \"COTL1\",\n",
    "        \"LYZ\",\n",
    "        \"DMXL2\",\n",
    "        \"CLEC10A\",\n",
    "        \"FCER1A\",\n",
    "    ],  # Note: DMXL2 should be negative\n",
    "    \"Normoblast\": [\"SLC4A1\", \"SLC25A37\", \"HBB\", \"HBA2\", \"HBA1\", \"TFRC\"],\n",
    "    \"Erythroblast\": [\"MKI67\", \"HBA1\", \"HBB\"],\n",
    "    \"Proerythroblast\": [\n",
    "        \"CDK6\",\n",
    "        \"SYNGR1\",\n",
    "        \"HBM\",\n",
    "        \"GYPA\",\n",
    "    ],  # Note HBM and GYPA are negative markers\n",
    "    \"NK\": [\"GNLY\", \"NKG7\", \"CD247\", \"GRIK4\", \"FCER1G\", \"TYROBP\", \"KLRG1\", \"FCGR3A\"],\n",
    "    \"ILC\": [\"ID2\", \"PLCG2\", \"GNLY\", \"SYNE1\"],\n",
    "    \"Lymph prog\": [\n",
    "        \"VPREB1\",\n",
    "        \"MME\",\n",
    "        \"EBF1\",\n",
    "        \"SSBP2\",\n",
    "        \"BACH2\",\n",
    "        \"CD79B\",\n",
    "        \"IGHM\",\n",
    "        \"PAX5\",\n",
    "        \"PRKCE\",\n",
    "        \"DNTT\",\n",
    "        \"IGLL1\",\n",
    "    ],\n",
    "    \"Naive CD20+ B\": [\"MS4A1\", \"IL4R\", \"IGHD\", \"FCRL1\", \"IGHM\"],\n",
    "    \"B1 B\": [\n",
    "        \"MS4A1\",\n",
    "        \"SSPN\",\n",
    "        \"ITGB1\",\n",
    "        \"EPHA4\",\n",
    "        \"COL4A4\",\n",
    "        \"PRDM1\",\n",
    "        \"IRF4\",\n",
    "        \"CD38\",\n",
    "        \"XBP1\",\n",
    "        \"PAX5\",\n",
    "        \"BCL11A\",\n",
    "        \"BLK\",\n",
    "        \"IGHD\",\n",
    "        \"IGHM\",\n",
    "        \"ZNF215\",\n",
    "    ],  # Note IGHD and IGHM are negative markers\n",
    "    \"Transitional B\": [\"MME\", \"CD38\", \"CD24\", \"ACSM3\", \"MSI2\"],\n",
    "    \"Plasma cells\": [\"MZB1\", \"HSP90B1\", \"FNDC3B\", \"PRDM1\", \"IGKC\", \"JCHAIN\"],\n",
    "    \"Plasmablast\": [\"XBP1\", \"RF4\", \"PRDM1\", \"PAX5\"],  # Note PAX5 is a negative marker\n",
    "    \"CD4+ T activated\": [\"CD4\", \"IL7R\", \"TRBC2\", \"ITGB1\"],\n",
    "    \"CD4+ T naive\": [\"CD4\", \"IL7R\", \"TRBC2\", \"CCR7\"],\n",
    "    \"CD8+ T\": [\"CD8A\", \"CD8B\", \"GZMK\", \"GZMA\", \"CCL5\", \"GZMB\", \"GZMH\", \"GZMA\"],\n",
    "    \"T activation\": [\"CD69\", \"CD38\"],  # CD69 much better marker!\n",
    "    \"T naive\": [\"LEF1\", \"CCR7\", \"TCF7\"],\n",
    "    \"pDC\": [\"GZMB\", \"IL3RA\", \"COBLL1\", \"TCF4\"],\n",
    "    \"G/M prog\": [\"MPO\", \"BCL2\", \"KCNQ5\", \"CSF3R\"],\n",
    "    \"HSC\": [\"NRIP1\", \"MECOM\", \"PROM1\", \"NKAIN2\", \"CD34\"],\n",
    "    \"MK/E prog\": [\n",
    "        \"ZNF385D\",\n",
    "        \"ITGA2B\",\n",
    "        \"RYR3\",\n",
    "        \"PLCB1\",\n",
    "    ],  # Note PLCB1 is a negative marker\n",
    "}"
   ]
  },
  {
   "cell_type": "code",
   "execution_count": null,
   "metadata": {},
   "outputs": [],
   "source": [
    "marker_genes_in_data = dict()\n",
    "for ct, markers in marker_genes.items():\n",
    "    markers_found = list()\n",
    "    for marker in markers:\n",
    "        if marker in adata.var.index:\n",
    "            markers_found.append(marker)\n",
    "    marker_genes_in_data[ct] = markers_found"
   ]
  },
  {
   "cell_type": "code",
   "execution_count": null,
   "metadata": {},
   "outputs": [],
   "source": [
    "adata.layers[\"counts\"] = adata.X\n",
    "adata.X = adata.layers[\"scran_normalization\"]"
   ]
  },
  {
   "cell_type": "code",
   "execution_count": null,
   "metadata": {},
   "outputs": [],
   "source": [
    "adata.var[\"highly_variable\"] = adata.var[\"highly_deviant\"]"
   ]
  },
  {
   "cell_type": "code",
   "execution_count": null,
   "metadata": {},
   "outputs": [],
   "source": [
    "sc.tl.pca(adata, n_comps=50, use_highly_variable=True)"
   ]
  },
  {
   "cell_type": "code",
   "execution_count": null,
   "metadata": {},
   "outputs": [],
   "source": [
    "sc.pp.neighbors(adata)"
   ]
  },
  {
   "cell_type": "code",
   "execution_count": null,
   "metadata": {},
   "outputs": [],
   "source": [
    "sc.tl.umap(adata)"
   ]
  },
  {
   "cell_type": "code",
   "execution_count": null,
   "metadata": {},
   "outputs": [],
   "source": [
    "B_plasma_cts = [\n",
    "    \"Naive CD20+ B\",\n",
    "    \"B1 B\",\n",
    "    \"Transitional B\",\n",
    "    \"Plasma cells\",\n",
    "    \"Plasmablast\",\n",
    "]"
   ]
  },
  {
   "cell_type": "code",
   "execution_count": null,
   "metadata": {},
   "outputs": [],
   "source": [
    "for ct in B_plasma_cts:\n",
    "    print(f\"{ct.upper()}:\")  # print cell subtype name\n",
    "    sc.pl.umap(\n",
    "        adata,\n",
    "        color=marker_genes_in_data[ct],\n",
    "        vmin=0,\n",
    "        vmax=\"p99\",  # set vmax to the 99th percentile of the gene count instead of the maximum, to prevent outliers from making expression in other cells invisible. Note that this can cause problems for extremely lowly expressed genes.\n",
    "        sort_order=False,  # do not plot highest expression on top, to not get a biased view of the mean expression among cells\n",
    "        frameon=False,\n",
    "        cmap=\"Reds\",  # or choose another color map e.g. from here: https://matplotlib.org/stable/tutorials/colors/colormaps.html\n",
    "    )\n",
    "    print(\"\\n\\n\\n\")  # print white space for legibility"
   ]
  },
  {
   "cell_type": "code",
   "execution_count": null,
   "metadata": {},
   "outputs": [],
   "source": [
    "sc.tl.leiden(adata, resolution=1, key_added=\"leiden_1\")"
   ]
  },
  {
   "cell_type": "code",
   "execution_count": null,
   "metadata": {},
   "outputs": [],
   "source": [
    "sc.pl.umap(adata, color=\"leiden_1\")"
   ]
  },
  {
   "cell_type": "code",
   "execution_count": null,
   "metadata": {},
   "outputs": [],
   "source": [
    "sc.tl.leiden(adata, resolution=2, key_added=\"leiden_2\")"
   ]
  },
  {
   "cell_type": "code",
   "execution_count": null,
   "metadata": {},
   "outputs": [],
   "source": [
    "sc.pl.umap(adata, color=\"leiden_2\")"
   ]
  },
  {
   "cell_type": "code",
   "execution_count": null,
   "metadata": {},
   "outputs": [],
   "source": [
    "sc.pl.umap(adata, color=\"leiden_2\", legend_loc=\"on data\")"
   ]
  },
  {
   "cell_type": "code",
   "execution_count": null,
   "metadata": {},
   "outputs": [],
   "source": [
    "B_plasma_markers = {\n",
    "    ct: [m for m in ct_markers if m in adata.var.index]\n",
    "    for ct, ct_markers in marker_genes.items()\n",
    "    if ct in B_plasma_cts\n",
    "}"
   ]
  },
  {
   "cell_type": "code",
   "execution_count": null,
   "metadata": {},
   "outputs": [],
   "source": [
    "B_plasma_markers"
   ]
  },
  {
   "cell_type": "code",
   "execution_count": null,
   "metadata": {},
   "outputs": [],
   "source": [
    "sc.pl.dotplot(\n",
    "    adata,\n",
    "    groupby=\"leiden_2\",\n",
    "    var_names=B_plasma_markers,\n",
    "    standard_scale=\"var\",  # standard scale: normalize each gene to range from 0 to 1\n",
    ")"
   ]
  },
  {
   "cell_type": "code",
   "execution_count": null,
   "metadata": {},
   "outputs": [],
   "source": [
    "cl_annotation = {\n",
    "    \"4\": \"Naive CD20+ B\",\n",
    "    \"6\": \"Naive CD20+ B\",\n",
    "    \"8\": \"Transitional B\",\n",
    "    \"18\": \"B1 B\",  # note that IGHD and IGHM are negative markers, in this case more lowly expressed than in the other B cell clusters\n",
    "}"
   ]
  },
  {
   "cell_type": "code",
   "execution_count": null,
   "metadata": {},
   "outputs": [],
   "source": [
    "adata.obs[\"manual_celltype_annotation\"] = adata.obs.leiden_2.map(cl_annotation)"
   ]
  },
  {
   "cell_type": "code",
   "execution_count": null,
   "metadata": {},
   "outputs": [],
   "source": [
    "sc.pl.umap(adata, color=[\"manual_celltype_annotation\"])"
   ]
  },
  {
   "cell_type": "code",
   "execution_count": null,
   "metadata": {},
   "outputs": [],
   "source": [
    "sc.tl.rank_genes_groups(\n",
    "    adata, groupby=\"leiden_2\", method=\"wilcoxon\", key_added=\"dea_leiden_2\"\n",
    ")"
   ]
  },
  {
   "cell_type": "code",
   "execution_count": null,
   "metadata": {},
   "outputs": [],
   "source": [
    "sc.pl.rank_genes_groups_dotplot(\n",
    "    adata, groupby=\"leiden_2\", standard_scale=\"var\", n_genes=5, key=\"dea_leiden_2\"\n",
    ")"
   ]
  },
  {
   "cell_type": "code",
   "execution_count": null,
   "metadata": {},
   "outputs": [],
   "source": [
    "sc.tl.filter_rank_genes_groups(\n",
    "    adata,\n",
    "    min_in_group_fraction=0.2,\n",
    "    max_out_group_fraction=0.2,\n",
    "    key=\"dea_leiden_2\",\n",
    "    key_added=\"dea_leiden_2_filtered\",\n",
    ")"
   ]
  },
  {
   "cell_type": "code",
   "execution_count": null,
   "metadata": {},
   "outputs": [],
   "source": [
    "sc.pl.rank_genes_groups_dotplot(\n",
    "    adata,\n",
    "    groupby=\"leiden_2\",\n",
    "    standard_scale=\"var\",\n",
    "    n_genes=5,\n",
    "    key=\"dea_leiden_2_filtered\",\n",
    ")"
   ]
  },
  {
   "cell_type": "code",
   "execution_count": null,
   "metadata": {},
   "outputs": [],
   "source": [
    "sc.pl.umap(\n",
    "    adata,\n",
    "    color=[\"CDK6\", \"ETV6\", \"NKAIN2\", \"GNAQ\", \"leiden_2\"],\n",
    "    vmax=\"p99\",\n",
    "    legend_loc=\"on data\",\n",
    "    frameon=False,\n",
    "    cmap=\"Reds\",\n",
    ")"
   ]
  },
  {
   "cell_type": "code",
   "execution_count": null,
   "metadata": {},
   "outputs": [],
   "source": [
    "sc.pl.umap(\n",
    "    adata,\n",
    "    color=[\n",
    "        \"ZNF385D\",\n",
    "        \"ITGA2B\",\n",
    "        \"RYR3\",\n",
    "        \"PLCB1\",\n",
    "    ],\n",
    "    vmax=\"p99\",\n",
    "    legend_loc=\"on data\",\n",
    "    frameon=False,\n",
    "    cmap=\"Reds\",\n",
    ")"
   ]
  },
  {
   "cell_type": "code",
   "execution_count": null,
   "metadata": {},
   "outputs": [],
   "source": [
    "cl_annotation[\"12\"] = \"HSCs + MK/E prog (?)\""
   ]
  },
  {
   "cell_type": "code",
   "execution_count": null,
   "metadata": {},
   "outputs": [],
   "source": [
    "adata.obs[\"manual_celltype_annotation\"] = adata.obs.leiden_2.map(cl_annotation)"
   ]
  },
  {
   "cell_type": "code",
   "execution_count": null,
   "metadata": {},
   "outputs": [],
   "source": [
    "adata_celltypist = adata.copy()  # make a copy of our adata\n",
    "adata_celltypist.X = adata.layers[\"counts\"]  # set adata.X to raw counts\n",
    "sc.pp.normalize_per_cell(\n",
    "    adata_celltypist, counts_per_cell_after=10**4\n",
    ")  # normalize to 10,000 counts per cell\n",
    "sc.pp.log1p(adata_celltypist)  # log-transform\n",
    "# make .X dense instead of sparse, for compatibility with celltypist:\n",
    "adata_celltypist.X = adata_celltypist.X.toarray()"
   ]
  },
  {
   "cell_type": "code",
   "execution_count": null,
   "metadata": {},
   "outputs": [],
   "source": [
    "models.download_models(\n",
    "    force_update=True, model=[\"Immune_All_Low.pkl\", \"Immune_All_High.pkl\"]\n",
    ")"
   ]
  },
  {
   "cell_type": "code",
   "execution_count": null,
   "metadata": {},
   "outputs": [],
   "source": [
    "model_low = models.Model.load(model=\"Immune_All_Low.pkl\")\n",
    "model_high = models.Model.load(model=\"Immune_All_High.pkl\")"
   ]
  },
  {
   "cell_type": "code",
   "execution_count": null,
   "metadata": {},
   "outputs": [],
   "source": [
    "model_high.cell_types"
   ]
  },
  {
   "cell_type": "code",
   "execution_count": null,
   "metadata": {},
   "outputs": [],
   "source": [
    "model_low.cell_types"
   ]
  },
  {
   "cell_type": "code",
   "execution_count": null,
   "metadata": {},
   "outputs": [],
   "source": [
    "predictions_high = celltypist.annotate(\n",
    "    adata_celltypist, model=model_high, majority_voting=True\n",
    ")"
   ]
  },
  {
   "cell_type": "code",
   "execution_count": null,
   "metadata": {},
   "outputs": [],
   "source": []
  },
  {
   "cell_type": "code",
   "execution_count": null,
   "metadata": {},
   "outputs": [],
   "source": [
    "predictions_high_adata = predictions_high.to_adata()"
   ]
  },
  {
   "cell_type": "code",
   "execution_count": null,
   "metadata": {},
   "outputs": [],
   "source": [
    "adata.obs[\"celltypist_cell_label_coarse\"] = predictions_high_adata.obs.loc[\n",
    "    adata.obs.index, \"majority_voting\"\n",
    "]\n",
    "adata.obs[\"celltypist_conf_score_coarse\"] = predictions_high_adata.obs.loc[\n",
    "    adata.obs.index, \"conf_score\"\n",
    "]"
   ]
  },
  {
   "cell_type": "code",
   "execution_count": null,
   "metadata": {},
   "outputs": [],
   "source": [
    "predictions_low = celltypist.annotate(\n",
    "    adata_celltypist, model=model_low, majority_voting=True\n",
    ")"
   ]
  },
  {
   "cell_type": "code",
   "execution_count": null,
   "metadata": {},
   "outputs": [],
   "source": [
    "predictions_low_adata = predictions_low.to_adata()"
   ]
  },
  {
   "cell_type": "code",
   "execution_count": null,
   "metadata": {},
   "outputs": [],
   "source": [
    "adata.obs[\"celltypist_cell_label_fine\"] = predictions_low_adata.obs.loc[\n",
    "    adata.obs.index, \"majority_voting\"\n",
    "]\n",
    "adata.obs[\"celltypist_conf_score_fine\"] = predictions_low_adata.obs.loc[\n",
    "    adata.obs.index, \"conf_score\"\n",
    "]"
   ]
  },
  {
   "cell_type": "code",
   "execution_count": null,
   "metadata": {},
   "outputs": [],
   "source": [
    "sc.pl.umap(\n",
    "    adata,\n",
    "    color=[\"celltypist_cell_label_coarse\", \"celltypist_conf_score_coarse\"],\n",
    "    frameon=False,\n",
    "    sort_order=False,\n",
    "    wspace=1,\n",
    ")"
   ]
  },
  {
   "cell_type": "code",
   "execution_count": null,
   "metadata": {},
   "outputs": [],
   "source": [
    "sc.pl.umap(\n",
    "    adata,\n",
    "    color=[\"celltypist_cell_label_fine\", \"celltypist_conf_score_fine\"],\n",
    "    frameon=False,\n",
    "    sort_order=False,\n",
    "    wspace=1,\n",
    ")"
   ]
  },
  {
   "cell_type": "code",
   "execution_count": null,
   "metadata": {},
   "outputs": [],
   "source": [
    "sc.pl.dendrogram(adata, groupby=\"celltypist_cell_label_fine\")"
   ]
  },
  {
   "cell_type": "code",
   "execution_count": null,
   "metadata": {},
   "outputs": [],
   "source": [
    "sc.pl.umap(\n",
    "    adata,\n",
    "    color=[\"manual_celltype_annotation\"],\n",
    "    frameon=False,\n",
    ")"
   ]
  },
  {
   "cell_type": "code",
   "execution_count": null,
   "metadata": {},
   "outputs": [],
   "source": [
    "pd.crosstab(adata.obs.leiden_2, adata.obs.celltypist_cell_label_fine).loc[\n",
    "    \"13\", :\n",
    "].sort_values(ascending=False)"
   ]
  },
  {
   "cell_type": "code",
   "execution_count": null,
   "metadata": {},
   "outputs": [],
   "source": [
    "pd.crosstab(adata.obs.leiden_2, adata.obs.celltypist_cell_label_coarse).loc[\n",
    "    \"13\", :\n",
    "].sort_values(ascending=False)"
   ]
  },
  {
   "cell_type": "code",
   "execution_count": null,
   "metadata": {},
   "outputs": [],
   "source": [
    "sc.pl.umap(adata, color=\"HBB\", cmap=\"Reds\", frameon=False, sort_order=False)"
   ]
  },
  {
   "cell_type": "code",
   "execution_count": null,
   "metadata": {},
   "outputs": [],
   "source": [
    "adata_to_map = adata.copy()\n",
    "for layer in list(adata_to_map.layers.keys()):\n",
    "    if layer != \"counts\":\n",
    "        del adata_to_map.layers[layer]\n",
    "adata_to_map.X = adata_to_map.layers[\"counts\"]"
   ]
  },
  {
   "cell_type": "code",
   "execution_count": null,
   "metadata": {},
   "outputs": [],
   "source": [
    "reference_model_features = pd.read_csv(\n",
    "    \"https://figshare.com/ndownloader/files/41436645\", index_col=0\n",
    ")"
   ]
  },
  {
   "cell_type": "code",
   "execution_count": null,
   "metadata": {},
   "outputs": [],
   "source": [
    "adata_to_map.var[\"gene_names\"] = adata_to_map.var.index\n",
    "adata_to_map.var.set_index(\"gene_ids\", inplace=True)"
   ]
  },
  {
   "cell_type": "code",
   "execution_count": null,
   "metadata": {},
   "outputs": [],
   "source": [
    "reference_model_features[\"gene_names\"] = reference_model_features.index\n",
    "reference_model_features.set_index(\"gene_ids\", inplace=True)"
   ]
  },
  {
   "cell_type": "code",
   "execution_count": null,
   "metadata": {},
   "outputs": [],
   "source": [
    "print(\"Total number of genes needed for mapping:\", reference_model_features.shape[0])"
   ]
  },
  {
   "cell_type": "code",
   "execution_count": null,
   "metadata": {},
   "outputs": [],
   "source": [
    "print(\n",
    "    \"Number of genes found in query dataset:\",\n",
    "    adata_to_map.var.index.isin(reference_model_features.index).sum(),\n",
    ")"
   ]
  },
  {
   "cell_type": "code",
   "execution_count": null,
   "metadata": {},
   "outputs": [],
   "source": [
    "missing_genes = [\n",
    "    gene_id\n",
    "    for gene_id in reference_model_features.index\n",
    "    if gene_id not in adata_to_map.var.index\n",
    "]"
   ]
  },
  {
   "cell_type": "code",
   "execution_count": null,
   "metadata": {},
   "outputs": [],
   "source": [
    "missing_gene_adata = sc.AnnData(\n",
    "    X=csr_matrix(np.zeros(shape=(adata.n_obs, len(missing_genes))), dtype=\"float32\"),\n",
    "    obs=adata.obs.iloc[:, :1],\n",
    "    var=reference_model_features.loc[missing_genes, :],\n",
    ")\n",
    "missing_gene_adata.layers[\"counts\"] = missing_gene_adata.X # type:ignore"
   ]
  },
  {
   "cell_type": "code",
   "execution_count": null,
   "metadata": {},
   "outputs": [],
   "source": [
    "if \"PCs\" in adata_to_map.varm.keys():\n",
    "    del adata_to_map.varm[\"PCs\"]"
   ]
  },
  {
   "cell_type": "code",
   "execution_count": null,
   "metadata": {},
   "outputs": [],
   "source": [
    "adata_to_map_augmented = sc.concat(\n",
    "    [adata_to_map, missing_gene_adata],\n",
    "    axis=1,\n",
    "    join=\"outer\",\n",
    "    index_unique=None,\n",
    "    merge=\"unique\",\n",
    ")"
   ]
  },
  {
   "cell_type": "code",
   "execution_count": null,
   "metadata": {},
   "outputs": [],
   "source": [
    "adata_to_map_augmented = adata_to_map_augmented[ # type: ignore\n",
    "    :, reference_model_features.index\n",
    "].copy()"
   ]
  },
  {
   "cell_type": "code",
   "execution_count": null,
   "metadata": {},
   "outputs": [],
   "source": [
    "(adata_to_map_augmented.var.index == reference_model_features.index).all()"
   ]
  },
  {
   "cell_type": "code",
   "execution_count": null,
   "metadata": {},
   "outputs": [],
   "source": [
    "adata_to_map_augmented.var[\"gene_ids\"] = adata_to_map_augmented.var.index\n",
    "adata_to_map_augmented.var.set_index(\"gene_names\", inplace=True)"
   ]
  },
  {
   "cell_type": "code",
   "execution_count": null,
   "metadata": {},
   "outputs": [],
   "source": [
    "adata_to_map_augmented.obs.batch.unique()"
   ]
  },
  {
   "cell_type": "code",
   "execution_count": null,
   "metadata": {},
   "outputs": [],
   "source": [
    "# loading model.pt from figshare\n",
    "if not os.path.exists(\"./reference_model\"):\n",
    "    os.mkdir(\"./reference_model\")\n",
    "elif not os.path.exists(\"./reference_model/model.pt\"):\n",
    "    urllib.request.urlretrieve(\n",
    "        \"https://figshare.com/ndownloader/files/41436648\",\n",
    "        filename=\"reference_model/model.pt\",\n",
    "    )"
   ]
  },
  {
   "cell_type": "code",
   "execution_count": null,
   "metadata": {},
   "outputs": [],
   "source": [
    "scarches_model = sca.models.SCVI.load_query_data(\n",
    "    adata=adata_to_map_augmented,\n",
    "    reference_model=\"./reference_model\",\n",
    "    freeze_dropout=True,\n",
    ")"
   ]
  },
  {
   "cell_type": "code",
   "execution_count": null,
   "metadata": {},
   "outputs": [],
   "source": [
    "import torch\n",
    "torch.set_float32_matmul_precision('medium' or 'high')"
   ]
  },
  {
   "cell_type": "code",
   "execution_count": null,
   "metadata": {},
   "outputs": [],
   "source": [
    "scarches_model.train(max_epochs=500, plan_kwargs=dict(weight_decay=0.0))"
   ]
  },
  {
   "cell_type": "code",
   "execution_count": null,
   "metadata": {},
   "outputs": [],
   "source": [
    "adata.obsm[\"X_scVI\"] = scarches_model.get_latent_representation()"
   ]
  },
  {
   "cell_type": "code",
   "execution_count": null,
   "metadata": {},
   "outputs": [],
   "source": [
    "sc.pp.neighbors(adata, use_rep=\"X_scVI\")\n",
    "sc.tl.umap(adata)"
   ]
  },
  {
   "cell_type": "code",
   "execution_count": null,
   "metadata": {},
   "outputs": [],
   "source": [
    "sc.pl.umap(\n",
    "    adata,\n",
    "    color=[\"IGHD\", \"IGHM\", \"PRDM1\"],\n",
    "    vmin=0,\n",
    "    vmax=\"p99\",  # set vmax to the 99th percentile of the gene count instead of the maximum, to prevent outliers from making expression in other cells invisible. Note that this can cause problems for extremely lowly expressed genes.\n",
    "    sort_order=False,  # do not plot highest expression on top, to not get a biased view of the mean expression among cells\n",
    "    frameon=False,\n",
    "    cmap=\"Reds\",  # or choose another color map e.g. from here: https://matplotlib.org/stable/tutorials/colors/colormaps.html\n",
    ")"
   ]
  },
  {
   "cell_type": "code",
   "execution_count": null,
   "metadata": {},
   "outputs": [],
   "source": [
    "ref_emb = sc.read(\n",
    "    filename=\"reference_embedding.h5ad\",\n",
    "    backup_url=\"https://figshare.com/ndownloader/files/41376264\",\n",
    ")"
   ]
  },
  {
   "cell_type": "code",
   "execution_count": null,
   "metadata": {},
   "outputs": [],
   "source": [
    "ref_emb.obs[\"reference_or_query\"] = \"reference\""
   ]
  },
  {
   "cell_type": "code",
   "execution_count": null,
   "metadata": {},
   "outputs": [],
   "source": [
    "ref_emb"
   ]
  },
  {
   "cell_type": "code",
   "execution_count": null,
   "metadata": {},
   "outputs": [],
   "source": [
    "adata_emb = sc.AnnData(X=adata.obsm[\"X_scVI\"], obs=adata.obs)"
   ]
  },
  {
   "cell_type": "code",
   "execution_count": null,
   "metadata": {},
   "outputs": [],
   "source": [
    "adata_emb.obs[\"reference_or_query\"] = \"query\""
   ]
  },
  {
   "cell_type": "code",
   "execution_count": null,
   "metadata": {},
   "outputs": [],
   "source": [
    "emb_ref_query = sc.concat(\n",
    "    [ref_emb, adata_emb],\n",
    "    axis=0,\n",
    "    join=\"outer\",\n",
    "    index_unique=None,\n",
    "    merge=\"unique\",\n",
    ")"
   ]
  },
  {
   "cell_type": "code",
   "execution_count": null,
   "metadata": {},
   "outputs": [],
   "source": [
    "sc.pp.neighbors(emb_ref_query)\n",
    "sc.tl.umap(emb_ref_query)"
   ]
  },
  {
   "cell_type": "code",
   "execution_count": null,
   "metadata": {},
   "outputs": [],
   "source": [
    "sc.pl.umap(\n",
    "    emb_ref_query,\n",
    "    color=[\"reference_or_query\"],\n",
    "    sort_order=False,\n",
    "    frameon=False,\n",
    ")"
   ]
  },
  {
   "cell_type": "code",
   "execution_count": null,
   "metadata": {},
   "outputs": [],
   "source": [
    "sc.set_figure_params(figsize=(8, 8))"
   ]
  },
  {
   "cell_type": "code",
   "execution_count": null,
   "metadata": {},
   "outputs": [],
   "source": [
    "sc.pl.umap(\n",
    "    emb_ref_query,\n",
    "    color=[\"cell_type\"],\n",
    "    sort_order=False,\n",
    "    frameon=False,\n",
    "    legend_loc=\"on data\",\n",
    "    legend_fontsize=10,\n",
    "    na_color=\"black\",\n",
    ")"
   ]
  },
  {
   "cell_type": "code",
   "execution_count": null,
   "metadata": {},
   "outputs": [],
   "source": [
    "knn_transformer = sca.utils.knn.weighted_knn_trainer(\n",
    "    train_adata=ref_emb,\n",
    "    train_adata_emb=\"X\",  # location of our joint embedding\n",
    "    n_neighbors=15,\n",
    ")"
   ]
  },
  {
   "cell_type": "code",
   "execution_count": null,
   "metadata": {},
   "outputs": [],
   "source": [
    "labels, uncert = sca.utils.knn.weighted_knn_transfer(\n",
    "    query_adata=adata_emb,\n",
    "    query_adata_emb=\"X\",  # location of our embedding, query_adata.X in this case\n",
    "    label_keys=\"cell_type\",  # (start of) obs column name(s) for which to transfer labels\n",
    "    knn_model=knn_transformer,\n",
    "    ref_adata_obs=ref_emb.obs,\n",
    ")"
   ]
  },
  {
   "cell_type": "code",
   "execution_count": null,
   "metadata": {},
   "outputs": [],
   "source": [
    "adata_emb.obs[\"transf_cell_type\"] = labels.loc[adata_emb.obs.index, \"cell_type\"]\n",
    "adata_emb.obs[\"transf_cell_type_unc\"] = uncert.loc[adata_emb.obs.index, \"cell_type\"]"
   ]
  },
  {
   "cell_type": "code",
   "execution_count": null,
   "metadata": {},
   "outputs": [],
   "source": [
    "adata.obs.loc[adata_emb.obs.index, \"transf_cell_type\"] = adata_emb.obs[\n",
    "    \"transf_cell_type\"\n",
    "]\n",
    "adata.obs.loc[adata_emb.obs.index, \"transf_cell_type_unc\"] = adata_emb.obs[\n",
    "    \"transf_cell_type_unc\"\n",
    "]"
   ]
  },
  {
   "cell_type": "code",
   "execution_count": null,
   "metadata": {},
   "outputs": [],
   "source": [
    "sc.set_figure_params(figsize=(5, 5))"
   ]
  },
  {
   "cell_type": "code",
   "execution_count": null,
   "metadata": {},
   "outputs": [],
   "source": [
    "sc.pl.umap(adata, color=\"transf_cell_type\", frameon=False)"
   ]
  },
  {
   "cell_type": "code",
   "execution_count": null,
   "metadata": {},
   "outputs": [],
   "source": [
    "sc.pl.umap(adata, color=\"transf_cell_type_unc\", frameon=False)"
   ]
  },
  {
   "cell_type": "code",
   "execution_count": null,
   "metadata": {},
   "outputs": [],
   "source": [
    "fig, ax = plt.subplots(figsize=(8, 3))\n",
    "ct_order = (\n",
    "    adata.obs.groupby(\"transf_cell_type\")\n",
    "    .agg({\"transf_cell_type_unc\": \"median\"})\n",
    "    .sort_values(by=\"transf_cell_type_unc\", ascending=False)\n",
    ")\n",
    "sns.boxplot(\n",
    "    adata.obs,\n",
    "    x=\"transf_cell_type\",\n",
    "    y=\"transf_cell_type_unc\",\n",
    "    color=\"grey\",\n",
    "    ax=ax,\n",
    "    order=ct_order.index,\n",
    ")\n",
    "ax.tick_params(rotation=90, axis=\"x\")"
   ]
  },
  {
   "cell_type": "code",
   "execution_count": null,
   "metadata": {},
   "outputs": [],
   "source": [
    "adata.obs[\"transf_cell_type_certain\"] = adata.obs.transf_cell_type.tolist()\n",
    "adata.obs.loc[\n",
    "    adata.obs.transf_cell_type_unc > 0.2, \"transf_cell_type_certain\"\n",
    "] = \"Unknown\""
   ]
  },
  {
   "cell_type": "code",
   "execution_count": null,
   "metadata": {},
   "outputs": [],
   "source": [
    "sc.pl.umap(adata, color=\"transf_cell_type_certain\", frameon=False)"
   ]
  },
  {
   "cell_type": "code",
   "execution_count": null,
   "metadata": {},
   "outputs": [],
   "source": [
    "sc.pl.umap(adata, color=\"transf_cell_type_certain\", groups=\"Unknown\")"
   ]
  },
  {
   "cell_type": "code",
   "execution_count": null,
   "metadata": {},
   "outputs": [],
   "source": [
    "cell_types_to_check = [\n",
    "    \"CD14+ Mono\",\n",
    "    \"cDC2\",\n",
    "    \"NK\",\n",
    "    \"B1 B\",\n",
    "    \"CD4+ T activated\",\n",
    "    \"T naive\",\n",
    "    \"MK/E prog\",\n",
    "]"
   ]
  },
  {
   "cell_type": "code",
   "execution_count": null,
   "metadata": {},
   "outputs": [],
   "source": [
    "sc.pl.dotplot(\n",
    "    adata,\n",
    "    var_names={\n",
    "        ct: marker_genes_in_data[ct] for ct in cell_types_to_check\n",
    "    },  # gene names grouped by cell type in a dictionary\n",
    "    groupby=\"transf_cell_type_certain\",\n",
    "    standard_scale=\"var\",  # normalize gene scores from 0 to 1\n",
    ")"
   ]
  },
  {
   "cell_type": "code",
   "execution_count": null,
   "metadata": {},
   "outputs": [],
   "source": [
    "sc.pl.umap(\n",
    "    adata, color=[\"transf_cell_type_unc\", \"transf_cell_type_certain\"], frameon=False\n",
    ")"
   ]
  },
  {
   "cell_type": "code",
   "execution_count": null,
   "metadata": {},
   "outputs": [],
   "source": [
    "del adata.obs[\"transf_cell_type_unc\"]\n",
    "adata.write(\"./data/annotation_adata_out.h5ad\")"
   ]
  },
  {
   "cell_type": "code",
   "execution_count": null,
   "metadata": {},
   "outputs": [],
   "source": []
  }
 ],
 "metadata": {
  "kernelspec": {
   "display_name": "Python 3 (ipykernel)",
   "language": "python",
   "name": "python3"
  },
  "language_info": {
   "codemirror_mode": {
    "name": "ipython",
    "version": 3
   },
   "file_extension": ".py",
   "mimetype": "text/x-python",
   "name": "python",
   "nbconvert_exporter": "python",
   "pygments_lexer": "ipython3",
   "version": "3.9.19"
  }
 },
 "nbformat": 4,
 "nbformat_minor": 4
}
