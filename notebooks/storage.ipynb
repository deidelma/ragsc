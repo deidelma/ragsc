{
 "cells": [
  {
   "cell_type": "markdown",
   "metadata": {},
   "source": [
    "# storage\n",
    "\n",
    "project to explore using Chromadb databases\n",
    "\n",
    "based on RealPython tutorial"
   ]
  },
  {
   "cell_type": "code",
   "execution_count": null,
   "metadata": {},
   "outputs": [],
   "source": [
    "import chromadb\n",
    "from chromadb.utils import embedding_functions\n",
    "from ragsc.markdown import MarkdownDirectory\n",
    "from loguru import logger\n",
    "import sys\n",
    "import dotenv\n",
    "\n",
    "dotenv.load_dotenv()"
   ]
  },
  {
   "cell_type": "code",
   "execution_count": null,
   "metadata": {},
   "outputs": [],
   "source": [
    "CHROMA_DATA_PATH=\"chroma_data/\"\n",
    "EMBED_MODE = \"all-MiniLM-L6-v2\"\n",
    "COLLECTION_NAME = \"ragsc\""
   ]
  },
  {
   "cell_type": "code",
   "execution_count": null,
   "metadata": {},
   "outputs": [],
   "source": [
    "# client = chromadb.PersistentClient(path=CHROMA_DATA_PATH)\n",
    "#\n",
    "# use transient client for now\n",
    "#\n",
    "client = chromadb.Client()"
   ]
  },
  {
   "cell_type": "code",
   "execution_count": null,
   "metadata": {},
   "outputs": [],
   "source": [
    "import os\n",
    "# embedding_func = embedding_functions.SentenceTransformerEmbeddingFunction(model_name=EMBED_MODE)\n",
    "# embedding_func = embedding_functions.OpenAIEmbeddingFunction(model_name=\"text-embedding-3-large\", api_key=os.environ[\"OPENAI_API_KEY\"])\n",
    "embedding_func = embedding_functions.OpenAIEmbeddingFunction(model_name=\"text-embedding-ada-002\", api_key=os.environ[\"OPENAI_API_KEY\"])"
   ]
  },
  {
   "cell_type": "code",
   "execution_count": null,
   "metadata": {},
   "outputs": [],
   "source": [
    "logger.remove()\n",
    "logger.add(sys.stderr, level=\"INFO\")\n",
    "\n",
    "try:\n",
    "    collection = client.get_collection(COLLECTION_NAME)\n",
    "    client.delete_collection(collection.name)\n",
    "except ValueError:\n",
    "    logger.info(\"No collection named {COLLECTION_NAME}\")\n",
    "\n",
    "collection = client.get_or_create_collection(\n",
    "    name=COLLECTION_NAME,\n",
    "    embedding_function=embedding_func, # type: ignore\n",
    "    metadata={\"hnsw:space\":\"cosine\"}\n",
    ")"
   ]
  },
  {
   "cell_type": "code",
   "execution_count": null,
   "metadata": {},
   "outputs": [],
   "source": [
    "from pathlib import Path \n",
    "folder = MarkdownDirectory(Path(\"data\"), max_pages =500)\n",
    "folder.store_in_chroma(collection=collection)"
   ]
  },
  {
   "cell_type": "code",
   "execution_count": null,
   "metadata": {},
   "outputs": [],
   "source": [
    "query_results = collection.query(\n",
    "    query_texts=[\"what is the status of the expansion of Gatineau \",\n",
    "                 \"how many students will there be in next year's class\"],\n",
    "    \n",
    "    include=[\"documents\",\"metadatas\"],\n",
    "    where_document={\"$not_contains\": \"gagnon\"},\n",
    "    # # where_document={\"$or\": [  # type: ignore\n",
    "    # #         {\n",
    "    # #             \"keywords\":{\"$contains\": \"ugme\"}\n",
    "    # #         },\n",
    "    # #         {\n",
    "    # #         \"present\":{\"$contains\":\"mondou\"}\n",
    "    # #         }\n",
    "    # #     ]      \n",
    "    # # },\n",
    "    n_results=10,\n",
    ")"
   ]
  },
  {
   "cell_type": "code",
   "execution_count": null,
   "metadata": {},
   "outputs": [],
   "source": [
    "query_results[\"documents\"]"
   ]
  },
  {
   "cell_type": "code",
   "execution_count": null,
   "metadata": {},
   "outputs": [],
   "source": [
    "metadata = query_results['metadatas'] # type: ignore\n",
    "if metadata is not None:\n",
    "    for data in metadata: \n",
    "        print([x[\"filename\"] for x in data])"
   ]
  },
  {
   "cell_type": "code",
   "execution_count": null,
   "metadata": {},
   "outputs": [],
   "source": []
  }
 ],
 "metadata": {
  "kernelspec": {
   "display_name": "ragsc-rGBOy1v8-py3.12",
   "language": "python",
   "name": "python3"
  },
  "language_info": {
   "codemirror_mode": {
    "name": "ipython",
    "version": 3
   },
   "file_extension": ".py",
   "mimetype": "text/x-python",
   "name": "python",
   "nbconvert_exporter": "python",
   "pygments_lexer": "ipython3",
   "version": "3.12.3"
  }
 },
 "nbformat": 4,
 "nbformat_minor": 2
}
