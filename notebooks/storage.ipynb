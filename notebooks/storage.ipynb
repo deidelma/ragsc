{
 "cells": [
  {
   "cell_type": "markdown",
   "metadata": {},
   "source": [
    "# storage\n",
    "\n",
    "project to explore using Chromadb databases\n",
    "\n",
    "based on RealPython tutorial"
   ]
  },
  {
   "cell_type": "code",
   "execution_count": 1,
   "metadata": {},
   "outputs": [
    {
     "data": {
      "text/plain": [
       "True"
      ]
     },
     "execution_count": 1,
     "metadata": {},
     "output_type": "execute_result"
    }
   ],
   "source": [
    "import chromadb\n",
    "from chromadb.utils import embedding_functions\n",
    "from ragsc.markdown import MarkdownDirectory\n",
    "from loguru import logger\n",
    "import sys\n",
    "import dotenv\n",
    "\n",
    "dotenv.load_dotenv()"
   ]
  },
  {
   "cell_type": "code",
   "execution_count": 2,
   "metadata": {},
   "outputs": [],
   "source": [
    "CHROMA_DATA_PATH=\"chroma_data/\"\n",
    "EMBED_MODE = \"all-MiniLM-L6-v2\"\n",
    "COLLECTION_NAME = \"ragsc\""
   ]
  },
  {
   "cell_type": "code",
   "execution_count": 3,
   "metadata": {},
   "outputs": [],
   "source": [
    "# client = chromadb.PersistentClient(path=CHROMA_DATA_PATH)\n",
    "#\n",
    "# use transient client for now\n",
    "#\n",
    "client = chromadb.Client()"
   ]
  },
  {
   "cell_type": "code",
   "execution_count": 5,
   "metadata": {},
   "outputs": [],
   "source": [
    "import os\n",
    "# embedding_func = embedding_functions.SentenceTransformerEmbeddingFunction(model_name=EMBED_MODE)\n",
    "# embedding_func = embedding_functions.OpenAIEmbeddingFunction(model_name=\"text-embedding-3-large\", api_key=os.environ[\"OPENAI_API_KEY\"])\n",
    "embedding_func = embedding_functions.OpenAIEmbeddingFunction(model_name=\"text-embedding-ada-002\", api_key=os.environ[\"OPENAI_API_KEY\"])"
   ]
  },
  {
   "cell_type": "code",
   "execution_count": 13,
   "metadata": {},
   "outputs": [],
   "source": [
    "logger.remove()\n",
    "logger.add(sys.stderr, level=\"INFO\")\n",
    "\n",
    "try:\n",
    "    collection = client.get_collection(COLLECTION_NAME)\n",
    "    client.delete_collection(collection.name)\n",
    "except ValueError:\n",
    "    logger.info(\"No collection named {COLLECTION_NAME}\")\n",
    "\n",
    "collection = client.get_or_create_collection(\n",
    "    name=COLLECTION_NAME,\n",
    "    embedding_function=embedding_func, # type: ignore\n",
    "    metadata={\"hnsw:space\":\"cosine\"}\n",
    ")"
   ]
  },
  {
   "cell_type": "code",
   "execution_count": 14,
   "metadata": {},
   "outputs": [
    {
     "name": "stderr",
     "output_type": "stream",
     "text": [
      "\u001b[32m2024-05-05 15:14:21.958\u001b[0m | \u001b[1mINFO    \u001b[0m | \u001b[36mragsc.markdown\u001b[0m:\u001b[36m__init__\u001b[0m:\u001b[36m171\u001b[0m - \u001b[1mRead 500 Markdown pages\u001b[0m\n",
      "100%|██████████| 150/150 [00:39<00:00,  3.76it/s]\n",
      "\u001b[32m2024-05-05 15:15:01.842\u001b[0m | \u001b[1mINFO    \u001b[0m | \u001b[36mragsc.markdown\u001b[0m:\u001b[36mstore_list_of_pages\u001b[0m:\u001b[36m227\u001b[0m - \u001b[1mProcessed 703 chunks out of 703 chunks\u001b[0m\n",
      "100%|██████████| 150/150 [00:37<00:00,  3.96it/s]\n",
      "\u001b[32m2024-05-05 15:15:39.682\u001b[0m | \u001b[1mINFO    \u001b[0m | \u001b[36mragsc.markdown\u001b[0m:\u001b[36mstore_list_of_pages\u001b[0m:\u001b[36m227\u001b[0m - \u001b[1mProcessed 817 chunks out of 817 chunks\u001b[0m\n",
      "100%|██████████| 150/150 [00:36<00:00,  4.09it/s]\n",
      "\u001b[32m2024-05-05 15:16:16.391\u001b[0m | \u001b[1mINFO    \u001b[0m | \u001b[36mragsc.markdown\u001b[0m:\u001b[36mstore_list_of_pages\u001b[0m:\u001b[36m227\u001b[0m - \u001b[1mProcessed 744 chunks out of 744 chunks\u001b[0m\n",
      "100%|██████████| 50/50 [00:11<00:00,  4.45it/s]\n",
      "\u001b[32m2024-05-05 15:16:27.643\u001b[0m | \u001b[1mINFO    \u001b[0m | \u001b[36mragsc.markdown\u001b[0m:\u001b[36mstore_list_of_pages\u001b[0m:\u001b[36m227\u001b[0m - \u001b[1mProcessed 251 chunks out of 251 chunks\u001b[0m\n",
      "\u001b[32m2024-05-05 15:16:27.643\u001b[0m | \u001b[1mINFO    \u001b[0m | \u001b[36mragsc.markdown\u001b[0m:\u001b[36mstore_in_chroma\u001b[0m:\u001b[36m235\u001b[0m - \u001b[1mStored 500 pages in collection [ragsc]\u001b[0m\n"
     ]
    }
   ],
   "source": [
    "from pathlib import Path \n",
    "folder = MarkdownDirectory(Path(\"data\"), max_pages =500)\n",
    "folder.store_in_chroma(collection=collection)"
   ]
  },
  {
   "cell_type": "code",
   "execution_count": 36,
   "metadata": {},
   "outputs": [],
   "source": [
    "query_results = collection.query(\n",
    "    query_texts=[\"what is the status of the expansion of Gatineau \",\n",
    "                 \"how many students will there be in next year's class\"],\n",
    "    \n",
    "    include=[\"documents\",\"metadatas\"],\n",
    "    where_document={\"$not_contains\": \"gagnon\"},\n",
    "    # # where_document={\"$or\": [  # type: ignore\n",
    "    # #         {\n",
    "    # #             \"keywords\":{\"$contains\": \"ugme\"}\n",
    "    # #         },\n",
    "    # #         {\n",
    "    # #         \"present\":{\"$contains\":\"mondou\"}\n",
    "    # #         }\n",
    "    # #     ]      \n",
    "    # # },\n",
    "    n_results=10,\n",
    ")"
   ]
  },
  {
   "cell_type": "code",
   "execution_count": 37,
   "metadata": {},
   "outputs": [
    {
     "data": {
      "text/plain": [
       "[['advisory committee\\ncan advertize\\ncmq gatineau\\nseptember 14\\nthe folks there can handle it',\n",
       "  'comments of the aire de détente in gatineau\\neveryone has to find something that needs to be reported',\n",
       "  'gabay-20230417.md\\nmodular\\nluc desbiens\\ntext stefane that we are prioritized\\ngot permission to negotiate\\nnovember 2023\\nplan b for gmf-u\\nramping up the number of inscriptions\\nwe are announcing that we are pulling patients ouest\\npointe claire\\nhopital ste-anne',\n",
       "  'ministerial announcement about gmf-u\\ninfrastructure piece is nto yet confirmed\\nsent in our proposal just before the holidays\\nlm to meet with bruno about this, but it is luc desbiens who has to make the call',\n",
       "  'no strings attached funding for 2 years\\ncan hire 5 people to work on his project\\nalready connected to people at mcgill\\ncitf\\nwe are supposed to finish in march 2023\\nasked for an extension to complete studies\\njean-louis moreau',\n",
       "  'danyèle is willing to help but has too many meetings\\nmaniwaki\\nmoving better\\ncpd\\nstarting to understand a bit better\\nprioritization\\ndentistry is trying to get all the resources\\nabitibi\\neveryone else iis there\\ngmf-u in la sarre - use some capacity',\n",
       "  'lacombe-20220826\\ndanyèle lacombe\\ngilles a proposé de continuer 2-3 mois après son départ\\n1er décembre\\n3 jours',\n",
       "  \"gilles-20221220.md\\naffaires ã©tudiantes\\nagrã©ment 2024\\npositif\\nsalon ã©tudiantes\\n3 cabine d'ã©tudiantes\\nsystã¨me de rã©servation en ligne\\naccã¨s au centre sportif de l'uqo\\nnouvelle structure du bureau de sources\\nnegatif\",\n",
       "  \"call from doré-savard\\ninput on procedures renewal of conp\\none of alan's projects\\nup for renewal\\nbrain canada (main funding partner) -- gap in funding until november\\nludmer to contribute to bridge funding and the renewal\",\n",
       "  'in touch with dominique archambault about possible evacuations\\nrole of the international office\\nanother meeting with hb before he steps down\\nhow should it roll out at pgme\\nwe may need to ask for a position\\ninternal review\\nstarts next year'],\n",
       " ['mann-20230213.md\\nuniversité grenoble\\nfaculty of science\\naim is to start in winter 2024\\nu2 students\\n6 mo or 1 yr exchange\\nundergraduate students\\nneed more teachers\\nretreat in january\\npeople vented\\nnot ready for strategic planning\\nfocus on what can be done',\n",
       "  'bni on campus 134 vs 140\\nbni online 127 vs 125\\ngraduate students\\nlow on the qualifying year\\nnow that we require french and caspar, this limits enrolment\\nnp\\nthe target for enrollment is provided by the msss\\nfor the 2000 by 2025',\n",
       "  'if we have a lot absenteeism in period 8 it will be tricky\\none unvaccinated student\\nto be reassessed next fall',\n",
       "  \"now has spread across canada\\ncan't mention that to the students as the board hasn't taken a decision\\nincreased number of dates for mcc\\ngood news\\nstudents who may not be able to graduate on time\\nwill have to wait and see\",\n",
       "  'regular meeting\\nstarting to operate again\\nworried about effect on the learners\\ntoo many shutdowns\\nresearch\\neveryone has had a tough time\\nin general people are coping with a tough situation\\ni doubt it will be a banner year\\ngrad students\\nstrong enrolment',\n",
       "  'catherine is holding an emergency meeting\\nosce deferral this friday (small number of students -- not high risk)\\nwill do focus groups with the final year\\ndespite the mini-me',\n",
       "  \"linked into dr dove's team\\nreceive students this summer\\nstarting on 5th floor\\nthe 9m is to get us to 12,000 and then 24,000 patients\\nputting them right beside university affairs\\nrem as a big plus\\ndr. hawani\",\n",
       "  'offer a sixth year with a leadership program\\nextra time to learn french\\ncome for 3-4 on top of kuwait\\nadrian dancea\\nwants to think about leadership training\\ninternational\\nfaculty development\\ncontinue to insist on 100% when 80% is enough',\n",
       "  'increased medical students\\nthis will be a major challenge\\nneed to find space for spot\\nspgh\\nmeeting with tasha this afternoon\\nprojecting a lot of growth -- need a business plan\\ndirector role and ad are developmental assignments',\n",
       "  \"objectif de repartir les nouveaux effectifs: 412 nf\\napproche populationnelle\\ndimunition du nombre de finissants dans les 4 facultés -40\\ndimunition des places en spécialité en 2021, mais n'a pas eu le résultat\"]]"
      ]
     },
     "execution_count": 37,
     "metadata": {},
     "output_type": "execute_result"
    }
   ],
   "source": [
    "query_results[\"documents\"]"
   ]
  },
  {
   "cell_type": "code",
   "execution_count": 38,
   "metadata": {},
   "outputs": [
    {
     "name": "stdout",
     "output_type": "stream",
     "text": [
      "['dove-20220726.md', 'melanie-20220622.md', 'gabay-20230417.md', 'mcvey-20220117.md', 't_evans-20220920.md', 'melanie-20230510.md', 'lacombe-20220826.md', 'gilles-20221220.md', 'doresavard-20220126.md', 'regina-20230606.md']\n",
      "['mann-20230213.md', 'gagnon-20220815.md', 'melanie-20220112.md', 'melanie-20220112.md', 'feldman-20220209.md', 'melanie-20220419.md', 'mcvey-20220321.md', 'farhan-20230703.md', 'demetra-20221122.md', 'opatrny-20220729.md']\n"
     ]
    }
   ],
   "source": [
    "metadata = query_results['metadatas'] # type: ignore\n",
    "if metadata is not None:\n",
    "    for data in metadata: \n",
    "        print([x[\"filename\"] for x in data])"
   ]
  },
  {
   "cell_type": "code",
   "execution_count": null,
   "metadata": {},
   "outputs": [],
   "source": []
  }
 ],
 "metadata": {
  "kernelspec": {
   "display_name": "ragsc-rGBOy1v8-py3.12",
   "language": "python",
   "name": "python3"
  },
  "language_info": {
   "codemirror_mode": {
    "name": "ipython",
    "version": 3
   },
   "file_extension": ".py",
   "mimetype": "text/x-python",
   "name": "python",
   "nbconvert_exporter": "python",
   "pygments_lexer": "ipython3",
   "version": "3.12.3"
  }
 },
 "nbformat": 4,
 "nbformat_minor": 2
}
