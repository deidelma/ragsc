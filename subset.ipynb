{
 "cells": [
  {
   "cell_type": "markdown",
   "metadata": {},
   "source": [
    "# Subset Notebook\n",
    "\n",
    "Working towards analyzing clusters derived in the cluster notebook so that they can be used to create RAG vectors"
   ]
  },
  {
   "cell_type": "code",
   "execution_count": 32,
   "metadata": {},
   "outputs": [],
   "source": [
    "import warnings\n",
    "\n",
    "# import numba\n",
    "from numba.core.errors import NumbaDeprecationWarning, NumbaPendingDeprecationWarning\n",
    "\n",
    "warnings.filterwarnings(\"ignore\", category=DeprecationWarning)\n",
    "\n",
    "warnings.simplefilter(\"ignore\", category=NumbaDeprecationWarning)"
   ]
  },
  {
   "cell_type": "code",
   "execution_count": 33,
   "metadata": {},
   "outputs": [],
   "source": [
    "import scanpy as sc\n",
    "import pandas as pd\n",
    "import numpy as np\n",
    "\n",
    "# import os\n",
    "from scipy.sparse import csr_matrix\n",
    "import seaborn as sns\n",
    "import matplotlib.pyplot as plt\n",
    "\n",
    "# import celltypist\n",
    "from celltypist import models\n",
    "import scarches as sca\n",
    "\n",
    "# import urllib.request\n",
    "\n",
    "warnings.filterwarnings(\"ignore\", category=pd.errors.PerformanceWarning)\n",
    "\n",
    "sc.set_figure_params(figsize=(5, 5))  # type: ignore"
   ]
  },
  {
   "cell_type": "code",
   "execution_count": 34,
   "metadata": {},
   "outputs": [
    {
     "data": {
      "text/plain": [
       "AnnData object with n_obs × n_vars = 9370 × 31208\n",
       "    obs: 'n_genes_by_counts', 'total_counts', 'pct_counts_in_top_20_genes', 'total_counts_mt', 'pct_counts_mt', 'total_counts_ribo', 'pct_counts_ribo', 'total_counts_hb', 'pct_counts_hb', 'outlier', 'mt_outlier', 'DF_score', 'batch', 'size_factors', 'leiden_2'\n",
       "    var: 'gene_ids', 'feature_types', 'n_cells_by_counts', 'mean_counts', 'pct_dropout_by_counts', 'total_counts', 'highly_variable'"
      ]
     },
     "execution_count": 34,
     "metadata": {},
     "output_type": "execute_result"
    }
   ],
   "source": [
    "adata = sc.read_h5ad(\"data/subset.h5ad\")\n",
    "adata"
   ]
  },
  {
   "cell_type": "code",
   "execution_count": 35,
   "metadata": {},
   "outputs": [
    {
     "data": {
      "text/plain": [
       "['15', '9', '6', '7', '0', ..., '3', '4', '18', '16', '17']\n",
       "Length: 19\n",
       "Categories (19, object): ['0', '1', '2', '3', ..., '15', '16', '17', '18']"
      ]
     },
     "execution_count": 35,
     "metadata": {},
     "output_type": "execute_result"
    }
   ],
   "source": [
    "adata.obs[\"leiden_2\"].unique()"
   ]
  },
  {
   "cell_type": "code",
   "execution_count": 36,
   "metadata": {},
   "outputs": [],
   "source": [
    "adata_1 = adata[adata.obs[\"leiden_2\"] == \"12\"]  # type: ignore"
   ]
  },
  {
   "cell_type": "code",
   "execution_count": 37,
   "metadata": {},
   "outputs": [
    {
     "data": {
      "text/plain": [
       "AL627309.1    0.001840\n",
       "AL627309.5    0.010493\n",
       "AL627309.4    0.000639\n",
       "AP006222.2    0.000046\n",
       "AL669831.2    0.000471\n",
       "                ...   \n",
       "AC004556.3    0.003391\n",
       "AC233755.2    0.000715\n",
       "AC233755.1    0.001323\n",
       "AC007325.4    0.001270\n",
       "AC007325.2    0.000122\n",
       "Name: mean_counts, Length: 31208, dtype: float32"
      ]
     },
     "execution_count": 37,
     "metadata": {},
     "output_type": "execute_result"
    }
   ],
   "source": [
    "adata_1.var.mean_counts"
   ]
  },
  {
   "cell_type": "code",
   "execution_count": 39,
   "metadata": {},
   "outputs": [
    {
     "data": {
      "text/plain": [
       "View of AnnData object with n_obs × n_vars = 9370 × 4000\n",
       "    obs: 'n_genes_by_counts', 'total_counts', 'pct_counts_in_top_20_genes', 'total_counts_mt', 'pct_counts_mt', 'total_counts_ribo', 'pct_counts_ribo', 'total_counts_hb', 'pct_counts_hb', 'outlier', 'mt_outlier', 'DF_score', 'batch', 'size_factors', 'leiden_2'\n",
       "    var: 'gene_ids', 'feature_types', 'n_cells_by_counts', 'mean_counts', 'pct_dropout_by_counts', 'total_counts', 'highly_variable'"
      ]
     },
     "execution_count": 39,
     "metadata": {},
     "output_type": "execute_result"
    }
   ],
   "source": [
    "b = adata.var[adata.var.highly_variable]\n",
    "adata[:, b.index]"
   ]
  },
  {
   "cell_type": "code",
   "execution_count": 31,
   "metadata": {},
   "outputs": [
    {
     "data": {
      "text/html": [
       "<div>\n",
       "<style scoped>\n",
       "    .dataframe tbody tr th:only-of-type {\n",
       "        vertical-align: middle;\n",
       "    }\n",
       "\n",
       "    .dataframe tbody tr th {\n",
       "        vertical-align: top;\n",
       "    }\n",
       "\n",
       "    .dataframe thead th {\n",
       "        text-align: right;\n",
       "    }\n",
       "</style>\n",
       "<table border=\"1\" class=\"dataframe\">\n",
       "  <thead>\n",
       "    <tr style=\"text-align: right;\">\n",
       "      <th></th>\n",
       "      <th>gene_ids</th>\n",
       "      <th>feature_types</th>\n",
       "      <th>n_cells_by_counts</th>\n",
       "      <th>mean_counts</th>\n",
       "      <th>pct_dropout_by_counts</th>\n",
       "      <th>total_counts</th>\n",
       "      <th>highly_variable</th>\n",
       "    </tr>\n",
       "  </thead>\n",
       "  <tbody>\n",
       "    <tr>\n",
       "      <th>CCNL2</th>\n",
       "      <td>ENSG00000221978</td>\n",
       "      <td>Gene Expression</td>\n",
       "      <td>15878</td>\n",
       "      <td>0.161236</td>\n",
       "      <td>87.926852</td>\n",
       "      <td>21205.0</td>\n",
       "      <td>True</td>\n",
       "    </tr>\n",
       "    <tr>\n",
       "      <th>MRPL20</th>\n",
       "      <td>ENSG00000242485</td>\n",
       "      <td>Gene Expression</td>\n",
       "      <td>12320</td>\n",
       "      <td>0.118709</td>\n",
       "      <td>90.632247</td>\n",
       "      <td>15612.0</td>\n",
       "      <td>True</td>\n",
       "    </tr>\n",
       "    <tr>\n",
       "      <th>CDK11A</th>\n",
       "      <td>ENSG00000008128</td>\n",
       "      <td>Gene Expression</td>\n",
       "      <td>12018</td>\n",
       "      <td>0.116329</td>\n",
       "      <td>90.861879</td>\n",
       "      <td>15299.0</td>\n",
       "      <td>True</td>\n",
       "    </tr>\n",
       "    <tr>\n",
       "      <th>GNB1</th>\n",
       "      <td>ENSG00000078369</td>\n",
       "      <td>Gene Expression</td>\n",
       "      <td>32797</td>\n",
       "      <td>0.450907</td>\n",
       "      <td>75.062160</td>\n",
       "      <td>59301.0</td>\n",
       "      <td>True</td>\n",
       "    </tr>\n",
       "    <tr>\n",
       "      <th>SKI</th>\n",
       "      <td>ENSG00000157933</td>\n",
       "      <td>Gene Expression</td>\n",
       "      <td>12582</td>\n",
       "      <td>0.129521</td>\n",
       "      <td>90.433030</td>\n",
       "      <td>17034.0</td>\n",
       "      <td>True</td>\n",
       "    </tr>\n",
       "    <tr>\n",
       "      <th>...</th>\n",
       "      <td>...</td>\n",
       "      <td>...</td>\n",
       "      <td>...</td>\n",
       "      <td>...</td>\n",
       "      <td>...</td>\n",
       "      <td>...</td>\n",
       "      <td>...</td>\n",
       "    </tr>\n",
       "    <tr>\n",
       "      <th>MT-ND4L</th>\n",
       "      <td>ENSG00000212907</td>\n",
       "      <td>Gene Expression</td>\n",
       "      <td>11561</td>\n",
       "      <td>0.155077</td>\n",
       "      <td>91.209368</td>\n",
       "      <td>20395.0</td>\n",
       "      <td>True</td>\n",
       "    </tr>\n",
       "    <tr>\n",
       "      <th>MT-ND4</th>\n",
       "      <td>ENSG00000198886</td>\n",
       "      <td>Gene Expression</td>\n",
       "      <td>37838</td>\n",
       "      <td>0.838954</td>\n",
       "      <td>71.229137</td>\n",
       "      <td>110335.0</td>\n",
       "      <td>True</td>\n",
       "    </tr>\n",
       "    <tr>\n",
       "      <th>MT-ND5</th>\n",
       "      <td>ENSG00000198786</td>\n",
       "      <td>Gene Expression</td>\n",
       "      <td>37477</td>\n",
       "      <td>0.704231</td>\n",
       "      <td>71.503631</td>\n",
       "      <td>92617.0</td>\n",
       "      <td>True</td>\n",
       "    </tr>\n",
       "    <tr>\n",
       "      <th>MT-ND6</th>\n",
       "      <td>ENSG00000198695</td>\n",
       "      <td>Gene Expression</td>\n",
       "      <td>12662</td>\n",
       "      <td>0.142463</td>\n",
       "      <td>90.372201</td>\n",
       "      <td>18736.0</td>\n",
       "      <td>True</td>\n",
       "    </tr>\n",
       "    <tr>\n",
       "      <th>MT-CYB</th>\n",
       "      <td>ENSG00000198727</td>\n",
       "      <td>Gene Expression</td>\n",
       "      <td>49407</td>\n",
       "      <td>1.199072</td>\n",
       "      <td>62.432422</td>\n",
       "      <td>157696.0</td>\n",
       "      <td>True</td>\n",
       "    </tr>\n",
       "  </tbody>\n",
       "</table>\n",
       "<p>4000 rows × 7 columns</p>\n",
       "</div>"
      ],
      "text/plain": [
       "                gene_ids    feature_types  n_cells_by_counts  mean_counts  \\\n",
       "CCNL2    ENSG00000221978  Gene Expression              15878     0.161236   \n",
       "MRPL20   ENSG00000242485  Gene Expression              12320     0.118709   \n",
       "CDK11A   ENSG00000008128  Gene Expression              12018     0.116329   \n",
       "GNB1     ENSG00000078369  Gene Expression              32797     0.450907   \n",
       "SKI      ENSG00000157933  Gene Expression              12582     0.129521   \n",
       "...                  ...              ...                ...          ...   \n",
       "MT-ND4L  ENSG00000212907  Gene Expression              11561     0.155077   \n",
       "MT-ND4   ENSG00000198886  Gene Expression              37838     0.838954   \n",
       "MT-ND5   ENSG00000198786  Gene Expression              37477     0.704231   \n",
       "MT-ND6   ENSG00000198695  Gene Expression              12662     0.142463   \n",
       "MT-CYB   ENSG00000198727  Gene Expression              49407     1.199072   \n",
       "\n",
       "         pct_dropout_by_counts  total_counts  highly_variable  \n",
       "CCNL2                87.926852       21205.0             True  \n",
       "MRPL20               90.632247       15612.0             True  \n",
       "CDK11A               90.861879       15299.0             True  \n",
       "GNB1                 75.062160       59301.0             True  \n",
       "SKI                  90.433030       17034.0             True  \n",
       "...                        ...           ...              ...  \n",
       "MT-ND4L              91.209368       20395.0             True  \n",
       "MT-ND4               71.229137      110335.0             True  \n",
       "MT-ND5               71.503631       92617.0             True  \n",
       "MT-ND6               90.372201       18736.0             True  \n",
       "MT-CYB               62.432422      157696.0             True  \n",
       "\n",
       "[4000 rows x 7 columns]"
      ]
     },
     "execution_count": 31,
     "metadata": {},
     "output_type": "execute_result"
    }
   ],
   "source": [
    "a = adata.var.highly_variable\n",
    "v = adata.var\n",
    "v[a]"
   ]
  },
  {
   "cell_type": "code",
   "execution_count": null,
   "metadata": {},
   "outputs": [],
   "source": []
  }
 ],
 "metadata": {
  "kernelspec": {
   "display_name": "Python 3",
   "language": "python",
   "name": "python3"
  },
  "language_info": {
   "codemirror_mode": {
    "name": "ipython",
    "version": 3
   },
   "file_extension": ".py",
   "mimetype": "text/x-python",
   "name": "python",
   "nbconvert_exporter": "python",
   "pygments_lexer": "ipython3",
   "version": "3.9.19"
  }
 },
 "nbformat": 4,
 "nbformat_minor": 2
}
