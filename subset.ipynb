{
 "cells": [
  {
   "cell_type": "markdown",
   "metadata": {},
   "source": [
    "# Subset Notebook\n",
    "\n",
    "Working towards analyzing clusters derived in the cluster notebook so that they can be used to create RAG vectors"
   ]
  },
  {
   "cell_type": "code",
   "execution_count": 1,
   "metadata": {},
   "outputs": [],
   "source": [
    "import warnings\n",
    "\n",
    "# import numba\n",
    "from numba.core.errors import NumbaDeprecationWarning, NumbaPendingDeprecationWarning\n",
    "\n",
    "warnings.filterwarnings(\"ignore\", category=DeprecationWarning)\n",
    "\n",
    "warnings.simplefilter(\"ignore\", category=NumbaDeprecationWarning)"
   ]
  },
  {
   "cell_type": "code",
   "execution_count": 2,
   "metadata": {},
   "outputs": [
    {
     "name": "stderr",
     "output_type": "stream",
     "text": [
      "In order to use the mouse gastrulation seqFISH datsets, please install squidpy (see https://github.com/scverse/squidpy).\n",
      "/mnt/data/david/miniforge3/envs/ragsc/lib/python3.9/site-packages/tqdm/auto.py:21: TqdmWarning: IProgress not found. Please update jupyter and ipywidgets. See https://ipywidgets.readthedocs.io/en/stable/user_install.html\n",
      "  from .autonotebook import tqdm as notebook_tqdm\n",
      "In order to use sagenet models, please install pytorch geometric (see https://pytorch-geometric.readthedocs.io) and \n",
      " captum (see https://github.com/pytorch/captum).\n",
      "mvTCR is not installed. To use mvTCR models, please install it first using \"pip install mvtcr\"\n",
      "multigrate is not installed. To use multigrate models, please install it first using \"pip install multigrate\".\n"
     ]
    }
   ],
   "source": [
    "import scanpy as sc\n",
    "import pandas as pd\n",
    "import numpy as np\n",
    "\n",
    "# import os\n",
    "from scipy.sparse import csr_matrix\n",
    "import seaborn as sns\n",
    "import matplotlib.pyplot as plt\n",
    "\n",
    "# import celltypist\n",
    "from celltypist import models\n",
    "import scarches as sca\n",
    "\n",
    "# import urllib.request\n",
    "\n",
    "warnings.filterwarnings(\"ignore\", category=pd.errors.PerformanceWarning)\n",
    "\n",
    "sc.set_figure_params(figsize=(5, 5))  # type: ignore"
   ]
  },
  {
   "cell_type": "code",
   "execution_count": 3,
   "metadata": {},
   "outputs": [
    {
     "data": {
      "text/plain": [
       "AnnData object with n_obs × n_vars = 9370 × 31208\n",
       "    obs: 'n_genes_by_counts', 'total_counts', 'pct_counts_in_top_20_genes', 'total_counts_mt', 'pct_counts_mt', 'total_counts_ribo', 'pct_counts_ribo', 'total_counts_hb', 'pct_counts_hb', 'outlier', 'mt_outlier', 'DF_score', 'batch', 'size_factors', 'leiden_2'\n",
       "    var: 'gene_ids', 'feature_types', 'n_cells_by_counts', 'mean_counts', 'pct_dropout_by_counts', 'total_counts', 'highly_variable'"
      ]
     },
     "execution_count": 3,
     "metadata": {},
     "output_type": "execute_result"
    }
   ],
   "source": [
    "adata = sc.read_h5ad(\"data/subset.h5ad\")\n",
    "adata"
   ]
  },
  {
   "cell_type": "code",
   "execution_count": 4,
   "metadata": {},
   "outputs": [
    {
     "data": {
      "text/plain": [
       "['15', '9', '6', '7', '0', ..., '3', '4', '18', '16', '17']\n",
       "Length: 19\n",
       "Categories (19, object): ['0', '1', '2', '3', ..., '15', '16', '17', '18']"
      ]
     },
     "execution_count": 4,
     "metadata": {},
     "output_type": "execute_result"
    }
   ],
   "source": [
    "adata.obs[\"leiden_2\"].unique()"
   ]
  },
  {
   "cell_type": "code",
   "execution_count": 5,
   "metadata": {},
   "outputs": [],
   "source": [
    "adata_1 = adata[adata.obs[\"leiden_2\"] == \"12\"]  # type: ignore"
   ]
  },
  {
   "cell_type": "code",
   "execution_count": 6,
   "metadata": {},
   "outputs": [
    {
     "data": {
      "text/plain": [
       "AL627309.1    0.001840\n",
       "AL627309.5    0.010493\n",
       "AL627309.4    0.000639\n",
       "AP006222.2    0.000046\n",
       "AL669831.2    0.000471\n",
       "                ...   \n",
       "AC004556.3    0.003391\n",
       "AC233755.2    0.000715\n",
       "AC233755.1    0.001323\n",
       "AC007325.4    0.001270\n",
       "AC007325.2    0.000122\n",
       "Name: mean_counts, Length: 31208, dtype: float32"
      ]
     },
     "execution_count": 6,
     "metadata": {},
     "output_type": "execute_result"
    }
   ],
   "source": [
    "adata_1.var.mean_counts"
   ]
  },
  {
   "cell_type": "code",
   "execution_count": 7,
   "metadata": {},
   "outputs": [],
   "source": [
    "b = adata.var[adata.var.highly_variable]\n",
    "hvar = adata[:, b.index]"
   ]
  },
  {
   "cell_type": "code",
   "execution_count": 8,
   "metadata": {},
   "outputs": [],
   "source": [
    "clusters = [\n",
    "    str(x) for x in sorted([int(cluster) for cluster in adata.obs[\"leiden_2\"].unique()])\n",
    "]"
   ]
  },
  {
   "cell_type": "code",
   "execution_count": 9,
   "metadata": {},
   "outputs": [
    {
     "name": "stdout",
     "output_type": "stream",
     "text": [
      "Length of cluster table: 19\n"
     ]
    }
   ],
   "source": [
    "from typing import Any\n",
    "\n",
    "\n",
    "cluster_table: dict[str, Any] = {}\n",
    "for cluster in clusters:\n",
    "    # b = hvar.obs[hvar.obs[\"leiden_2\"] == cluster]\n",
    "    # print(f\"{cluster} len: {len(b)}\")\n",
    "    subset = hvar[hvar.obs[\"leiden_2\"] == cluster]\n",
    "    # print(subset.shape)\n",
    "    cluster_table[cluster] = subset\n",
    "\n",
    "    # if int(cluster) > 0:\n",
    "    #     break\n",
    "\n",
    "print(f\"Length of cluster table: {len(cluster_table)}\")"
   ]
  },
  {
   "cell_type": "code",
   "execution_count": 34,
   "metadata": {},
   "outputs": [],
   "source": [
    "c0 = cluster_table[\"0\"].copy()"
   ]
  },
  {
   "cell_type": "code",
   "execution_count": 35,
   "metadata": {},
   "outputs": [
    {
     "data": {
      "text/html": [
       "<div>\n",
       "<style scoped>\n",
       "    .dataframe tbody tr th:only-of-type {\n",
       "        vertical-align: middle;\n",
       "    }\n",
       "\n",
       "    .dataframe tbody tr th {\n",
       "        vertical-align: top;\n",
       "    }\n",
       "\n",
       "    .dataframe thead th {\n",
       "        text-align: right;\n",
       "    }\n",
       "</style>\n",
       "<table border=\"1\" class=\"dataframe\">\n",
       "  <thead>\n",
       "    <tr style=\"text-align: right;\">\n",
       "      <th></th>\n",
       "      <th>n_genes_by_counts</th>\n",
       "      <th>total_counts</th>\n",
       "      <th>pct_counts_in_top_20_genes</th>\n",
       "      <th>total_counts_mt</th>\n",
       "      <th>pct_counts_mt</th>\n",
       "      <th>total_counts_ribo</th>\n",
       "      <th>pct_counts_ribo</th>\n",
       "      <th>total_counts_hb</th>\n",
       "      <th>pct_counts_hb</th>\n",
       "      <th>outlier</th>\n",
       "      <th>mt_outlier</th>\n",
       "      <th>DF_score</th>\n",
       "      <th>batch</th>\n",
       "      <th>size_factors</th>\n",
       "      <th>leiden_2</th>\n",
       "    </tr>\n",
       "  </thead>\n",
       "  <tbody>\n",
       "    <tr>\n",
       "      <th>TGACCAAGTAGACAAA</th>\n",
       "      <td>297</td>\n",
       "      <td>347.0</td>\n",
       "      <td>18.443804</td>\n",
       "      <td>12.0</td>\n",
       "      <td>3.458213</td>\n",
       "      <td>20.0</td>\n",
       "      <td>5.763689</td>\n",
       "      <td>1.0</td>\n",
       "      <td>0.288184</td>\n",
       "      <td>False</td>\n",
       "      <td>False</td>\n",
       "      <td>Singlet</td>\n",
       "      <td>12</td>\n",
       "      <td>0.387125</td>\n",
       "      <td>0</td>\n",
       "    </tr>\n",
       "    <tr>\n",
       "      <th>CGGCCATAGCGAGCGA</th>\n",
       "      <td>253</td>\n",
       "      <td>298.0</td>\n",
       "      <td>20.805369</td>\n",
       "      <td>3.0</td>\n",
       "      <td>1.006711</td>\n",
       "      <td>10.0</td>\n",
       "      <td>3.355705</td>\n",
       "      <td>1.0</td>\n",
       "      <td>0.335570</td>\n",
       "      <td>False</td>\n",
       "      <td>False</td>\n",
       "      <td>Singlet</td>\n",
       "      <td>12</td>\n",
       "      <td>0.263221</td>\n",
       "      <td>0</td>\n",
       "    </tr>\n",
       "    <tr>\n",
       "      <th>AACCCGCAGCATGTTA</th>\n",
       "      <td>485</td>\n",
       "      <td>606.0</td>\n",
       "      <td>15.841584</td>\n",
       "      <td>14.0</td>\n",
       "      <td>2.310231</td>\n",
       "      <td>30.0</td>\n",
       "      <td>4.950495</td>\n",
       "      <td>3.0</td>\n",
       "      <td>0.495050</td>\n",
       "      <td>False</td>\n",
       "      <td>False</td>\n",
       "      <td>Singlet</td>\n",
       "      <td>12</td>\n",
       "      <td>0.587172</td>\n",
       "      <td>0</td>\n",
       "    </tr>\n",
       "    <tr>\n",
       "      <th>AATCATCCAGTTTACG</th>\n",
       "      <td>387</td>\n",
       "      <td>457.0</td>\n",
       "      <td>15.098468</td>\n",
       "      <td>10.0</td>\n",
       "      <td>2.188184</td>\n",
       "      <td>16.0</td>\n",
       "      <td>3.501094</td>\n",
       "      <td>2.0</td>\n",
       "      <td>0.437637</td>\n",
       "      <td>False</td>\n",
       "      <td>False</td>\n",
       "      <td>Singlet</td>\n",
       "      <td>12</td>\n",
       "      <td>0.496341</td>\n",
       "      <td>0</td>\n",
       "    </tr>\n",
       "    <tr>\n",
       "      <th>TGAAGGATCGTTACTT</th>\n",
       "      <td>252</td>\n",
       "      <td>284.0</td>\n",
       "      <td>16.901408</td>\n",
       "      <td>8.0</td>\n",
       "      <td>2.816901</td>\n",
       "      <td>27.0</td>\n",
       "      <td>9.507042</td>\n",
       "      <td>1.0</td>\n",
       "      <td>0.352113</td>\n",
       "      <td>False</td>\n",
       "      <td>False</td>\n",
       "      <td>Singlet</td>\n",
       "      <td>12</td>\n",
       "      <td>0.306024</td>\n",
       "      <td>0</td>\n",
       "    </tr>\n",
       "    <tr>\n",
       "      <th>...</th>\n",
       "      <td>...</td>\n",
       "      <td>...</td>\n",
       "      <td>...</td>\n",
       "      <td>...</td>\n",
       "      <td>...</td>\n",
       "      <td>...</td>\n",
       "      <td>...</td>\n",
       "      <td>...</td>\n",
       "      <td>...</td>\n",
       "      <td>...</td>\n",
       "      <td>...</td>\n",
       "      <td>...</td>\n",
       "      <td>...</td>\n",
       "      <td>...</td>\n",
       "      <td>...</td>\n",
       "    </tr>\n",
       "    <tr>\n",
       "      <th>CGGTGAGAGCACTAGT</th>\n",
       "      <td>306</td>\n",
       "      <td>344.0</td>\n",
       "      <td>15.697674</td>\n",
       "      <td>12.0</td>\n",
       "      <td>3.488372</td>\n",
       "      <td>20.0</td>\n",
       "      <td>5.813954</td>\n",
       "      <td>2.0</td>\n",
       "      <td>0.581395</td>\n",
       "      <td>False</td>\n",
       "      <td>False</td>\n",
       "      <td>Singlet</td>\n",
       "      <td>12</td>\n",
       "      <td>0.367999</td>\n",
       "      <td>0</td>\n",
       "    </tr>\n",
       "    <tr>\n",
       "      <th>GATCAAGAGGTTAGAG</th>\n",
       "      <td>248</td>\n",
       "      <td>288.0</td>\n",
       "      <td>19.791667</td>\n",
       "      <td>5.0</td>\n",
       "      <td>1.736111</td>\n",
       "      <td>12.0</td>\n",
       "      <td>4.166667</td>\n",
       "      <td>0.0</td>\n",
       "      <td>0.000000</td>\n",
       "      <td>False</td>\n",
       "      <td>False</td>\n",
       "      <td>Singlet</td>\n",
       "      <td>12</td>\n",
       "      <td>0.269336</td>\n",
       "      <td>0</td>\n",
       "    </tr>\n",
       "    <tr>\n",
       "      <th>GCATGAGCACAGCCAT</th>\n",
       "      <td>252</td>\n",
       "      <td>308.0</td>\n",
       "      <td>21.428571</td>\n",
       "      <td>16.0</td>\n",
       "      <td>5.194805</td>\n",
       "      <td>30.0</td>\n",
       "      <td>9.740259</td>\n",
       "      <td>1.0</td>\n",
       "      <td>0.324675</td>\n",
       "      <td>False</td>\n",
       "      <td>False</td>\n",
       "      <td>Singlet</td>\n",
       "      <td>12</td>\n",
       "      <td>0.249449</td>\n",
       "      <td>0</td>\n",
       "    </tr>\n",
       "    <tr>\n",
       "      <th>TTGACATCAGCAAGTG</th>\n",
       "      <td>249</td>\n",
       "      <td>289.0</td>\n",
       "      <td>19.723183</td>\n",
       "      <td>3.0</td>\n",
       "      <td>1.038062</td>\n",
       "      <td>20.0</td>\n",
       "      <td>6.920415</td>\n",
       "      <td>0.0</td>\n",
       "      <td>0.000000</td>\n",
       "      <td>False</td>\n",
       "      <td>False</td>\n",
       "      <td>Singlet</td>\n",
       "      <td>12</td>\n",
       "      <td>0.314412</td>\n",
       "      <td>0</td>\n",
       "    </tr>\n",
       "    <tr>\n",
       "      <th>CATCCTCAGAGGAAGG</th>\n",
       "      <td>285</td>\n",
       "      <td>328.0</td>\n",
       "      <td>17.073171</td>\n",
       "      <td>14.0</td>\n",
       "      <td>4.268293</td>\n",
       "      <td>27.0</td>\n",
       "      <td>8.231708</td>\n",
       "      <td>1.0</td>\n",
       "      <td>0.304878</td>\n",
       "      <td>False</td>\n",
       "      <td>False</td>\n",
       "      <td>Singlet</td>\n",
       "      <td>12</td>\n",
       "      <td>0.334409</td>\n",
       "      <td>0</td>\n",
       "    </tr>\n",
       "  </tbody>\n",
       "</table>\n",
       "<p>1232 rows × 15 columns</p>\n",
       "</div>"
      ],
      "text/plain": [
       "                  n_genes_by_counts  total_counts  pct_counts_in_top_20_genes  \\\n",
       "TGACCAAGTAGACAAA                297         347.0                   18.443804   \n",
       "CGGCCATAGCGAGCGA                253         298.0                   20.805369   \n",
       "AACCCGCAGCATGTTA                485         606.0                   15.841584   \n",
       "AATCATCCAGTTTACG                387         457.0                   15.098468   \n",
       "TGAAGGATCGTTACTT                252         284.0                   16.901408   \n",
       "...                             ...           ...                         ...   \n",
       "CGGTGAGAGCACTAGT                306         344.0                   15.697674   \n",
       "GATCAAGAGGTTAGAG                248         288.0                   19.791667   \n",
       "GCATGAGCACAGCCAT                252         308.0                   21.428571   \n",
       "TTGACATCAGCAAGTG                249         289.0                   19.723183   \n",
       "CATCCTCAGAGGAAGG                285         328.0                   17.073171   \n",
       "\n",
       "                  total_counts_mt  pct_counts_mt  total_counts_ribo  \\\n",
       "TGACCAAGTAGACAAA             12.0       3.458213               20.0   \n",
       "CGGCCATAGCGAGCGA              3.0       1.006711               10.0   \n",
       "AACCCGCAGCATGTTA             14.0       2.310231               30.0   \n",
       "AATCATCCAGTTTACG             10.0       2.188184               16.0   \n",
       "TGAAGGATCGTTACTT              8.0       2.816901               27.0   \n",
       "...                           ...            ...                ...   \n",
       "CGGTGAGAGCACTAGT             12.0       3.488372               20.0   \n",
       "GATCAAGAGGTTAGAG              5.0       1.736111               12.0   \n",
       "GCATGAGCACAGCCAT             16.0       5.194805               30.0   \n",
       "TTGACATCAGCAAGTG              3.0       1.038062               20.0   \n",
       "CATCCTCAGAGGAAGG             14.0       4.268293               27.0   \n",
       "\n",
       "                  pct_counts_ribo  total_counts_hb  pct_counts_hb  outlier  \\\n",
       "TGACCAAGTAGACAAA         5.763689              1.0       0.288184    False   \n",
       "CGGCCATAGCGAGCGA         3.355705              1.0       0.335570    False   \n",
       "AACCCGCAGCATGTTA         4.950495              3.0       0.495050    False   \n",
       "AATCATCCAGTTTACG         3.501094              2.0       0.437637    False   \n",
       "TGAAGGATCGTTACTT         9.507042              1.0       0.352113    False   \n",
       "...                           ...              ...            ...      ...   \n",
       "CGGTGAGAGCACTAGT         5.813954              2.0       0.581395    False   \n",
       "GATCAAGAGGTTAGAG         4.166667              0.0       0.000000    False   \n",
       "GCATGAGCACAGCCAT         9.740259              1.0       0.324675    False   \n",
       "TTGACATCAGCAAGTG         6.920415              0.0       0.000000    False   \n",
       "CATCCTCAGAGGAAGG         8.231708              1.0       0.304878    False   \n",
       "\n",
       "                  mt_outlier DF_score batch  size_factors leiden_2  \n",
       "TGACCAAGTAGACAAA       False  Singlet    12      0.387125        0  \n",
       "CGGCCATAGCGAGCGA       False  Singlet    12      0.263221        0  \n",
       "AACCCGCAGCATGTTA       False  Singlet    12      0.587172        0  \n",
       "AATCATCCAGTTTACG       False  Singlet    12      0.496341        0  \n",
       "TGAAGGATCGTTACTT       False  Singlet    12      0.306024        0  \n",
       "...                      ...      ...   ...           ...      ...  \n",
       "CGGTGAGAGCACTAGT       False  Singlet    12      0.367999        0  \n",
       "GATCAAGAGGTTAGAG       False  Singlet    12      0.269336        0  \n",
       "GCATGAGCACAGCCAT       False  Singlet    12      0.249449        0  \n",
       "TTGACATCAGCAAGTG       False  Singlet    12      0.314412        0  \n",
       "CATCCTCAGAGGAAGG       False  Singlet    12      0.334409        0  \n",
       "\n",
       "[1232 rows x 15 columns]"
      ]
     },
     "execution_count": 35,
     "metadata": {},
     "output_type": "execute_result"
    }
   ],
   "source": [
    "c0.obs"
   ]
  },
  {
   "cell_type": "code",
   "execution_count": 82,
   "metadata": {},
   "outputs": [
    {
     "name": "stdout",
     "output_type": "stream",
     "text": [
      "1232 cells, 4000 genes\n",
      "MALAT1:1232 (100.0%)\n",
      "B2M:1159 (94.1%)\n",
      "MT-CO1:1070 (86.9%)\n",
      "PTPRC:996 (80.8%)\n",
      "MT-ATP6:875 (71.0%)\n",
      "PLCG2:804 (65.3%)\n",
      "HLA-B:792 (64.3%)\n",
      "MT-CO3:737 (59.8%)\n",
      "MBNL1:704 (57.1%)\n",
      "HBB:646 (52.4%)\n",
      "MT-CYB:642 (52.1%)\n",
      "GNLY:636 (51.6%)\n",
      "ACTB:619 (50.2%)\n",
      "MT-CO2:613 (49.8%)\n",
      "MT-ND4:604 (49.0%)\n",
      "ARHGAP15:594 (48.2%)\n",
      "ZEB2:571 (46.3%)\n",
      "TXNIP:569 (46.2%)\n",
      "EEF1A1:563 (45.7%)\n",
      "UTRN:563 (45.7%)\n"
     ]
    }
   ],
   "source": [
    "cell_count, gene_count = c0.shape\n",
    "print(f\"{cell_count} cells, {gene_count} genes\")\n",
    "gene_table = {}\n",
    "\n",
    "for cell_no in range(cell_count):\n",
    "    # print(f\"{cell_no}:{c0.obs.index[cell_no]}\")\n",
    "    b = c0.X[cell_no] > 0.0\n",
    "    genes = c0.var.index[b]\n",
    "    for gene in genes:\n",
    "        if gene in gene_table:\n",
    "            gene_table[gene] += 1\n",
    "        else:\n",
    "            gene_table[gene] = 1\n",
    "gene_table = dict(sorted(gene_table.items(), key=lambda x:x[1], reverse=True))\n",
    "\n",
    "for gene in list(gene_table.keys())[0:20]:\n",
    "    print(f\"{gene}:{gene_table[gene]} ({gene_table[gene]/cell_count*100:4.1f}%)\")\n",
    "            \n",
    "    "
   ]
  },
  {
   "cell_type": "code",
   "execution_count": 93,
   "metadata": {},
   "outputs": [],
   "source": [
    "import anndata as ad\n",
    "def calculate_highest_frequency_genes(adata: ad.AnnData, number_of_genes:int = 20, verbose=False) -> None:\n",
    "    cell_count, gene_count = adata.shape\n",
    "    if verbose:\n",
    "        print(f\"{cell_count} cells, {gene_count} genes\")\n",
    "    gene_table = {}\n",
    "    \n",
    "    for cell_no in range(cell_count):\n",
    "        b = adata.X[cell_no] > 0.0\n",
    "        genes = adata.var.index[b]\n",
    "        for gene in genes:\n",
    "            if gene in gene_table:\n",
    "                gene_table[gene] += 1\n",
    "            else:\n",
    "                gene_table[gene] = 1\n",
    "    gene_table = dict(sorted(gene_table.items(), key=lambda x:x[1], reverse=True))\n",
    "\n",
    "    gene_list = list(gene_table.keys())[0:number_of_genes]\n",
    "    if verbose:\n",
    "        for gene in gene_list:\n",
    "            print(f\"{gene}:{gene_table[gene]} ({gene_table[gene]/cell_count*100:4.1f}%)\")\n",
    "    return gene_list\n",
    "            "
   ]
  },
  {
   "cell_type": "code",
   "execution_count": 94,
   "metadata": {},
   "outputs": [
    {
     "data": {
      "text/plain": [
       "['MALAT1',\n",
       " 'B2M',\n",
       " 'MT-CO1',\n",
       " 'PTPRC',\n",
       " 'MT-ATP6',\n",
       " 'PLCG2',\n",
       " 'HLA-B',\n",
       " 'MT-CO3',\n",
       " 'MBNL1',\n",
       " 'HBB',\n",
       " 'MT-CYB',\n",
       " 'GNLY',\n",
       " 'ACTB',\n",
       " 'MT-CO2',\n",
       " 'MT-ND4',\n",
       " 'ARHGAP15',\n",
       " 'ZEB2',\n",
       " 'TXNIP',\n",
       " 'EEF1A1',\n",
       " 'UTRN']"
      ]
     },
     "execution_count": 94,
     "metadata": {},
     "output_type": "execute_result"
    }
   ],
   "source": [
    "calculate_highest_frequency_genes(c0)"
   ]
  },
  {
   "cell_type": "code",
   "execution_count": 95,
   "metadata": {},
   "outputs": [
    {
     "data": {
      "text/plain": [
       "['0',\n",
       " '1',\n",
       " '2',\n",
       " '3',\n",
       " '4',\n",
       " '5',\n",
       " '6',\n",
       " '7',\n",
       " '8',\n",
       " '9',\n",
       " '10',\n",
       " '11',\n",
       " '12',\n",
       " '13',\n",
       " '14',\n",
       " '15',\n",
       " '16',\n",
       " '17',\n",
       " '18']"
      ]
     },
     "execution_count": 95,
     "metadata": {},
     "output_type": "execute_result"
    }
   ],
   "source": [
    "clusters"
   ]
  },
  {
   "cell_type": "code",
   "execution_count": 97,
   "metadata": {},
   "outputs": [
    {
     "name": "stdout",
     "output_type": "stream",
     "text": [
      "Cluster:0. Genes: ['MALAT1', 'B2M', 'MT-CO1', 'PTPRC', 'MT-ATP6', 'PLCG2', 'HLA-B', 'MT-CO3', 'MBNL1', 'HBB', 'MT-CYB', 'GNLY', 'ACTB', 'MT-CO2', 'MT-ND4', 'ARHGAP15', 'ZEB2', 'TXNIP', 'EEF1A1', 'UTRN']\n",
      "Cluster:1. Genes: ['MALAT1', 'B2M', 'MT-CO1', 'PTPRC', 'PLCG2', 'MBNL1', 'HLA-B', 'MT-CO3', 'MT-ATP6', 'ARHGAP15', 'UTRN', 'ZEB2', 'ACTB', 'PRKCH', 'DDX5', 'RABGAP1L', 'SYNE2', 'SYNE1', 'FYN', 'HBB']\n",
      "Cluster:2. Genes: ['MALAT1', 'B2M', 'MT-CO1', 'PLCG2', 'PTPRC', 'ARHGAP15', 'HLA-B', 'MBNL1', 'EEF1A1', 'MT-ATP6', 'MT-CO3', 'MT-CYB', 'HBB', 'MT-ND4', 'PARP8', 'ACTB', 'MT-CO2', 'RORA', 'RPL11', 'IL7R']\n",
      "Cluster:3. Genes: ['MALAT1', 'B2M', 'MT-CO1', 'PLCG2', 'PTPRC', 'HLA-B', 'MT-ATP6', 'MT-CO3', 'HBB', 'MBNL1', 'GNLY', 'ACTB', 'S100A4', 'MT-CYB', 'MT-ND4', 'ZEB2', 'EEF1A1', 'DDX5', 'RPL41', 'MT-CO2']\n",
      "Cluster:4. Genes: ['MALAT1', 'MT-CO1', 'B2M', 'PLCG2', 'ARHGAP15', 'PTPRC', 'MBNL1', 'FOXP1', 'MT-CO3', 'HBB', 'MT-ATP6', 'MT-CYB', 'MT-ND4', 'HLA-B', 'EEF1A1', 'ANKRD44', 'ZBTB20', 'MT-CO2', 'MT-ND5', 'SMCHD1']\n",
      "Cluster:5. Genes: ['MALAT1', 'PLCG2', 'AFF3', 'MT-CO1', 'BANK1', 'BACH2', 'CD74', 'ARHGAP15', 'MBNL1', 'PTPRC', 'RALGPS2', 'FOXP1', 'B2M', 'FCHSD2', 'MT-ATP6', 'HBB', 'SMCHD1', 'ZCCHC7', 'MT-CO3', 'LYN']\n",
      "Cluster:6. Genes: ['MALAT1', 'PLCG2', 'AFF3', 'BACH2', 'BANK1', 'MT-CO1', 'FOXP1', 'ARHGAP15', 'CD74', 'PTPRC', 'MBNL1', 'RALGPS2', 'ADK', 'ZCCHC7', 'LYN', 'ANKRD44', 'FCHSD2', 'UTRN', 'SMCHD1', 'CAMK2D']\n",
      "Cluster:7. Genes: ['MALAT1', 'MT-CO1', 'PTPRC', 'B2M', 'PLCG2', 'MBNL1', 'HLA-B', 'MT-ATP6', 'ARHGAP15', 'UTRN', 'FYN', 'AOAH', 'SKAP1', 'PRKCH', 'MT-CO3', 'CBLB', 'HBB', 'PARP8', 'MT-ND4', 'MT-CYB']\n",
      "Cluster:8. Genes: ['MALAT1', 'BACH2', 'AFF3', 'PLCG2', 'MT-CO1', 'FOXP1', 'PDE4D', 'PCDH9', 'MBNL1', 'ZEB2', 'ARID1B', 'SSBP2', 'B2M', 'TCF4', 'CD74', 'EBF1', 'PTPRC', 'TMEM131L', 'MT-ATP6', 'ARHGAP15']\n",
      "Cluster:9. Genes: ['MALAT1', 'NEAT1', 'NAMPT', 'MT-CO1', 'PLCG2', 'DPYD', 'VCAN', 'ANXA1', 'PTPRC', 'ZEB2', 'ARHGAP26', 'AOAH', 'PLXDC2', 'MBNL1', 'FOS', 'QKI', 'LYST', 'SIPA1L1', 'MED13L', 'ATP2B1']\n",
      "Cluster:10. Genes: ['HBB', 'MALAT1', 'PLCG2', 'EEF1A1', 'MT-CO1', 'NFIA', 'TFRC', 'SLC25A21', 'MT-CO3', 'RPLP1', 'USP15', 'FTH1', 'RPL14', 'MT-ATP6', 'RPS23', 'RPL41', 'RPS8', 'MT-CO2', 'MBNL1', 'MT-CYB']\n",
      "Cluster:11. Genes: ['HBB', 'MALAT1', 'SOX6', 'PLCG2', 'SPTA1', 'SLC25A37', 'HBA1', 'ANK1', 'SLC4A1', 'TFRC', 'USP15', 'MT-CO1', 'HBA2', 'JAZF1', 'RABGAP1L', 'SLC25A21', 'CR1L', 'HBD', 'TSPAN5', 'CD36']\n",
      "Cluster:12. Genes: ['MALAT1', 'MT-CO1', 'PLCG2', 'B2M', 'PTPRC', 'GNLY', 'AOAH', 'UTRN', 'MBNL1', 'PRKCH', 'HLA-B', 'MT-ATP6', 'MT-CO3', 'ACTB', 'HBB', 'MT-CYB', 'CD247', 'MT-CO2', 'DDX5', 'MT-ND4']\n",
      "Cluster:13. Genes: ['MALAT1', 'MT-CO1', 'PLCG2', 'MT-CO3', 'EEF1A1', 'B2M', 'MT-ATP6', 'MBNL1', 'MT-CO2', 'CDK6', 'ARHGAP15', 'MT-ND4', 'RPL11', 'MT-CYB', 'RPLP1', 'LRBA', 'RPS2', 'RPL10', 'RPS24', 'MT-ND5']\n",
      "Cluster:14. Genes: ['NFIA', 'MALAT1', 'USP15', 'PLCG2', 'HBB', 'SLC25A21', 'MBNL1', 'PRKDC', 'ITGA4', 'LRBA', 'EEF1A1', 'TFRC', 'ANK1', 'RPL41', 'USP24', 'CD36', 'DDX5', 'RABGAP1L', 'RIF1', 'TBC1D5']\n",
      "Cluster:15. Genes: ['MALAT1', 'MT-CO1', 'PTMA', 'PLCG2', 'BACH2', 'AFF3', 'MBNL1', 'B2M', 'EEF1A1', 'EBF1', 'MT-CO2', 'SSBP2', 'RPLP1', 'ACTB', 'MT-CO3', 'HMGB1', 'DDX5', 'MT-ATP6', 'MT-ND4', 'MT-CYB']\n",
      "Cluster:16. Genes: ['MALAT1', 'MBNL1', 'MT-CO1', 'PLCG2', 'ARHGAP15', 'MT-ATP6', 'PTPRC', 'MT-CO3', 'PABPC1', 'B2M', 'MT-CO2', 'ZEB2', 'FOXP1', 'MT-CYB', 'CELF2', 'MED13L', 'UTRN', 'PAN3', 'MT-ND4', 'MT-ND5']\n",
      "Cluster:17. Genes: ['MALAT1', 'PLCG2', 'MT-CO1', 'B2M', 'CD74', 'ARHGAP15', 'MT-CO3', 'BANK1', 'PTPRC', 'MT-ATP6', 'AFF3', 'ANKRD44', 'HBB', 'RABGAP1L', 'RALGPS2', 'MBNL1', 'MT-CYB', 'HLA-B', 'PRKCB', 'EEF1A1']\n",
      "Cluster:18. Genes: ['MALAT1', 'MT-CO1', 'PTPRC', 'B2M', 'NAMPT', 'MT-ATP6', 'PLCG2', 'NEAT1', 'UTRN', 'MT-CO3', 'LYN', 'MT-CO2', 'MT-ND4', 'ZEB2', 'MT-CYB', 'EEF1A1', 'FTH1', 'MBNL1', 'HLA-B', 'ATP2B1']\n"
     ]
    }
   ],
   "source": [
    "for cluster in clusters:\n",
    "    cdata = cluster_table[cluster].copy()\n",
    "    gene_list = calculate_highest_frequency_genes(cdata)\n",
    "    print(f\"Cluster:{cluster}. Genes: {gene_list}\")"
   ]
  },
  {
   "cell_type": "code",
   "execution_count": null,
   "metadata": {},
   "outputs": [],
   "source": []
  }
 ],
 "metadata": {
  "kernelspec": {
   "display_name": "Python 3 (ipykernel)",
   "language": "python",
   "name": "python3"
  },
  "language_info": {
   "codemirror_mode": {
    "name": "ipython",
    "version": 3
   },
   "file_extension": ".py",
   "mimetype": "text/x-python",
   "name": "python",
   "nbconvert_exporter": "python",
   "pygments_lexer": "ipython3",
   "version": "3.9.19"
  }
 },
 "nbformat": 4,
 "nbformat_minor": 4
}
