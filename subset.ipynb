{
 "cells": [
  {
   "cell_type": "markdown",
   "metadata": {},
   "source": [
    "# Subset Notebook\n",
    "\n",
    "Working towards analyzing clusters derived in the cluster notebook so that they can be used to create RAG vectors"
   ]
  },
  {
   "cell_type": "code",
   "execution_count": 1,
   "metadata": {},
   "outputs": [],
   "source": [
    "import warnings\n",
    "\n",
    "# import numba\n",
    "from numba.core.errors import NumbaDeprecationWarning, NumbaPendingDeprecationWarning\n",
    "\n",
    "warnings.filterwarnings(\"ignore\", category=DeprecationWarning)\n",
    "\n",
    "warnings.simplefilter(\"ignore\", category=NumbaDeprecationWarning)"
   ]
  },
  {
   "cell_type": "code",
   "execution_count": 20,
   "metadata": {},
   "outputs": [],
   "source": [
    "import scanpy as sc\n",
    "import pandas as pd\n",
    "import numpy as np\n",
    "import anndata as ad\n",
    "\n",
    "# import os\n",
    "from scipy.sparse import csr_matrix\n",
    "import seaborn as sns\n",
    "import matplotlib.pyplot as plt\n",
    "\n",
    "# import celltypist\n",
    "from celltypist import models\n",
    "import scarches as sca\n",
    "\n",
    "# import urllib.request\n",
    "\n",
    "warnings.filterwarnings(\"ignore\", category=pd.errors.PerformanceWarning)\n",
    "\n",
    "sc.set_figure_params(figsize=(5, 5))  # type: ignore"
   ]
  },
  {
   "cell_type": "code",
   "execution_count": 11,
   "metadata": {},
   "outputs": [
    {
     "data": {
      "text/plain": [
       "AnnData object with n_obs × n_vars = 9370 × 31208\n",
       "    obs: 'n_genes_by_counts', 'total_counts', 'pct_counts_in_top_20_genes', 'total_counts_mt', 'pct_counts_mt', 'total_counts_ribo', 'pct_counts_ribo', 'total_counts_hb', 'pct_counts_hb', 'outlier', 'mt_outlier', 'DF_score', 'batch', 'size_factors', 'leiden_2'\n",
       "    var: 'gene_ids', 'feature_types', 'n_cells_by_counts', 'mean_counts', 'pct_dropout_by_counts', 'total_counts', 'highly_variable'"
      ]
     },
     "execution_count": 11,
     "metadata": {},
     "output_type": "execute_result"
    }
   ],
   "source": [
    "adata = sc.read_h5ad(\"data/subset.h5ad\")\n",
    "adata"
   ]
  },
  {
   "cell_type": "code",
   "execution_count": 28,
   "metadata": {},
   "outputs": [],
   "source": [
    "def get_highly_variable_genes(adata: ad.AnnData) -> ad.AnnData:\n",
    "    b = adata.var[adata.var.highly_variable]\n",
    "    return adata[:, b.index]\n",
    "\n",
    "hvar = get_highly_variable_genes(adata)"
   ]
  },
  {
   "cell_type": "code",
   "execution_count": 29,
   "metadata": {},
   "outputs": [
    {
     "name": "stdout",
     "output_type": "stream",
     "text": [
      "['0', '1', '2', '3', '4', '5', '6', '7', '8', '9', '10', '11', '12', '13', '14', '15', '16', '17', '18']\n"
     ]
    }
   ],
   "source": [
    "def get_cluster_names(adata: ad.AnnData, criterion=\"leiden_2\") -> list[str]:\n",
    "    clusters = [\n",
    "        str(x) for x in sorted([int(cluster) for cluster in adata.obs[criterion].unique()])\n",
    "    ]\n",
    "    return clusters\n",
    "print(get_cluster_names(hvar))"
   ]
  },
  {
   "cell_type": "code",
   "execution_count": 30,
   "metadata": {},
   "outputs": [
    {
     "name": "stdout",
     "output_type": "stream",
     "text": [
      "Length of cluster table: 19\n"
     ]
    }
   ],
   "source": [
    "from typing import Any\n",
    "\n",
    "def partition_clusters(adata: ad.AnnData, criterion=\"leiden_2\") -> dict[str, ad.AnnData]:\n",
    "    clusters = get_cluster_names(adata, criterion)\n",
    "    cluster_table: dict[str, Any] = {}\n",
    "    for cluster in clusters:\n",
    "        subset = adata[adata.obs[criterion] == cluster]\n",
    "        cluster_table[cluster] = subset.copy()\n",
    "    return cluster_table\n",
    "\n",
    "cluster_table = partition_clusters(hvar)\n",
    "print(f\"Length of cluster table: {len(cluster_table)}\")\n",
    "assert isinstance(cluster_table[list(cluster_table.keys())[0]], ad.AnnData) # ensure that we are dealing with copies, not slices"
   ]
  },
  {
   "cell_type": "code",
   "execution_count": 31,
   "metadata": {},
   "outputs": [],
   "source": [
    "def calculate_highest_frequency_genes(adata: ad.AnnData, number_of_genes:int = 20, verbose=False) -> None:\n",
    "    cell_count, gene_count = adata.shape\n",
    "    if verbose:\n",
    "        print(f\"{cell_count} cells, {gene_count} genes\")\n",
    "    gene_table = {}\n",
    "    \n",
    "    for cell_no in range(cell_count):\n",
    "        b = adata.X[cell_no] > 0.0\n",
    "        genes = adata.var.index[b]\n",
    "        for gene in genes:\n",
    "            if gene in gene_table:\n",
    "                gene_table[gene] += 1\n",
    "            else:\n",
    "                gene_table[gene] = 1\n",
    "    gene_table = dict(sorted(gene_table.items(), key=lambda x:x[1], reverse=True))\n",
    "\n",
    "    gene_list = list(gene_table.keys())[0:number_of_genes]\n",
    "    if verbose:\n",
    "        for gene in gene_list:\n",
    "            print(f\"{gene}:{gene_table[gene]} ({gene_table[gene]/cell_count*100:4.1f}%)\")\n",
    "    return gene_list\n",
    "            "
   ]
  },
  {
   "cell_type": "code",
   "execution_count": 32,
   "metadata": {},
   "outputs": [
    {
     "name": "stdout",
     "output_type": "stream",
     "text": [
      "0:['GNLY', 'TXNIP', 'S100A4', 'PRKCH']\n",
      "1:['GNLY', 'PRKCH', 'SYNE2', 'SYNE1', 'FYN', 'RIPOR2']\n",
      "2:['PARP8', 'RORA', 'RPL11', 'IL7R', 'CBLB', 'RPL10']\n",
      "3:['GNLY', 'TXNIP', 'S100A4', 'SYNE2', 'HLA-A']\n",
      "4:['RIPOR2', 'ZBTB20', 'SMCHD1', 'SKAP1', 'DOCK10', 'PDE3B']\n",
      "5:['SMCHD1', 'BANK1', 'BACH2', 'RALGPS2', 'FCHSD2', 'ZCCHC7', 'LYN', 'ADK', 'CAMK2D', 'MEF2C']\n",
      "6:['RIPOR2', 'ZBTB20', 'SMCHD1', 'BANK1', 'BACH2', 'RALGPS2', 'FCHSD2', 'ZCCHC7', 'LYN', 'ADK', 'CAMK2D', 'MEF2C']\n",
      "7:['PRKCH', 'FYN', 'PARP8', 'CBLB', 'SKAP1', 'HLA-B', 'AOAH', 'ATP8A1']\n",
      "8:['BACH2', 'ZCCHC7', 'LYN', 'PDE4D', 'PCDH9', 'ARID1B', 'SSBP2', 'TCF4', 'EBF1', 'TMEM131L', 'ACSM3']\n",
      "9:['AOAH', 'NEAT1', 'NAMPT', 'DPYD', 'VCAN', 'ANXA1', 'ARHGAP26', 'PLXDC2', 'FOS', 'QKI', 'LYST', 'SIPA1L1', 'MED13L', 'ATP2B1', 'JMJD1C', 'HIF1A', 'LRMDA', 'STK17B']\n",
      "10:['RPL11', 'NFIA', 'TFRC', 'SLC25A21', 'RPLP1', 'USP15', 'FTH1', 'RPL14', 'RPS23', 'RPS8', 'ITGA4', 'CD36', 'RPL5']\n",
      "11:['TFRC', 'SLC25A21', 'USP15', 'CD36', 'SOX6', 'SPTA1', 'SLC25A37', 'HBA1', 'ANK1', 'SLC4A1', 'HBA2', 'JAZF1', 'RABGAP1L', 'CR1L', 'HBD', 'TSPAN5', 'CA1', 'ASAP1', 'HBM', 'USP32', 'BMP2K']\n",
      "12:['GNLY', 'TXNIP', 'PRKCH', 'SYNE1', 'PARP8', 'HLA-B', 'AOAH', 'PTPRC', 'CD247', 'ZEB2']\n",
      "13:['RPL11', 'RPL10', 'RPLP1', 'RPS23', 'RPL5', 'ZEB2', 'CDK6', 'ARHGAP15', 'LRBA', 'RPS2', 'RPS24', 'MT-ND5', 'RUNX1']\n",
      "14:['NFIA', 'TFRC', 'SLC25A21', 'USP15', 'ITGA4', 'CD36', 'ANK1', 'RABGAP1L', 'LRBA', 'PRKDC', 'USP24', 'RIF1', 'TBC1D5', 'MBOAT2', 'HNRNPH1', 'GNAQ', 'HMGB1']\n",
      "15:['BACH2', 'ARID1B', 'SSBP2', 'TCF4', 'EBF1', 'RPLP1', 'RPS23', 'HMGB1', 'MALAT1', 'MT-CO1', 'PTMA', 'PLCG2', 'ACTB', 'MIR181A1HG']\n",
      "16:['DOCK10', 'MED13L', 'JMJD1C', 'PTPRC', 'ZEB2', 'ARHGAP15', 'MT-ND5', 'MALAT1', 'MT-CO1', 'PLCG2', 'MBNL1', 'PABPC1', 'MT-CYB', 'CELF2', 'UTRN', 'PAN3']\n",
      "17:['RIPOR2', 'ZBTB20', 'BANK1', 'RALGPS2', 'HLA-B', 'RABGAP1L', 'PTPRC', 'ARHGAP15', 'MALAT1', 'MT-CO1', 'PLCG2', 'MBNL1', 'MT-CYB', 'CD74', 'ANKRD44', 'PRKCB', 'CDK14']\n",
      "18:['LYN', 'HLA-B', 'NEAT1', 'NAMPT', 'LYST', 'MED13L', 'ATP2B1', 'FTH1', 'PTPRC', 'ZEB2', 'ARHGAP15', 'MT-ND5', 'MALAT1', 'MT-CO1', 'PLCG2', 'MBNL1', 'MT-CYB', 'UTRN', 'PRKCB', 'MT-CO3', 'MT-CO2', 'MT-ND4', 'EEF1A1']\n"
     ]
    }
   ],
   "source": [
    "def calculate_gene_signature_per_cluster(cluster_table: dict[str, ad.AnnData], \n",
    "                                         genes_per_cluster=25,\n",
    "                                         repeat_limit=5,\n",
    "                                        )-> dict[str:list[str]]:\n",
    "    gene_dict = {}\n",
    "    for cluster in cluster_table:\n",
    "        cdata = cluster_table[cluster]\n",
    "        gene_list = calculate_highest_frequency_genes(cdata, genes_per_cluster)\n",
    "        # print(f\"Cluster:{cluster}. Genes: {gene_list}\")\n",
    "        for gene in gene_list:\n",
    "            if gene in gene_dict:\n",
    "                gene_dict[gene].append(cluster)\n",
    "            else:\n",
    "                gene_dict[gene] = [cluster]\n",
    "        # eliminate genes that are present \"everywhere\"\n",
    "        gene_dict = {k:v for k,v in gene_dict.items() if len(v) < repeat_limit}\n",
    "\n",
    "    cluster_dict = {k:list() for k in cluster_table}\n",
    "    for gene in gene_dict:\n",
    "        clusters = gene_dict[gene]\n",
    "        for cluster in clusters:\n",
    "            cluster_dict[cluster].append(gene)\n",
    "    return cluster_dict\n",
    "\n",
    "cluster_dict = calculate_gene_signature_per_cluster(cluster_table)\n",
    "for cluster in cluster_dict:\n",
    "    print(f\"{cluster}:{cluster_dict[cluster]}\")\n"
   ]
  },
  {
   "cell_type": "code",
   "execution_count": null,
   "metadata": {},
   "outputs": [],
   "source": [
    "\n"
   ]
  }
 ],
 "metadata": {
  "kernelspec": {
   "display_name": "Python 3 (ipykernel)",
   "language": "python",
   "name": "python3"
  },
  "language_info": {
   "codemirror_mode": {
    "name": "ipython",
    "version": 3
   },
   "file_extension": ".py",
   "mimetype": "text/x-python",
   "name": "python",
   "nbconvert_exporter": "python",
   "pygments_lexer": "ipython3",
   "version": "3.9.19"
  }
 },
 "nbformat": 4,
 "nbformat_minor": 4
}
