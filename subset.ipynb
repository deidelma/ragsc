{
 "cells": [
  {
   "cell_type": "markdown",
   "metadata": {},
   "source": [
    "# Subset Notebook\n",
    "\n",
    "Working towards analyzing clusters derived in the cluster notebook so that they can be used to create RAG vectors"
   ]
  },
  {
   "cell_type": "code",
   "execution_count": 67,
   "metadata": {},
   "outputs": [],
   "source": [
    "import warnings\n",
    "\n",
    "# import numba\n",
    "from numba.core.errors import NumbaDeprecationWarning, NumbaPendingDeprecationWarning\n",
    "\n",
    "warnings.filterwarnings(\"ignore\", category=DeprecationWarning)\n",
    "\n",
    "warnings.simplefilter(\"ignore\", category=NumbaDeprecationWarning)\n",
    "warnings.simplefilter(\"ignore\", category=NumbaPendingDeprecationWarning)"
   ]
  },
  {
   "cell_type": "code",
   "execution_count": 68,
   "metadata": {},
   "outputs": [],
   "source": [
    "import scanpy as sc\n",
    "import pandas as pd\n",
    "import numpy as np\n",
    "import anndata as ad\n",
    "\n",
    "# import os\n",
    "from scipy.sparse import csr_matrix\n",
    "import seaborn as sns\n",
    "import matplotlib.pyplot as plt\n",
    "\n",
    "# import celltypist\n",
    "# from celltypist import models\n",
    "# import scarches as sca\n",
    "\n",
    "# import urllib.request\n",
    "\n",
    "warnings.filterwarnings(\"ignore\", category=pd.errors.PerformanceWarning)\n",
    "\n",
    "sc.set_figure_params(figsize=(5, 5))  # type: ignore"
   ]
  },
  {
   "cell_type": "code",
   "execution_count": 24,
   "metadata": {},
   "outputs": [
    {
     "data": {
      "text/plain": [
       "AnnData object with n_obs × n_vars = 9370 × 31208\n",
       "    obs: 'n_genes_by_counts', 'total_counts', 'pct_counts_in_top_20_genes', 'total_counts_mt', 'pct_counts_mt', 'total_counts_ribo', 'pct_counts_ribo', 'total_counts_hb', 'pct_counts_hb', 'outlier', 'mt_outlier', 'DF_score', 'batch', 'size_factors', 'leiden_2'\n",
       "    var: 'gene_ids', 'feature_types', 'n_cells_by_counts', 'mean_counts', 'pct_dropout_by_counts', 'total_counts', 'highly_variable'"
      ]
     },
     "execution_count": 24,
     "metadata": {},
     "output_type": "execute_result"
    }
   ],
   "source": [
    "adata = sc.read_h5ad(\"data/subset.h5ad\")\n",
    "adata"
   ]
  },
  {
   "cell_type": "code",
   "execution_count": 25,
   "metadata": {},
   "outputs": [],
   "source": [
    "def get_highly_variable_genes(adata: ad.AnnData) -> ad.AnnData:\n",
    "    b = adata.var[adata.var.highly_variable]\n",
    "    return adata[:, b.index] # type: ignore\n",
    "\n",
    "hvar = get_highly_variable_genes(adata)"
   ]
  },
  {
   "cell_type": "code",
   "execution_count": 26,
   "metadata": {},
   "outputs": [
    {
     "name": "stdout",
     "output_type": "stream",
     "text": [
      "['0', '1', '2', '3', '4', '5', '6', '7', '8', '9', '10', '11', '12', '13', '14', '15', '16', '17', '18']\n"
     ]
    }
   ],
   "source": [
    "def get_cluster_names(adata: ad.AnnData, criterion=\"leiden_2\") -> list[str]:\n",
    "    clusters = [\n",
    "        str(x) for x in sorted([int(cluster) for cluster in adata.obs[criterion].unique()])\n",
    "    ]\n",
    "    return clusters\n",
    "print(get_cluster_names(hvar))"
   ]
  },
  {
   "cell_type": "code",
   "execution_count": 27,
   "metadata": {},
   "outputs": [
    {
     "name": "stdout",
     "output_type": "stream",
     "text": [
      "Length of cluster table: 19\n"
     ]
    }
   ],
   "source": [
    "from typing import Any\n",
    "\n",
    "def partition_clusters(adata: ad.AnnData, criterion=\"leiden_2\") -> dict[str, ad.AnnData]:\n",
    "    clusters = get_cluster_names(adata, criterion)\n",
    "    cluster_table: dict[str, Any] = {}\n",
    "    for cluster in clusters:\n",
    "        subset = adata[adata.obs[criterion] == cluster] # type: ignore\n",
    "        cluster_table[cluster] = subset.copy()\n",
    "    return cluster_table\n",
    "\n",
    "cluster_table = partition_clusters(hvar)\n",
    "print(f\"Length of cluster table: {len(cluster_table)}\")\n",
    "assert isinstance(cluster_table[list(cluster_table.keys())[0]], ad.AnnData) # ensure that we are dealing with copies, not slices"
   ]
  },
  {
   "cell_type": "code",
   "execution_count": 49,
   "metadata": {},
   "outputs": [],
   "source": [
    "def calculate_highest_frequency_genes(adata: ad.AnnData, number_of_genes:int = 20, expression_threshold=0.0, verbose=False) -> list[str]:\n",
    "    cell_count, gene_count = adata.shape\n",
    "    if verbose:\n",
    "        print(f\"{cell_count} cells, {gene_count} genes\")\n",
    "    gene_table = {}\n",
    "    \n",
    "    for cell_no in range(cell_count):\n",
    "        b = adata.X[cell_no] > expression_threshold # type: ignore\n",
    "        genes = adata.var.index[b]\n",
    "        for gene in genes:\n",
    "            if gene in gene_table:\n",
    "                gene_table[gene] += 1\n",
    "            else:\n",
    "                gene_table[gene] = 1\n",
    "    gene_table = dict(sorted(gene_table.items(), key=lambda x:x[1], reverse=True))\n",
    "\n",
    "    gene_list = list(gene_table.keys())[0:number_of_genes]\n",
    "    if verbose:\n",
    "        for gene in gene_list:\n",
    "            print(f\"{gene}:{gene_table[gene]} ({gene_table[gene]/cell_count*100:4.1f}%)\")\n",
    "    return gene_list\n",
    "            "
   ]
  },
  {
   "cell_type": "code",
   "execution_count": 51,
   "metadata": {},
   "outputs": [
    {
     "name": "stdout",
     "output_type": "stream",
     "text": [
      "0:['GNLY', 'S100A4', 'TXNIP', 'PRKCH', 'DDX5']\n",
      "1:['TXNIP', 'PRKCH', 'DDX5', 'SYNE2', 'SYNE1', 'FYN', 'RIPOR2', 'PARP8', 'THEMIS']\n",
      "2:['PARP8', 'CBLB', 'RORA', 'IL7R', 'RPL41', 'PLCB1', 'SKAP1', 'RPL11']\n",
      "3:['GNLY', 'S100A4', 'TXNIP', 'DDX5', 'RPL41', 'HLA-A']\n",
      "4:['RIPOR2', 'SKAP1', 'FOXP1', 'PDE3B', 'INPP4B', 'SMCHD1', 'MAML2', 'ATM']\n",
      "5:['FOXP1', 'SMCHD1', 'BACH2', 'BANK1', 'RALGPS2', 'FCHSD2', 'ADK', 'ZCCHC7', 'CAMK2D', 'LYN', 'ARHGAP24']\n",
      "6:['RIPOR2', 'FOXP1', 'SMCHD1', 'BACH2', 'BANK1', 'RALGPS2', 'FCHSD2', 'ADK', 'ZCCHC7', 'CAMK2D', 'LYN', 'MEF2C', 'PRKCB']\n",
      "7:['PRKCH', 'FYN', 'PARP8', 'CBLB', 'SKAP1', 'AOAH', 'CEMIP2', 'ATP8A1', 'CNOT6L']\n",
      "8:['FOXP1', 'BACH2', 'ZCCHC7', 'CAMK2D', 'LYN', 'PCDH9', 'PDE4D', 'SSBP2', 'TCF4', 'ARID1B', 'EBF1', 'ACSM3', 'TMEM131L']\n",
      "9:['AOAH', 'NAMPT', 'VCAN', 'NEAT1', 'DPYD', 'ANXA1', 'ARHGAP26', 'PLXDC2', 'FOS', 'QKI', 'SIPA1L1', 'ATP2B1', 'LRMDA', 'LYST', 'HIF1A', 'JMJD1C', 'MED13L', 'VIM', 'STK17B']\n",
      "10:['RPL41', 'SLC25A21', 'NFIA', 'TFRC', 'RPLP1', 'CD36', 'USP15', 'HIST1H3B', 'FTH1', 'RPL14', 'HBA1', 'RPS23', 'CA1']\n",
      "11:['SLC25A21', 'NFIA', 'TFRC', 'CD36', 'USP15', 'HBA1', 'CA1', 'SOX6', 'SPTA1', 'SLC25A37', 'SLC4A1', 'HBA2', 'ANK1', 'JAZF1', 'HBD', 'CR1L', 'TSPAN5', 'HBM', 'ASAP1', 'USP32']\n",
      "12:['GNLY', 'PRKCH', 'SYNE1', 'PARP8', 'AOAH', 'CD247']\n",
      "13:['MED13L', 'RPLP1', 'RPS23', 'CDK6', 'ZNF385D', 'LRBA', 'NKAIN2', 'MSI2', 'ETV6', 'ITGA4']\n",
      "14:['SLC25A21', 'NFIA', 'TFRC', 'CD36', 'USP15', 'CA1', 'LRBA', 'ITGA4', 'CCDC26', 'MT-ND2', 'GNAQ', 'TBC1D5']\n",
      "15:['BACH2', 'SSBP2', 'TCF4', 'EBF1', 'RPLP1', 'HIST1H3B', 'RPS23', 'PTMA', 'HMGB1', 'HIST1H4C', 'KCNQ5', 'MIR181A1HG']\n",
      "16:['PDE4D', 'LRMDA', 'LYST', 'LYZ', 'ATP8B4', 'HDAC9', 'HLA-DRA', 'PABPC1']\n",
      "17:['RIPOR2', 'SMCHD1', 'BANK1', 'RALGPS2', 'ARHGAP24', 'PRKCB', 'PDE4D', 'EBF1', 'IGKC']\n",
      "18:['LYN', 'PRKCB', 'NAMPT', 'NEAT1', 'LYST', 'MED13L', 'FTH1', 'CTSS', 'TCF7L2', 'MTSS1']\n"
     ]
    }
   ],
   "source": [
    "def calculate_gene_signature_per_cluster(cluster_table: dict[str, ad.AnnData], \n",
    "                                         genes_per_cluster=25,\n",
    "                                         repeat_limit=5,\n",
    "                                         expression_threshold=0.0\n",
    "                                        )-> dict[str,list[str]]:\n",
    "    gene_dict = {}\n",
    "    for cluster in cluster_table:\n",
    "        cdata = cluster_table[cluster]\n",
    "        gene_list = calculate_highest_frequency_genes(\n",
    "                                                    adata=cdata, \n",
    "                                                    number_of_genes=genes_per_cluster, \n",
    "                                                    expression_threshold=expression_threshold)\n",
    "        # print(f\"Cluster:{cluster}. Genes: {gene_list}\")\n",
    "        for gene in gene_list:\n",
    "            if gene in gene_dict:\n",
    "                gene_dict[gene].append(cluster)\n",
    "            else:\n",
    "                gene_dict[gene] = [cluster]\n",
    "        # eliminate genes that are present \"everywhere\"\n",
    "        # in the following len(v) represents the number of clusters expressing the gene k\n",
    "    gene_dict = {k:v for k,v in gene_dict.items() if len(v) < repeat_limit}\n",
    "\n",
    "    # now calcuate the gene list for each cluster\n",
    "    cluster_dict = {k:list() for k in cluster_table}\n",
    "    for gene in gene_dict:\n",
    "        clusters = gene_dict[gene]\n",
    "        for cluster in clusters:\n",
    "            cluster_dict[cluster].append(gene)\n",
    "    return cluster_dict\n",
    "\n",
    "cluster_dict = calculate_gene_signature_per_cluster(cluster_table, expression_threshold=1.5)\n",
    "for cluster in cluster_dict:\n",
    "    print(f\"{cluster}:{cluster_dict[cluster]}\")\n"
   ]
  },
  {
   "cell_type": "code",
   "execution_count": 79,
   "metadata": {},
   "outputs": [
    {
     "data": {
      "text/plain": [
       "{'ACTB',\n",
       " 'AFF3',\n",
       " 'ANKRD44',\n",
       " 'ARHGAP15',\n",
       " 'B2M',\n",
       " 'CD74',\n",
       " 'EEF1A1',\n",
       " 'HBB',\n",
       " 'HLA-B',\n",
       " 'MALAT1',\n",
       " 'MBNL1',\n",
       " 'MT-ATP6',\n",
       " 'MT-CO1',\n",
       " 'MT-CO2',\n",
       " 'MT-CO3',\n",
       " 'MT-CYB',\n",
       " 'MT-ND4',\n",
       " 'MT-ND5',\n",
       " 'PLCG2',\n",
       " 'PTPRC',\n",
       " 'RABGAP1L',\n",
       " 'UTRN',\n",
       " 'ZBTB20',\n",
       " 'ZEB2'}"
      ]
     },
     "execution_count": 79,
     "metadata": {},
     "output_type": "execute_result"
    }
   ],
   "source": [
    "def find_redundant_genes(adata: ad.AnnData, genes_per_cluster=25, repeat_limit=5, expression_threshold=0.0) -> set[str]:\n",
    "    # common_genes: set[str] = set()\n",
    "    gene_dict = {}\n",
    "    for cluster in cluster_table:\n",
    "        cluster_adata = cluster_table[cluster]\n",
    "        gene_list = calculate_highest_frequency_genes(\n",
    "                                                        adata=cluster_adata, \n",
    "                                                        number_of_genes=genes_per_cluster,\n",
    "                                                        expression_threshold=expression_threshold)\n",
    "        # record which clusters express each gene\n",
    "        for gene in gene_list:\n",
    "            if gene in gene_dict:\n",
    "                gene_dict[gene].append(cluster)\n",
    "            else:\n",
    "                gene_dict[gene] = [cluster]\n",
    "    # filter out genes that are only present in a few clusters\n",
    "    gene_dict = {k:v for k,v in gene_dict.items() if len(v) >= repeat_limit}\n",
    "\n",
    "    # get the resulting list of gene names\n",
    "    gene_names = list(gene_dict.keys())\n",
    "    # filter out mitochondrial genes\n",
    "    # gene_names= list(filter(lambda gene: not gene.lower().startswith('mt-'), gene_names))\n",
    "    common_genes = set(gene_names)\n",
    "    \n",
    "    return common_genes\n",
    "        \n",
    "\n",
    "find_redundant_genes(adata, expression_threshold=1.5)"
   ]
  },
  {
   "cell_type": "code",
   "execution_count": 64,
   "metadata": {},
   "outputs": [
    {
     "name": "stdout",
     "output_type": "stream",
     "text": [
      "TGACCAAGTAGACAAA\n",
      "4000\n"
     ]
    }
   ],
   "source": [
    "#\n",
    "# need to extract data for a single cell\n",
    "#\n",
    "hv = get_highly_variable_genes(adata)\n",
    "cell_name = hv.obs.index[4]\n",
    "print(cell_name)\n",
    "gene_data = hv.X[4].copy() # type: ignore\n",
    "print(len(gene_data))\n",
    "\n"
   ]
  },
  {
   "cell_type": "code",
   "execution_count": 65,
   "metadata": {},
   "outputs": [
    {
     "name": "stdout",
     "output_type": "stream",
     "text": [
      "15\n"
     ]
    }
   ],
   "source": [
    "expression_threshold = 1.5\n",
    "b= gene_data > expression_threshold\n",
    "expression = gene_data[b]\n",
    "names = hv.var.index[b]\n",
    "assert expression.shape == names.shape\n",
    "redundant = find_redundant_genes(hv, expression_threshold=expression_threshold)\n",
    "genes = dict(sorted(dict(zip(names,expression)).items(), key=lambda x:x[1], reverse=True))\n",
    "genes = {k:v for k,v in genes.items() if k not in redundant and not k.startswith(\"MT-\")}\n",
    "print(len(genes))\n"
   ]
  },
  {
   "cell_type": "code",
   "execution_count": 66,
   "metadata": {},
   "outputs": [
    {
     "data": {
      "text/plain": [
       "{'RPL11': 1.8190973713412917,\n",
       " 'CEP350': 1.8190973713412917,\n",
       " 'GNLY': 1.8190973713412917,\n",
       " 'PTPN4': 1.8190973713412917,\n",
       " 'SMARCA5': 1.8190973713412917,\n",
       " 'KIAA0825': 1.8190973713412917,\n",
       " 'ORC5': 1.8190973713412917,\n",
       " 'SARAF': 1.8190973713412917,\n",
       " 'PDCD4': 1.8190973713412917,\n",
       " 'ABLIM1': 1.8190973713412917,\n",
       " 'FNBP4': 1.8190973713412917,\n",
       " 'SLC38A1': 1.8190973713412917,\n",
       " 'ZC3H13': 1.8190973713412917,\n",
       " 'CTDSPL2': 1.8190973713412917,\n",
       " 'NF1': 1.8190973713412917}"
      ]
     },
     "execution_count": 66,
     "metadata": {},
     "output_type": "execute_result"
    }
   ],
   "source": [
    "genes"
   ]
  },
  {
   "cell_type": "code",
   "execution_count": 89,
   "metadata": {},
   "outputs": [],
   "source": [
    "def get_gene_signature(adata: ad.AnnData,\n",
    "                   feature_index: int,\n",
    "                   expression_threshold=0.0,\n",
    "                   redundant_genes: set[str]=set(),\n",
    "                   verbose: bool = False) -> dict[str,float]:\n",
    "    \"\"\"Calculate the list of genes for the given cell based on the feature_index.  Only non-mitochondrial\n",
    "    genes with an expression level greater than the provided expression threshold are reported.\n",
    "\n",
    "    Args:\n",
    "        adata (ad.AnnData): The AnnData containing the cells.  Assume that only highly variable genes have been provided.\n",
    "        feature_index (int): The index of the cell to be measured\n",
    "        expression_threshold (float, optional): The minimum expression level. Defaults to 0.0, which returns all non-zero genes.\n",
    "        redundant_genes (set[str], optional): Genes to be filtered out from the final result. Defaults to the empty set.\n",
    "        verbose (bool, optional): Print intermediated data to standard output. Defaults to False.\n",
    "    Returns:\n",
    "        dict[str, float]: Dictionary with gene names as keys and expression as values.\n",
    "    \"\"\"\n",
    "    num_cells, _ = adata.shape\n",
    "    if feature_index < 0 or feature_index > num_cells-1:\n",
    "        raise ValueError(f\"Feature index ({feature_index}) outside the range of cells (0..{num_cells-1}) in the current dataset.\")\n",
    "    gene_data = adata.X[feature_index].copy() # type: ignore\n",
    "    if verbose:\n",
    "        print(f\"Started with {len(gene_data)} genes\")\n",
    "    # calculate the mask to find gene subset\n",
    "    b= gene_data > expression_threshold\n",
    "    expression = gene_data[b]\n",
    "    names = adata.var.index[b] \n",
    "    assert expression.shape == names.shape\n",
    "    if verbose:\n",
    "        print(f\"Found {len(names)} genes exceeding expression threshold.\")\n",
    "    \n",
    "    # sort the genes based on expression\n",
    "    genes = dict(sorted(dict(zip(names,expression)).items(), key=lambda x:x[1], reverse=True))\n",
    "    # remove redundant and mitochondrial genes\n",
    "    genes = {k:v for k,v in genes.items() if k not in redundant_genes and not k.startswith(\"MT-\")}\n",
    "    if verbose:\n",
    "        print(f\"Found {len(genes)} genes after filtering.\")\n",
    "    return genes"
   ]
  },
  {
   "cell_type": "code",
   "execution_count": 96,
   "metadata": {},
   "outputs": [
    {
     "name": "stdout",
     "output_type": "stream",
     "text": [
      "44\n"
     ]
    },
    {
     "data": {
      "text/plain": [
       "{'BANK1': 2.4271888792164433,\n",
       " 'ARID1B': 2.4271888792164433,\n",
       " 'PLEKHA2': 2.3061907112814617,\n",
       " 'LINC01619': 2.1685103296015886,\n",
       " 'BBX': 2.0088007503141467,\n",
       " 'LIX1-AS1': 2.0088007503141467,\n",
       " 'BACH2': 2.0088007503141467,\n",
       " 'JAZF1': 2.0088007503141467,\n",
       " 'JMJD1C': 2.0088007503141467,\n",
       " 'CHD9': 2.0088007503141467,\n",
       " 'COBLL1': 1.8186444515907547,\n",
       " 'ITPR1': 1.8186444515907547,\n",
       " 'ZSWIM6': 1.8186444515907547,\n",
       " 'FBXL17': 1.8186444515907547,\n",
       " 'CDK14': 1.8186444515907547,\n",
       " 'ADK': 1.8186444515907547,\n",
       " 'FCHSD2': 1.8186444515907547,\n",
       " 'PRH1': 1.8186444515907547,\n",
       " 'ZFAND6': 1.8186444515907547,\n",
       " 'PRKCB': 1.8186444515907547,\n",
       " 'ANKRD12': 1.8186444515907547,\n",
       " 'COP1': 1.5836324776071877,\n",
       " 'RALGPS2': 1.5836324776071877,\n",
       " 'USP34': 1.5836324776071877,\n",
       " 'IWS1': 1.5836324776071877,\n",
       " 'MGAT5': 1.5836324776071877,\n",
       " 'SP100': 1.5836324776071877,\n",
       " 'FOXP1': 1.5836324776071877,\n",
       " 'ACAP2': 1.5836324776071877,\n",
       " 'TAPT1': 1.5836324776071877,\n",
       " 'TMEM131L': 1.5836324776071877,\n",
       " 'EBF1': 1.5836324776071877,\n",
       " 'GMDS-DT': 1.5836324776071877,\n",
       " 'GFOD1': 1.5836324776071877,\n",
       " 'RIPOR2': 1.5836324776071877,\n",
       " 'HLA-DRB1': 1.5836324776071877,\n",
       " 'VPS41': 1.5836324776071877,\n",
       " 'TPD52': 1.5836324776071877,\n",
       " 'ZCCHC7': 1.5836324776071877,\n",
       " 'TTC17': 1.5836324776071877,\n",
       " 'TCF12': 1.5836324776071877,\n",
       " 'SSH2': 1.5836324776071877,\n",
       " 'SPAG9': 1.5836324776071877,\n",
       " 'PITPNC1': 1.5836324776071877}"
      ]
     },
     "execution_count": 96,
     "metadata": {},
     "output_type": "execute_result"
    }
   ],
   "source": [
    "expression_threshold = 1.5\n",
    "redundant = find_redundant_genes(hv, expression_threshold=expression_threshold)\n",
    "sig = get_gene_signature(adata=hv, \n",
    "                     feature_index=2, \n",
    "                     expression_threshold=expression_threshold, \n",
    "                     redundant_genes=redundant,\n",
    "                     verbose=False)\n",
    "print(len(sig))\n",
    "sig"
   ]
  },
  {
   "cell_type": "code",
   "execution_count": 81,
   "metadata": {},
   "outputs": [
    {
     "data": {
      "text/plain": [
       "(9370, 4000)"
      ]
     },
     "execution_count": 81,
     "metadata": {},
     "output_type": "execute_result"
    }
   ],
   "source": []
  },
  {
   "cell_type": "code",
   "execution_count": null,
   "metadata": {},
   "outputs": [],
   "source": []
  }
 ],
 "metadata": {
  "kernelspec": {
   "display_name": "Python 3 (ipykernel)",
   "language": "python",
   "name": "python3"
  },
  "language_info": {
   "codemirror_mode": {
    "name": "ipython",
    "version": 3
   },
   "file_extension": ".py",
   "mimetype": "text/x-python",
   "name": "python",
   "nbconvert_exporter": "python",
   "pygments_lexer": "ipython3",
   "version": "3.9.19"
  }
 },
 "nbformat": 4,
 "nbformat_minor": 4
}
