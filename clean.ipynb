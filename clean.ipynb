{
 "cells": [
  {
   "cell_type": "code",
   "execution_count": null,
   "metadata": {},
   "outputs": [],
   "source": [
    "#\n",
    "# test out cleaning up markdown files\n",
    "#"
   ]
  },
  {
   "cell_type": "code",
   "execution_count": 2,
   "metadata": {},
   "outputs": [
    {
     "name": "stderr",
     "output_type": "stream",
     "text": [
      "\u001b[32m2024-05-01 14:42:52.394\u001b[0m | \u001b[1mINFO    \u001b[0m | \u001b[36m__main__\u001b[0m:\u001b[36m<module>\u001b[0m:\u001b[36m9\u001b[0m - \u001b[1mfound 869 markdown files\u001b[0m\n"
     ]
    }
   ],
   "source": [
    "#\n",
    "# read the files\n",
    "#\n",
    "from pathlib import Path \n",
    "from loguru import logger\n",
    "\n",
    "data_path = Path('data')\n",
    "md_files = list(data_path.glob(\"*.md\"))\n",
    "logger.info(\"found %d markdown files\" % len(md_files,))"
   ]
  },
  {
   "cell_type": "code",
   "execution_count": 10,
   "metadata": {},
   "outputs": [],
   "source": [
    "import markdown\n",
    "from bs4 import BeautifulSoup\n",
    "\n",
    "def markdown_to_text(markdown_str:str)->str:\n",
    "    html = markdown.markdown(markdown_str)\n",
    "    soup = BeautifulSoup(html, features='html.parser')\n",
    "    lines = soup.get_text().split(\"\\n\")\n",
    "    lines = [line.strip().lower() for line in lines if len(line) > 0]\n",
    "    return \"\\n\".join(lines)"
   ]
  },
  {
   "cell_type": "code",
   "execution_count": 11,
   "metadata": {},
   "outputs": [
    {
     "data": {
      "text/plain": [
       "\"cdfm-20221130.md\\nla proposition du gouvernement\\nnotre proposition\\non aurait besoin des garanties plus solides\\ninquiétude pour la qualité\\non va au délà de ce qu'on a fait par le passé\\ncontre-positions?\\nudem\\n- automne de 2024\\n- conditions qui doivent être réalisées\\n- l'offre est intéressant\\nlaval\\n- faut être prudent\\n- une occasion dans la crise\\n- est-ce qu'il y a un risque que l'uq s'embarque dans la même direction\\n- il faut leur donner quelque chose\\ncontact priviligé\\nfmoq -- tient beaucoup à cette solution\\nil faut travailler avec eux\\nles gains sont intéressants\\nconclusion\""
      ]
     },
     "execution_count": 11,
     "metadata": {},
     "output_type": "execute_result"
    }
   ],
   "source": [
    "input_file = md_files[0]\n",
    "with open(input_file,mode=\"rt\", encoding=\"utf-8\") as f:\n",
    "    data = f.read()\n",
    "txt = markdown_to_text(data)\n",
    "txt"
   ]
  },
  {
   "cell_type": "code",
   "execution_count": 12,
   "metadata": {},
   "outputs": [],
   "source": [
    "from langchain_text_splitters import CharacterTextSplitter\n",
    "\n",
    "text_splitter = CharacterTextSplitter(\n",
    "    separator=\"\\n\",\n",
    "    chunk_size=256,\n",
    "    chunk_overlap=20\n",
    ")\n",
    "docs = text_splitter.create_documents([txt])"
   ]
  },
  {
   "cell_type": "code",
   "execution_count": 13,
   "metadata": {},
   "outputs": [
    {
     "data": {
      "text/plain": [
       "[Document(page_content=\"cdfm-20221130.md\\nla proposition du gouvernement\\nnotre proposition\\non aurait besoin des garanties plus solides\\ninquiétude pour la qualité\\non va au délà de ce qu'on a fait par le passé\\ncontre-positions?\\nudem\\n- automne de 2024\"),\n",
       " Document(page_content=\"- automne de 2024\\n- conditions qui doivent être réalisées\\n- l'offre est intéressant\\nlaval\\n- faut être prudent\\n- une occasion dans la crise\\n- est-ce qu'il y a un risque que l'uq s'embarque dans la même direction\\n- il faut leur donner quelque chose\"),\n",
       " Document(page_content='contact priviligé\\nfmoq -- tient beaucoup à cette solution\\nil faut travailler avec eux\\nles gains sont intéressants\\nconclusion')]"
      ]
     },
     "execution_count": 13,
     "metadata": {},
     "output_type": "execute_result"
    }
   ],
   "source": [
    "docs"
   ]
  },
  {
   "cell_type": "code",
   "execution_count": 17,
   "metadata": {},
   "outputs": [],
   "source": [
    "from langchain_openai import OpenAI\n",
    "from dotenv import load_dotenv\n",
    "load_dotenv()\n",
    "openai = OpenAI()"
   ]
  },
  {
   "cell_type": "code",
   "execution_count": 18,
   "metadata": {},
   "outputs": [],
   "source": [
    "from langchain_openai import OpenAIEmbeddings\n",
    "\n",
    "embedding_model = OpenAIEmbeddings()\n",
    "txts = [txt.page_content for txt in docs]\n",
    "embeddings = embedding_model.embed_documents(txts)\n"
   ]
  },
  {
   "cell_type": "code",
   "execution_count": 26,
   "metadata": {},
   "outputs": [
    {
     "name": "stdout",
     "output_type": "stream",
     "text": [
      "11\n",
      "9\n"
     ]
    },
    {
     "ename": "IndexError",
     "evalue": "list index out of range",
     "output_type": "error",
     "traceback": [
      "\u001b[0;31m---------------------------------------------------------------------------\u001b[0m",
      "\u001b[0;31mIndexError\u001b[0m                                Traceback (most recent call last)",
      "Cell \u001b[0;32mIn[26], line 23\u001b[0m\n\u001b[1;32m     21\u001b[0m \u001b[38;5;28mprint\u001b[39m(\u001b[38;5;28mlen\u001b[39m(metadata))\n\u001b[1;32m     22\u001b[0m \u001b[38;5;28;01mfor\u001b[39;00m i, doc \u001b[38;5;129;01min\u001b[39;00m \u001b[38;5;28menumerate\u001b[39m(docs):\n\u001b[0;32m---> 23\u001b[0m     doc\u001b[38;5;241m.\u001b[39mmetadata \u001b[38;5;241m=\u001b[39m {\u001b[38;5;124m'\u001b[39m\u001b[38;5;124mfilename\u001b[39m\u001b[38;5;124m'\u001b[39m:\u001b[43mmetadata\u001b[49m\u001b[43m[\u001b[49m\u001b[43mi\u001b[49m\u001b[43m]\u001b[49m[\u001b[38;5;124m\"\u001b[39m\u001b[38;5;124mfilename\u001b[39m\u001b[38;5;124m\"\u001b[39m],\n\u001b[1;32m     24\u001b[0m                     \u001b[38;5;124m'\u001b[39m\u001b[38;5;124mcreated\u001b[39m\u001b[38;5;124m'\u001b[39m: metadata[i][\u001b[38;5;124m'\u001b[39m\u001b[38;5;124mcreated\u001b[39m\u001b[38;5;124m'\u001b[39m],\n\u001b[1;32m     25\u001b[0m                     \u001b[38;5;124m'\u001b[39m\u001b[38;5;124mid\u001b[39m\u001b[38;5;124m'\u001b[39m: \u001b[38;5;124mf\u001b[39m\u001b[38;5;124m\"\u001b[39m\u001b[38;5;132;01m{\u001b[39;00mmetadata[i][\u001b[38;5;124m'\u001b[39m\u001b[38;5;124mfilename\u001b[39m\u001b[38;5;124m'\u001b[39m]\u001b[38;5;132;01m}\u001b[39;00m\u001b[38;5;132;01m{\u001b[39;00mi\u001b[38;5;132;01m:\u001b[39;00m\u001b[38;5;124m04d\u001b[39m\u001b[38;5;132;01m}\u001b[39;00m\u001b[38;5;124m\"\u001b[39m}\n\u001b[1;32m     26\u001b[0m \u001b[38;5;28mprint\u001b[39m(docs[\u001b[38;5;241m0\u001b[39m]\u001b[38;5;241m.\u001b[39mmetadata)\n",
      "\u001b[0;31mIndexError\u001b[0m: list index out of range"
     ]
    }
   ],
   "source": [
    "#\n",
    "# try langchain's markdown splitter\n",
    "#\n",
    "from typing import Any\n",
    "from datetime import datetime\n",
    "from langchain_text_splitters.markdown import MarkdownTextSplitter\n",
    "\n",
    "splitter = MarkdownTextSplitter()\n",
    "md_files = list(Path('data').glob(\"*.md\"))\n",
    "input_files = md_files[1:10]\n",
    "texts = []\n",
    "metadata : list[dict[str,Any]] = []\n",
    "for input in input_files:\n",
    "    with open(input) as f:\n",
    "        txt = f.read()\n",
    "    texts.append(txt)\n",
    "    modified: datetime = datetime.fromtimestamp(input.stat().st_mtime)\n",
    "    metadata.append({\"filename\":input.as_posix(),\"created\":f\"{modified}\"})\n",
    "docs = splitter.create_documents(texts)\n",
    "print(len(docs))\n",
    "print(len(metadata))\n",
    "for doc in docs:\n",
    "    doc.metadata = {'filename':metadata[i][\"filename\"],\n",
    "                    'created': metadata[i]['created'],\n",
    "                    'id': f\"{metadata[i]['filename']}{i:04d}\"}\n",
    "    i = i+ 1\n",
    "print(docs[0].metadata)"
   ]
  },
  {
   "cell_type": "code",
   "execution_count": null,
   "metadata": {},
   "outputs": [],
   "source": []
  }
 ],
 "metadata": {
  "kernelspec": {
   "display_name": "ragsc-In6je0iX-py3.12",
   "language": "python",
   "name": "python3"
  },
  "language_info": {
   "codemirror_mode": {
    "name": "ipython",
    "version": 3
   },
   "file_extension": ".py",
   "mimetype": "text/x-python",
   "name": "python",
   "nbconvert_exporter": "python",
   "pygments_lexer": "ipython3",
   "version": "3.12.3"
  }
 },
 "nbformat": 4,
 "nbformat_minor": 2
}
